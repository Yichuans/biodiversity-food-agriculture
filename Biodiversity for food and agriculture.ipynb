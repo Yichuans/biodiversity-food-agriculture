{
 "cells": [
  {
   "cell_type": "markdown",
   "metadata": {},
   "source": [
    "# Biodiversity for food and agriculture - Dec 2017\n",
    "\n",
    "The notebook assesses the contribution of biodiversity for food and agriculture through an analysis of overlay between IUCN's Red List of Threatened Species and the World Database on Protected Areas"
   ]
  },
  {
   "cell_type": "markdown",
   "metadata": {},
   "source": [
    "## Understanding the data"
   ]
  },
  {
   "cell_type": "code",
   "execution_count": 1,
   "metadata": {},
   "outputs": [],
   "source": [
    "import numpy as np\n",
    "import pandas as pd"
   ]
  },
  {
   "cell_type": "code",
   "execution_count": 2,
   "metadata": {},
   "outputs": [],
   "source": [
    "sis = pd.read_csv('sis_2017.csv')"
   ]
  },
  {
   "cell_type": "code",
   "execution_count": 5,
   "metadata": {},
   "outputs": [],
   "source": [
    "bfa = pd.read_csv('Food_FAO_2017_2.csv', delimiter=';')"
   ]
  },
  {
   "cell_type": "code",
   "execution_count": 6,
   "metadata": {
    "scrolled": false
   },
   "outputs": [
    {
     "data": {
      "text/html": [
       "<div>\n",
       "<style scoped>\n",
       "    .dataframe tbody tr th:only-of-type {\n",
       "        vertical-align: middle;\n",
       "    }\n",
       "\n",
       "    .dataframe tbody tr th {\n",
       "        vertical-align: top;\n",
       "    }\n",
       "\n",
       "    .dataframe thead th {\n",
       "        text-align: right;\n",
       "    }\n",
       "</style>\n",
       "<table border=\"1\" class=\"dataframe\">\n",
       "  <thead>\n",
       "    <tr style=\"text-align: right;\">\n",
       "      <th></th>\n",
       "      <th>objectid</th>\n",
       "      <th>id_no</th>\n",
       "      <th>binomial</th>\n",
       "      <th>presence</th>\n",
       "      <th>origin</th>\n",
       "      <th>seasonal</th>\n",
       "      <th>compiler</th>\n",
       "      <th>year</th>\n",
       "      <th>citation</th>\n",
       "      <th>source</th>\n",
       "      <th>...</th>\n",
       "      <th>tax_comm</th>\n",
       "      <th>kingdom</th>\n",
       "      <th>phylum</th>\n",
       "      <th>class</th>\n",
       "      <th>order_</th>\n",
       "      <th>family</th>\n",
       "      <th>genus</th>\n",
       "      <th>code</th>\n",
       "      <th>shape_length</th>\n",
       "      <th>shape_area</th>\n",
       "    </tr>\n",
       "  </thead>\n",
       "  <tbody>\n",
       "    <tr>\n",
       "      <th>0</th>\n",
       "      <td>10143</td>\n",
       "      <td>190868.0</td>\n",
       "      <td>Nihonogomphus thomassoni</td>\n",
       "      <td>2</td>\n",
       "      <td>1</td>\n",
       "      <td>1</td>\n",
       "      <td>Kate Saunders</td>\n",
       "      <td>2011</td>\n",
       "      <td>Asia freshwater biodiversity assessments, IUCN</td>\n",
       "      <td>Red List assessment</td>\n",
       "      <td>...</td>\n",
       "      <td>NaN</td>\n",
       "      <td>ANIMALIA</td>\n",
       "      <td>ARTHROPODA</td>\n",
       "      <td>INSECTA</td>\n",
       "      <td>ODONATA</td>\n",
       "      <td>GOMPHIDAE</td>\n",
       "      <td>Nihonogomphus</td>\n",
       "      <td>LC</td>\n",
       "      <td>99.744070</td>\n",
       "      <td>27.275351</td>\n",
       "    </tr>\n",
       "    <tr>\n",
       "      <th>1</th>\n",
       "      <td>10144</td>\n",
       "      <td>190868.0</td>\n",
       "      <td>Nihonogomphus thomassoni</td>\n",
       "      <td>1</td>\n",
       "      <td>1</td>\n",
       "      <td>1</td>\n",
       "      <td>FBU</td>\n",
       "      <td>2011</td>\n",
       "      <td>IUCN (International Union for Conservation of ...</td>\n",
       "      <td>NaN</td>\n",
       "      <td>...</td>\n",
       "      <td>NaN</td>\n",
       "      <td>ANIMALIA</td>\n",
       "      <td>ARTHROPODA</td>\n",
       "      <td>INSECTA</td>\n",
       "      <td>ODONATA</td>\n",
       "      <td>GOMPHIDAE</td>\n",
       "      <td>Nihonogomphus</td>\n",
       "      <td>LC</td>\n",
       "      <td>2.133768</td>\n",
       "      <td>0.093543</td>\n",
       "    </tr>\n",
       "    <tr>\n",
       "      <th>2</th>\n",
       "      <td>10145</td>\n",
       "      <td>190868.0</td>\n",
       "      <td>Nihonogomphus thomassoni</td>\n",
       "      <td>1</td>\n",
       "      <td>1</td>\n",
       "      <td>1</td>\n",
       "      <td>DO Manh Cuong</td>\n",
       "      <td>2010</td>\n",
       "      <td>Asia freshwater biodiversity assessments, IUCN</td>\n",
       "      <td>unknown</td>\n",
       "      <td>...</td>\n",
       "      <td>NaN</td>\n",
       "      <td>ANIMALIA</td>\n",
       "      <td>ARTHROPODA</td>\n",
       "      <td>INSECTA</td>\n",
       "      <td>ODONATA</td>\n",
       "      <td>GOMPHIDAE</td>\n",
       "      <td>Nihonogomphus</td>\n",
       "      <td>LC</td>\n",
       "      <td>4.357552</td>\n",
       "      <td>0.301940</td>\n",
       "    </tr>\n",
       "    <tr>\n",
       "      <th>3</th>\n",
       "      <td>10146</td>\n",
       "      <td>190868.0</td>\n",
       "      <td>Nihonogomphus thomassoni</td>\n",
       "      <td>1</td>\n",
       "      <td>1</td>\n",
       "      <td>1</td>\n",
       "      <td>DO Manh Cuong</td>\n",
       "      <td>2010</td>\n",
       "      <td>Asia freshwater biodiversity assessments, IUCN</td>\n",
       "      <td>Red List assessment</td>\n",
       "      <td>...</td>\n",
       "      <td>NaN</td>\n",
       "      <td>ANIMALIA</td>\n",
       "      <td>ARTHROPODA</td>\n",
       "      <td>INSECTA</td>\n",
       "      <td>ODONATA</td>\n",
       "      <td>GOMPHIDAE</td>\n",
       "      <td>Nihonogomphus</td>\n",
       "      <td>LC</td>\n",
       "      <td>6.100119</td>\n",
       "      <td>0.527099</td>\n",
       "    </tr>\n",
       "    <tr>\n",
       "      <th>4</th>\n",
       "      <td>10147</td>\n",
       "      <td>63940.0</td>\n",
       "      <td>Tantilla coronadoi</td>\n",
       "      <td>1</td>\n",
       "      <td>1</td>\n",
       "      <td>1</td>\n",
       "      <td>NatureServe and IUCN</td>\n",
       "      <td>2007</td>\n",
       "      <td>NatureServe and IUCN (International Union for ...</td>\n",
       "      <td>NaN</td>\n",
       "      <td>...</td>\n",
       "      <td>NaN</td>\n",
       "      <td>ANIMALIA</td>\n",
       "      <td>CHORDATA</td>\n",
       "      <td>REPTILIA</td>\n",
       "      <td>SQUAMATA</td>\n",
       "      <td>COLUBRIDAE</td>\n",
       "      <td>Tantilla</td>\n",
       "      <td>LC</td>\n",
       "      <td>0.789530</td>\n",
       "      <td>0.049604</td>\n",
       "    </tr>\n",
       "  </tbody>\n",
       "</table>\n",
       "<p>5 rows × 25 columns</p>\n",
       "</div>"
      ],
      "text/plain": [
       "   objectid     id_no                  binomial  presence  origin  seasonal  \\\n",
       "0     10143  190868.0  Nihonogomphus thomassoni         2       1         1   \n",
       "1     10144  190868.0  Nihonogomphus thomassoni         1       1         1   \n",
       "2     10145  190868.0  Nihonogomphus thomassoni         1       1         1   \n",
       "3     10146  190868.0  Nihonogomphus thomassoni         1       1         1   \n",
       "4     10147   63940.0        Tantilla coronadoi         1       1         1   \n",
       "\n",
       "               compiler  year  \\\n",
       "0         Kate Saunders  2011   \n",
       "1                   FBU  2011   \n",
       "2         DO Manh Cuong  2010   \n",
       "3         DO Manh Cuong  2010   \n",
       "4  NatureServe and IUCN  2007   \n",
       "\n",
       "                                            citation               source  \\\n",
       "0     Asia freshwater biodiversity assessments, IUCN  Red List assessment   \n",
       "1  IUCN (International Union for Conservation of ...                  NaN   \n",
       "2     Asia freshwater biodiversity assessments, IUCN              unknown   \n",
       "3     Asia freshwater biodiversity assessments, IUCN  Red List assessment   \n",
       "4  NatureServe and IUCN (International Union for ...                  NaN   \n",
       "\n",
       "     ...     tax_comm   kingdom      phylum     class    order_      family  \\\n",
       "0    ...          NaN  ANIMALIA  ARTHROPODA   INSECTA   ODONATA   GOMPHIDAE   \n",
       "1    ...          NaN  ANIMALIA  ARTHROPODA   INSECTA   ODONATA   GOMPHIDAE   \n",
       "2    ...          NaN  ANIMALIA  ARTHROPODA   INSECTA   ODONATA   GOMPHIDAE   \n",
       "3    ...          NaN  ANIMALIA  ARTHROPODA   INSECTA   ODONATA   GOMPHIDAE   \n",
       "4    ...          NaN  ANIMALIA    CHORDATA  REPTILIA  SQUAMATA  COLUBRIDAE   \n",
       "\n",
       "           genus code shape_length shape_area  \n",
       "0  Nihonogomphus   LC    99.744070  27.275351  \n",
       "1  Nihonogomphus   LC     2.133768   0.093543  \n",
       "2  Nihonogomphus   LC     4.357552   0.301940  \n",
       "3  Nihonogomphus   LC     6.100119   0.527099  \n",
       "4       Tantilla   LC     0.789530   0.049604  \n",
       "\n",
       "[5 rows x 25 columns]"
      ]
     },
     "execution_count": 6,
     "metadata": {},
     "output_type": "execute_result"
    }
   ],
   "source": [
    "sis.head()"
   ]
  },
  {
   "cell_type": "code",
   "execution_count": 13,
   "metadata": {
    "scrolled": true
   },
   "outputs": [
    {
     "name": "stdout",
     "output_type": "stream",
     "text": [
      "The number of database rows of species id 137: 13\n"
     ]
    }
   ],
   "source": [
    "print('The number of database rows of species id 137: {}'.format(sis[sis.id_no==137].id_no.count()))"
   ]
  },
  {
   "cell_type": "markdown",
   "metadata": {},
   "source": [
    "It is important to understand that the `sis` table, i.e., the attribute table of the spatial data, contain potentially both multi-part polygons as well as single-part polygons (probably due to different sources + range polygons with different presence, origin and seasonality). \n",
    "\n",
    "There may also be a possiblity that these rows may be overlapping."
   ]
  },
  {
   "cell_type": "markdown",
   "metadata": {},
   "source": [
    "Setting the indices for both datasets. Make sure the ids are integer. Also clean the tables, to reduce size"
   ]
  },
  {
   "cell_type": "code",
   "execution_count": 35,
   "metadata": {
    "scrolled": true
   },
   "outputs": [
    {
     "name": "stdout",
     "output_type": "stream",
     "text": [
      "<class 'pandas.core.frame.DataFrame'>\n",
      "RangeIndex: 78042 entries, 0 to 78041\n",
      "Data columns (total 25 columns):\n",
      "objectid        78042 non-null int64\n",
      "id_no           78042 non-null float64\n",
      "binomial        78042 non-null object\n",
      "presence        78042 non-null int64\n",
      "origin          78042 non-null int64\n",
      "seasonal        78042 non-null int64\n",
      "compiler        76165 non-null object\n",
      "year            78042 non-null int64\n",
      "citation        78038 non-null object\n",
      "source          24156 non-null object\n",
      "dist_comm       947 non-null object\n",
      "island          7320 non-null object\n",
      "subspecies      1197 non-null object\n",
      "subpop          186 non-null object\n",
      "legend          78042 non-null object\n",
      "tax_comm        426 non-null object\n",
      "kingdom         78042 non-null object\n",
      "phylum          78042 non-null object\n",
      "class           78042 non-null object\n",
      "order_          78042 non-null object\n",
      "family          78042 non-null object\n",
      "genus           78042 non-null object\n",
      "code            78042 non-null object\n",
      "shape_length    78042 non-null float64\n",
      "shape_area      78042 non-null float64\n",
      "dtypes: float64(3), int64(5), object(17)\n",
      "memory usage: 14.9+ MB\n"
     ]
    }
   ],
   "source": [
    "sis.info()"
   ]
  },
  {
   "cell_type": "code",
   "execution_count": 37,
   "metadata": {},
   "outputs": [
    {
     "data": {
      "text/plain": [
       "117582065.0"
      ]
     },
     "execution_count": 37,
     "metadata": {},
     "output_type": "execute_result"
    }
   ],
   "source": [
    "sis.id_no.max()"
   ]
  },
  {
   "cell_type": "markdown",
   "metadata": {},
   "source": [
    "Choose 4 bytes for the ID field. The largest `id_no` is less than the largest value of `uint32`"
   ]
  },
  {
   "cell_type": "code",
   "execution_count": 38,
   "metadata": {},
   "outputs": [
    {
     "name": "stdout",
     "output_type": "stream",
     "text": [
      "Machine parameters for uint8\n",
      "---------------------------------------------------------------\n",
      "min = 0\n",
      "max = 255\n",
      "---------------------------------------------------------------\n",
      "\n",
      "Machine parameters for int8\n",
      "---------------------------------------------------------------\n",
      "min = -128\n",
      "max = 127\n",
      "---------------------------------------------------------------\n",
      "\n",
      "Machine parameters for int16\n",
      "---------------------------------------------------------------\n",
      "min = -32768\n",
      "max = 32767\n",
      "---------------------------------------------------------------\n",
      "\n",
      "Machine parameters for uint16\n",
      "---------------------------------------------------------------\n",
      "min = 0\n",
      "max = 65535\n",
      "---------------------------------------------------------------\n",
      "\n",
      "Machine parameters for uint32\n",
      "---------------------------------------------------------------\n",
      "min = 0\n",
      "max = 4294967295\n",
      "---------------------------------------------------------------\n",
      "\n",
      "Machine parameters for int32\n",
      "---------------------------------------------------------------\n",
      "min = -2147483648\n",
      "max = 2147483647\n",
      "---------------------------------------------------------------\n",
      "\n",
      "Machine parameters for int64\n",
      "---------------------------------------------------------------\n",
      "min = -9223372036854775808\n",
      "max = 9223372036854775807\n",
      "---------------------------------------------------------------\n",
      "\n"
     ]
    }
   ],
   "source": [
    "int_types = [\"uint8\", \"int8\", \"int16\", \"uint16\", \"uint32\", \"int32\", 'int64']\n",
    "for it in int_types:\n",
    "    print(np.iinfo(it))"
   ]
  },
  {
   "cell_type": "code",
   "execution_count": 40,
   "metadata": {},
   "outputs": [],
   "source": [
    "columns=['id_no', 'kingdom', 'phylum', 'class', 'order_', 'family', 'genus', 'code']\n",
    "sis_clean = pd.DataFrame(sis[columns])\n",
    "sis_clean = sis_clean.astype(dtype={\"id_no\": \"uint32\",\n",
    "                                    'kingdom': \"category\",\n",
    "                                    'phylum': \"category\",\n",
    "                                     'class': \"category\",\n",
    "                                     'order_': \"category\",\n",
    "                                     'family': \"category\",\n",
    "                                     'genus': \"category\",\n",
    "                                     'code': \"category\"})\n",
    "sis_clean = sis_clean.set_index('id_no')"
   ]
  },
  {
   "cell_type": "code",
   "execution_count": 41,
   "metadata": {},
   "outputs": [
    {
     "name": "stdout",
     "output_type": "stream",
     "text": [
      "<class 'pandas.core.frame.DataFrame'>\n",
      "UInt64Index: 78042 entries, 190868 to 87531801\n",
      "Data columns (total 7 columns):\n",
      "kingdom    78042 non-null category\n",
      "phylum     78042 non-null category\n",
      "class      78042 non-null category\n",
      "order_     78042 non-null category\n",
      "family     78042 non-null category\n",
      "genus      78042 non-null category\n",
      "code       78042 non-null category\n",
      "dtypes: category(7)\n",
      "memory usage: 1.8 MB\n"
     ]
    }
   ],
   "source": [
    "sis_clean.info()"
   ]
  },
  {
   "cell_type": "markdown",
   "metadata": {},
   "source": [
    "After the data cleaning process, the size of the `sis` table has reduced from 14.9+MB to 1.8MB. All essential information is retained and the number of rows stays the same"
   ]
  },
  {
   "cell_type": "code",
   "execution_count": 43,
   "metadata": {},
   "outputs": [
    {
     "data": {
      "text/plain": [
       "True"
      ]
     },
     "execution_count": 43,
     "metadata": {},
     "output_type": "execute_result"
    }
   ],
   "source": [
    "sis.index.size == sis_clean.index.size"
   ]
  },
  {
   "cell_type": "code",
   "execution_count": 20,
   "metadata": {},
   "outputs": [
    {
     "data": {
      "text/plain": [
       "117582065.0"
      ]
     },
     "execution_count": 20,
     "metadata": {},
     "output_type": "execute_result"
    }
   ],
   "source": [
    "sis.id_no.max()"
   ]
  },
  {
   "cell_type": "code",
   "execution_count": null,
   "metadata": {},
   "outputs": [],
   "source": []
  },
  {
   "cell_type": "code",
   "execution_count": 7,
   "metadata": {},
   "outputs": [
    {
     "data": {
      "text/html": [
       "<div>\n",
       "<style scoped>\n",
       "    .dataframe tbody tr th:only-of-type {\n",
       "        vertical-align: middle;\n",
       "    }\n",
       "\n",
       "    .dataframe tbody tr th {\n",
       "        vertical-align: top;\n",
       "    }\n",
       "\n",
       "    .dataframe thead th {\n",
       "        text-align: right;\n",
       "    }\n",
       "</style>\n",
       "<table border=\"1\" class=\"dataframe\">\n",
       "  <thead>\n",
       "    <tr style=\"text-align: right;\">\n",
       "      <th></th>\n",
       "      <th>id</th>\n",
       "      <th>kingdom_name</th>\n",
       "      <th>phylum_name</th>\n",
       "      <th>class_name</th>\n",
       "      <th>order_name</th>\n",
       "      <th>family_name</th>\n",
       "      <th>genus_name</th>\n",
       "      <th>species_name</th>\n",
       "      <th>scientific_name</th>\n",
       "      <th>authority</th>\n",
       "      <th>infra_rank</th>\n",
       "      <th>infra_name</th>\n",
       "      <th>infra_authority</th>\n",
       "      <th>category</th>\n",
       "      <th>criteria</th>\n",
       "      <th>publicationyear</th>\n",
       "      <th>main_common_name</th>\n",
       "      <th>value</th>\n",
       "      <th>REF</th>\n",
       "      <th>DESCRIPTION</th>\n",
       "    </tr>\n",
       "  </thead>\n",
       "  <tbody>\n",
       "    <tr>\n",
       "      <th>0</th>\n",
       "      <td>9</td>\n",
       "      <td>ANIMALIA</td>\n",
       "      <td>CHORDATA</td>\n",
       "      <td>ACTINOPTERYGII</td>\n",
       "      <td>CYPRINIFORMES</td>\n",
       "      <td>CYPRINIDAE</td>\n",
       "      <td>Aaptosyax</td>\n",
       "      <td>grypus</td>\n",
       "      <td>Aaptosyax grypus</td>\n",
       "      <td>Rainboth, 1991</td>\n",
       "      <td>NaN</td>\n",
       "      <td>NaN</td>\n",
       "      <td>NaN</td>\n",
       "      <td>CR</td>\n",
       "      <td>A2acd</td>\n",
       "      <td>2011</td>\n",
       "      <td>Mekong Giant Salmon Carp</td>\n",
       "      <td>1</td>\n",
       "      <td>1</td>\n",
       "      <td>Food - human</td>\n",
       "    </tr>\n",
       "    <tr>\n",
       "      <th>1</th>\n",
       "      <td>137</td>\n",
       "      <td>ANIMALIA</td>\n",
       "      <td>CHORDATA</td>\n",
       "      <td>MAMMALIA</td>\n",
       "      <td>CHIROPTERA</td>\n",
       "      <td>PTEROPODIDAE</td>\n",
       "      <td>Acerodon</td>\n",
       "      <td>celebensis</td>\n",
       "      <td>Acerodon celebensis</td>\n",
       "      <td>Peters, 1867</td>\n",
       "      <td>NaN</td>\n",
       "      <td>NaN</td>\n",
       "      <td>NaN</td>\n",
       "      <td>VU</td>\n",
       "      <td>A2d</td>\n",
       "      <td>2016</td>\n",
       "      <td>Sulawesi Fruit Bat</td>\n",
       "      <td>1</td>\n",
       "      <td>1</td>\n",
       "      <td>Food - human</td>\n",
       "    </tr>\n",
       "    <tr>\n",
       "      <th>2</th>\n",
       "      <td>138</td>\n",
       "      <td>ANIMALIA</td>\n",
       "      <td>CHORDATA</td>\n",
       "      <td>MAMMALIA</td>\n",
       "      <td>CHIROPTERA</td>\n",
       "      <td>PTEROPODIDAE</td>\n",
       "      <td>Acerodon</td>\n",
       "      <td>humilis</td>\n",
       "      <td>Acerodon humilis</td>\n",
       "      <td>K. Andersen, 1909</td>\n",
       "      <td>NaN</td>\n",
       "      <td>NaN</td>\n",
       "      <td>NaN</td>\n",
       "      <td>EN</td>\n",
       "      <td>B1ab(iii,v)</td>\n",
       "      <td>2016</td>\n",
       "      <td>Talaud Fruit Bat</td>\n",
       "      <td>1</td>\n",
       "      <td>1</td>\n",
       "      <td>Food - human</td>\n",
       "    </tr>\n",
       "    <tr>\n",
       "      <th>3</th>\n",
       "      <td>139</td>\n",
       "      <td>ANIMALIA</td>\n",
       "      <td>CHORDATA</td>\n",
       "      <td>MAMMALIA</td>\n",
       "      <td>CHIROPTERA</td>\n",
       "      <td>PTEROPODIDAE</td>\n",
       "      <td>Acerodon</td>\n",
       "      <td>jubatus</td>\n",
       "      <td>Acerodon jubatus</td>\n",
       "      <td>(Eschscholtz, 1831)</td>\n",
       "      <td>NaN</td>\n",
       "      <td>NaN</td>\n",
       "      <td>NaN</td>\n",
       "      <td>EN</td>\n",
       "      <td>A2cd</td>\n",
       "      <td>2016</td>\n",
       "      <td>Golden-capped Fruit Bat</td>\n",
       "      <td>1</td>\n",
       "      <td>1</td>\n",
       "      <td>Food - human</td>\n",
       "    </tr>\n",
       "    <tr>\n",
       "      <th>4</th>\n",
       "      <td>140</td>\n",
       "      <td>ANIMALIA</td>\n",
       "      <td>CHORDATA</td>\n",
       "      <td>MAMMALIA</td>\n",
       "      <td>CHIROPTERA</td>\n",
       "      <td>PTEROPODIDAE</td>\n",
       "      <td>Acerodon</td>\n",
       "      <td>leucotis</td>\n",
       "      <td>Acerodon leucotis</td>\n",
       "      <td>(Sanborn, 1950)</td>\n",
       "      <td>NaN</td>\n",
       "      <td>NaN</td>\n",
       "      <td>NaN</td>\n",
       "      <td>VU</td>\n",
       "      <td>A4cd</td>\n",
       "      <td>2008</td>\n",
       "      <td>Palawan Fruit Bat</td>\n",
       "      <td>1</td>\n",
       "      <td>1</td>\n",
       "      <td>Food - human</td>\n",
       "    </tr>\n",
       "  </tbody>\n",
       "</table>\n",
       "</div>"
      ],
      "text/plain": [
       "    id kingdom_name phylum_name      class_name     order_name   family_name  \\\n",
       "0    9     ANIMALIA    CHORDATA  ACTINOPTERYGII  CYPRINIFORMES    CYPRINIDAE   \n",
       "1  137     ANIMALIA    CHORDATA        MAMMALIA     CHIROPTERA  PTEROPODIDAE   \n",
       "2  138     ANIMALIA    CHORDATA        MAMMALIA     CHIROPTERA  PTEROPODIDAE   \n",
       "3  139     ANIMALIA    CHORDATA        MAMMALIA     CHIROPTERA  PTEROPODIDAE   \n",
       "4  140     ANIMALIA    CHORDATA        MAMMALIA     CHIROPTERA  PTEROPODIDAE   \n",
       "\n",
       "  genus_name species_name      scientific_name            authority  \\\n",
       "0  Aaptosyax       grypus     Aaptosyax grypus       Rainboth, 1991   \n",
       "1   Acerodon   celebensis  Acerodon celebensis         Peters, 1867   \n",
       "2   Acerodon      humilis     Acerodon humilis    K. Andersen, 1909   \n",
       "3   Acerodon      jubatus     Acerodon jubatus  (Eschscholtz, 1831)   \n",
       "4   Acerodon     leucotis    Acerodon leucotis      (Sanborn, 1950)   \n",
       "\n",
       "  infra_rank infra_name  infra_authority category     criteria  \\\n",
       "0        NaN        NaN              NaN       CR        A2acd   \n",
       "1        NaN        NaN              NaN       VU          A2d   \n",
       "2        NaN        NaN              NaN       EN  B1ab(iii,v)   \n",
       "3        NaN        NaN              NaN       EN         A2cd   \n",
       "4        NaN        NaN              NaN       VU         A4cd   \n",
       "\n",
       "   publicationyear          main_common_name  value  REF   DESCRIPTION  \n",
       "0             2011  Mekong Giant Salmon Carp      1    1  Food - human  \n",
       "1             2016        Sulawesi Fruit Bat      1    1  Food - human  \n",
       "2             2016          Talaud Fruit Bat      1    1  Food - human  \n",
       "3             2016   Golden-capped Fruit Bat      1    1  Food - human  \n",
       "4             2008         Palawan Fruit Bat      1    1  Food - human  "
      ]
     },
     "execution_count": 7,
     "metadata": {},
     "output_type": "execute_result"
    }
   ],
   "source": [
    "bfa.head()"
   ]
  },
  {
   "cell_type": "code",
   "execution_count": 33,
   "metadata": {},
   "outputs": [
    {
     "name": "stdout",
     "output_type": "stream",
     "text": [
      "<class 'pandas.core.frame.DataFrame'>\n",
      "RangeIndex: 11396 entries, 0 to 11395\n",
      "Data columns (total 20 columns):\n",
      "id                  11396 non-null int64\n",
      "kingdom_name        11396 non-null object\n",
      "phylum_name         11396 non-null object\n",
      "class_name          11396 non-null object\n",
      "order_name          11396 non-null object\n",
      "family_name         11396 non-null object\n",
      "genus_name          11396 non-null object\n",
      "species_name        11396 non-null object\n",
      "scientific_name     11396 non-null object\n",
      "authority           11380 non-null object\n",
      "infra_rank          126 non-null object\n",
      "infra_name          126 non-null object\n",
      "infra_authority     0 non-null float64\n",
      "category            11396 non-null object\n",
      "criteria            1899 non-null object\n",
      "publicationyear     11396 non-null int64\n",
      "main_common_name    8649 non-null object\n",
      "value               11396 non-null int64\n",
      "REF                 11396 non-null int64\n",
      "DESCRIPTION         11396 non-null object\n",
      "dtypes: float64(1), int64(4), object(15)\n",
      "memory usage: 1.7+ MB\n"
     ]
    }
   ],
   "source": [
    "bfa.info()"
   ]
  },
  {
   "cell_type": "code",
   "execution_count": 44,
   "metadata": {},
   "outputs": [
    {
     "data": {
      "text/plain": [
       "117582065"
      ]
     },
     "execution_count": 44,
     "metadata": {},
     "output_type": "execute_result"
    }
   ],
   "source": [
    "bfa.id.max()"
   ]
  },
  {
   "cell_type": "code",
   "execution_count": 51,
   "metadata": {},
   "outputs": [],
   "source": [
    "columns=['id', 'kingdom_name', 'phylum_name', 'class_name', 'order_name', 'family_name', 'genus_name', 'category']\n",
    "bfa_clean = pd.DataFrame(bfa[columns])\n",
    "bfa_clean = bfa_clean.astype(dtype={\"id\": \"uint32\",\n",
    "                                    'kingdom_name': \"category\",\n",
    "                                    'phylum_name': \"category\",\n",
    "                                     'class_name': \"category\",\n",
    "                                     'order_name': \"category\",\n",
    "                                     'family_name': \"category\",\n",
    "                                     'genus_name': \"category\",\n",
    "                                     'category': \"category\"})\n",
    "bfa_clean = bfa_clean.set_index('id')"
   ]
  },
  {
   "cell_type": "code",
   "execution_count": 52,
   "metadata": {},
   "outputs": [
    {
     "name": "stdout",
     "output_type": "stream",
     "text": [
      "<class 'pandas.core.frame.DataFrame'>\n",
      "UInt64Index: 11396 entries, 9 to 117582065\n",
      "Data columns (total 7 columns):\n",
      "kingdom_name    11396 non-null category\n",
      "phylum_name     11396 non-null category\n",
      "class_name      11396 non-null category\n",
      "order_name      11396 non-null category\n",
      "family_name     11396 non-null category\n",
      "genus_name      11396 non-null category\n",
      "category        11396 non-null category\n",
      "dtypes: category(7)\n",
      "memory usage: 338.8 KB\n"
     ]
    }
   ],
   "source": [
    "bfa_clean.info()"
   ]
  },
  {
   "cell_type": "code",
   "execution_count": null,
   "metadata": {},
   "outputs": [],
   "source": []
  }
 ],
 "metadata": {
  "kernelspec": {
   "display_name": "Python 3",
   "language": "python",
   "name": "python3"
  },
  "language_info": {
   "codemirror_mode": {
    "name": "ipython",
    "version": 3
   },
   "file_extension": ".py",
   "mimetype": "text/x-python",
   "name": "python",
   "nbconvert_exporter": "python",
   "pygments_lexer": "ipython3",
   "version": "3.6.3"
  }
 },
 "nbformat": 4,
 "nbformat_minor": 2
}
