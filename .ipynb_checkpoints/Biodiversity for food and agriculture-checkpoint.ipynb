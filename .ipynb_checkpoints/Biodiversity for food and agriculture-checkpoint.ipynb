{
 "cells": [
  {
   "cell_type": "markdown",
   "metadata": {
    "toc": true
   },
   "source": [
    "<h1>Table of Contents<span class=\"tocSkip\"></span></h1>\n",
    "<div class=\"toc\" style=\"margin-top: 1em;\"><ul class=\"toc-item\"><li><span><a href=\"#Biodiversity-for-food-and-agriculture---Dec-2017\" data-toc-modified-id=\"Biodiversity-for-food-and-agriculture---Dec-2017-1\"><span class=\"toc-item-num\">1&nbsp;&nbsp;</span>Biodiversity for food and agriculture - Dec 2017</a></span><ul class=\"toc-item\"><li><span><a href=\"#Pre-analysis-discussions\" data-toc-modified-id=\"Pre-analysis-discussions-1.1\"><span class=\"toc-item-num\">1.1&nbsp;&nbsp;</span>Pre-analysis discussions</a></span></li><li><span><a href=\"#Data,-pre-processing-and-scripts\" data-toc-modified-id=\"Data,-pre-processing-and-scripts-1.2\"><span class=\"toc-item-num\">1.2&nbsp;&nbsp;</span>Data, pre-processing and scripts</a></span><ul class=\"toc-item\"><li><span><a href=\"#Red-List\" data-toc-modified-id=\"Red-List-1.2.1\"><span class=\"toc-item-num\">1.2.1&nbsp;&nbsp;</span>Red List</a></span></li><li><span><a href=\"#Hexagon-Grid\" data-toc-modified-id=\"Hexagon-Grid-1.2.2\"><span class=\"toc-item-num\">1.2.2&nbsp;&nbsp;</span>Hexagon Grid</a></span></li><li><span><a href=\"#WDPA\" data-toc-modified-id=\"WDPA-1.2.3\"><span class=\"toc-item-num\">1.2.3&nbsp;&nbsp;</span>WDPA</a></span></li><li><span><a href=\"#Script\" data-toc-modified-id=\"Script-1.2.4\"><span class=\"toc-item-num\">1.2.4&nbsp;&nbsp;</span>Script</a></span></li></ul></li><li><span><a href=\"#Proposed-methodology-thinking\" data-toc-modified-id=\"Proposed-methodology-thinking-1.3\"><span class=\"toc-item-num\">1.3&nbsp;&nbsp;</span>Proposed methodology thinking</a></span></li><li><span><a href=\"#Understanding-the-data\" data-toc-modified-id=\"Understanding-the-data-1.4\"><span class=\"toc-item-num\">1.4&nbsp;&nbsp;</span>Understanding the data</a></span><ul class=\"toc-item\"><li><span><a href=\"#Spatial-data-for-species-for-food-and-agriculture\" data-toc-modified-id=\"Spatial-data-for-species-for-food-and-agriculture-1.4.1\"><span class=\"toc-item-num\">1.4.1&nbsp;&nbsp;</span>Spatial data for species for food and agriculture</a></span></li><li><span><a href=\"#Restricted-range-species\" data-toc-modified-id=\"Restricted-range-species-1.4.2\"><span class=\"toc-item-num\">1.4.2&nbsp;&nbsp;</span>Restricted range species</a></span></li></ul></li><li><span><a href=\"#Datasets\" data-toc-modified-id=\"Datasets-1.5\"><span class=\"toc-item-num\">1.5&nbsp;&nbsp;</span>Datasets</a></span></li><li><span><a href=\"#Analysis\" data-toc-modified-id=\"Analysis-1.6\"><span class=\"toc-item-num\">1.6&nbsp;&nbsp;</span>Analysis</a></span><ul class=\"toc-item\"><li><span><a href=\"#Big-data-challenge\" data-toc-modified-id=\"Big-data-challenge-1.6.1\"><span class=\"toc-item-num\">1.6.1&nbsp;&nbsp;</span>Big data challenge</a></span></li><li><span><a href=\"#Load-result-and-lookup-table\" data-toc-modified-id=\"Load-result-and-lookup-table-1.6.2\"><span class=\"toc-item-num\">1.6.2&nbsp;&nbsp;</span>Load result and lookup table</a></span></li><li><span><a href=\"#Filtering\" data-toc-modified-id=\"Filtering-1.6.3\"><span class=\"toc-item-num\">1.6.3&nbsp;&nbsp;</span>Filtering</a></span></li><li><span><a href=\"#Analysis\" data-toc-modified-id=\"Analysis-1.6.4\"><span class=\"toc-item-num\">1.6.4&nbsp;&nbsp;</span>Analysis</a></span><ul class=\"toc-item\"><li><span><a href=\"#Gap-species\" data-toc-modified-id=\"Gap-species-1.6.4.1\"><span class=\"toc-item-num\">1.6.4.1&nbsp;&nbsp;</span>Gap species</a></span></li><li><span><a href=\"#Top-protected-areas\" data-toc-modified-id=\"Top-protected-areas-1.6.4.2\"><span class=\"toc-item-num\">1.6.4.2&nbsp;&nbsp;</span>Top protected areas</a></span></li></ul></li></ul></li><li><span><a href=\"#TEST---DO-NOT-USE\" data-toc-modified-id=\"TEST---DO-NOT-USE-1.7\"><span class=\"toc-item-num\">1.7&nbsp;&nbsp;</span>TEST - DO NOT USE</a></span><ul class=\"toc-item\"><li><ul class=\"toc-item\"><li><span><a href=\"#Check-failed-species\" data-toc-modified-id=\"Check-failed-species-1.7.0.1\"><span class=\"toc-item-num\">1.7.0.1&nbsp;&nbsp;</span>Check failed species</a></span></li></ul></li></ul></li></ul></li></ul></div>"
   ]
  },
  {
   "cell_type": "markdown",
   "metadata": {},
   "source": [
    "# Biodiversity for food and agriculture - Dec 2017\n",
    "\n",
    "The notebook assesses the contribution of biodiversity for food and agriculture through an analysis of overlay between IUCN's Red List of Threatened Species and the World Database on Protected Areas"
   ]
  },
  {
   "cell_type": "markdown",
   "metadata": {},
   "source": [
    "## Pre-analysis discussions\n",
    "- all species for food and agriculture to be included, regardless of their comprehensiveness\n",
    "\n",
    "## Data, pre-processing and scripts\n",
    "\n",
    "### Red List\n",
    "- Presence: 1 (including 2 for old range distributions); Origin: 1,2; Seasonality: all\n",
    "- create index on `id_no`\n",
    "- decisions to be deferred: RedList categories (threatened etc)\n",
    "\n",
    "### Hexagon Grid\n",
    "- an equal area global hex grid using the binary in [Discrete Global Grids for R](https://github.com/r-barnes/dggridR/)\n",
    "- convert string ids to int ids\n",
    "- create index on `id`\n",
    "- additionally the grid has the following characteristics\n",
    ">dggs_type ISEA3H \n",
    ">\n",
    ">verbosity 1 \n",
    ">\n",
    ">dggs_res_spec 12\n",
    ">\n",
    ">densification 5\n",
    ">\n",
    ">max_cells_per_output_file 1000000\n",
    ">\n",
    ">cell_output_type SHAPEFILE\n",
    ">\n",
    ">cell_output_file_name ../output/hex_globe10k\n",
    ">\n",
    ">point_output_type SHAPEFILE\n",
    ">\n",
    ">point_output_file_name ../output/hex_globe_centre10k\n",
    "\n",
    "**Filtering of the Hexagon Grid**\n",
    "\n",
    "It is important to note that during the creation of the Hexagon Grid, cells around the 180/-180 longitude have wrapped around the globe due to a bug. These cells need to be excluded from the calculation. Fortunately, there is an easy way to identify - they all have a negative `shape_area` value in the attribute tables. These can be identified in the spatial data.\n",
    "\n",
    "Out of 5,314,412 records, 2,427 are invalid and thus should be removed from the calculation.\n",
    "\n",
    "![hex_grid](./hex.png)\n",
    "\n",
    "\n",
    "### WDPA\n",
    "- Nov 2017 release public version\n",
    "- point data in the WDPA are **not** considered for reasons: a) the points do not represent the extent of PAs, leading to unquantifiable error; b) result less than 2% difference globally, with area potentially affected in Russia, Ukrain, Belarus, China and India ; c) siginifcant time required to process\n",
    "- apart from the point, the pre-processing of the WDPA uses the same methodology in calculating global statistics and it can be found on the [protectedplanet](https://www.protectedplanet.net/c/calculating-protected-area-coverage).\n",
    "\n",
    "### Script\n",
    "A script is developed to distribute the workload across multiple cores. It requires the `arcpy` site package to programmatically apply `SelectByLocation`. After each iteration, it appends the output to a compressed csv file. The script is shared on [github](https://github.com/Yichuans/geoprocessing/blob/master/species_richness/FAO_BFA.py)\n"
   ]
  },
  {
   "cell_type": "markdown",
   "metadata": {},
   "source": [
    "## Proposed methodology thinking\n",
    "\n",
    "In short the methodology\n",
    "- use a 10km by 10km global grid (hex or regular)\n",
    "- use the above grid to bin each and every species \n",
    "- use the above grid to bin each and every protected area\n",
    "\n",
    "result will enable further interogation of species and protected area at 100sqkm resolution, without undertaking any additional spatial analysis\n",
    "\n",
    "The above result will produce the following metrics:\n",
    "- Species range (at 100 sqkm reso)\n",
    "- Range of each species protected. Per species level, area (number of cell x cellsize) and how much of that *is protected* (number of cell shared by species + pa/total number of cells by species)\n",
    "- Combining the two, we will be able to produce the *Rodrigues 2004* graph, i.e. species with different targets\n",
    "- Heatmap of number of species protected?"
   ]
  },
  {
   "cell_type": "markdown",
   "metadata": {},
   "source": [
    "\n",
    "**THINKING: **\n",
    "\n",
    "**Can we justify the methodology (grid approach 10km by 10km) by saying the species has a *protected status* if it overlaps with a protected areas or within 10km of a protected area? Also considering the inaccruacy of the RedList EOO data and the inaccruacy of global protected areas network. **\n"
   ]
  },
  {
   "cell_type": "markdown",
   "metadata": {},
   "source": [
    "## Understanding the data"
   ]
  },
  {
   "cell_type": "code",
   "execution_count": 150,
   "metadata": {},
   "outputs": [],
   "source": [
    "import os\n",
    "import gc\n",
    "\n",
    "import numpy as np\n",
    "import pandas as pd"
   ]
  },
  {
   "cell_type": "code",
   "execution_count": 5,
   "metadata": {},
   "outputs": [],
   "source": [
    "%matplotlib inline"
   ]
  },
  {
   "cell_type": "code",
   "execution_count": 6,
   "metadata": {},
   "outputs": [],
   "source": [
    "sis = pd.read_csv('sis_2017.csv')"
   ]
  },
  {
   "cell_type": "code",
   "execution_count": 7,
   "metadata": {},
   "outputs": [],
   "source": [
    "bfa = pd.read_csv('Food_FAO_2017_2.csv', delimiter=';')"
   ]
  },
  {
   "cell_type": "code",
   "execution_count": 8,
   "metadata": {
    "scrolled": false
   },
   "outputs": [
    {
     "data": {
      "text/html": [
       "<div>\n",
       "<style scoped>\n",
       "    .dataframe tbody tr th:only-of-type {\n",
       "        vertical-align: middle;\n",
       "    }\n",
       "\n",
       "    .dataframe tbody tr th {\n",
       "        vertical-align: top;\n",
       "    }\n",
       "\n",
       "    .dataframe thead th {\n",
       "        text-align: right;\n",
       "    }\n",
       "</style>\n",
       "<table border=\"1\" class=\"dataframe\">\n",
       "  <thead>\n",
       "    <tr style=\"text-align: right;\">\n",
       "      <th></th>\n",
       "      <th>objectid</th>\n",
       "      <th>id_no</th>\n",
       "      <th>binomial</th>\n",
       "      <th>presence</th>\n",
       "      <th>origin</th>\n",
       "      <th>seasonal</th>\n",
       "      <th>compiler</th>\n",
       "      <th>year</th>\n",
       "      <th>citation</th>\n",
       "      <th>source</th>\n",
       "      <th>...</th>\n",
       "      <th>tax_comm</th>\n",
       "      <th>kingdom</th>\n",
       "      <th>phylum</th>\n",
       "      <th>class</th>\n",
       "      <th>order_</th>\n",
       "      <th>family</th>\n",
       "      <th>genus</th>\n",
       "      <th>code</th>\n",
       "      <th>shape_length</th>\n",
       "      <th>shape_area</th>\n",
       "    </tr>\n",
       "  </thead>\n",
       "  <tbody>\n",
       "    <tr>\n",
       "      <th>0</th>\n",
       "      <td>10143</td>\n",
       "      <td>190868.0</td>\n",
       "      <td>Nihonogomphus thomassoni</td>\n",
       "      <td>2</td>\n",
       "      <td>1</td>\n",
       "      <td>1</td>\n",
       "      <td>Kate Saunders</td>\n",
       "      <td>2011</td>\n",
       "      <td>Asia freshwater biodiversity assessments, IUCN</td>\n",
       "      <td>Red List assessment</td>\n",
       "      <td>...</td>\n",
       "      <td>NaN</td>\n",
       "      <td>ANIMALIA</td>\n",
       "      <td>ARTHROPODA</td>\n",
       "      <td>INSECTA</td>\n",
       "      <td>ODONATA</td>\n",
       "      <td>GOMPHIDAE</td>\n",
       "      <td>Nihonogomphus</td>\n",
       "      <td>LC</td>\n",
       "      <td>99.744070</td>\n",
       "      <td>27.275351</td>\n",
       "    </tr>\n",
       "    <tr>\n",
       "      <th>1</th>\n",
       "      <td>10144</td>\n",
       "      <td>190868.0</td>\n",
       "      <td>Nihonogomphus thomassoni</td>\n",
       "      <td>1</td>\n",
       "      <td>1</td>\n",
       "      <td>1</td>\n",
       "      <td>FBU</td>\n",
       "      <td>2011</td>\n",
       "      <td>IUCN (International Union for Conservation of ...</td>\n",
       "      <td>NaN</td>\n",
       "      <td>...</td>\n",
       "      <td>NaN</td>\n",
       "      <td>ANIMALIA</td>\n",
       "      <td>ARTHROPODA</td>\n",
       "      <td>INSECTA</td>\n",
       "      <td>ODONATA</td>\n",
       "      <td>GOMPHIDAE</td>\n",
       "      <td>Nihonogomphus</td>\n",
       "      <td>LC</td>\n",
       "      <td>2.133768</td>\n",
       "      <td>0.093543</td>\n",
       "    </tr>\n",
       "    <tr>\n",
       "      <th>2</th>\n",
       "      <td>10145</td>\n",
       "      <td>190868.0</td>\n",
       "      <td>Nihonogomphus thomassoni</td>\n",
       "      <td>1</td>\n",
       "      <td>1</td>\n",
       "      <td>1</td>\n",
       "      <td>DO Manh Cuong</td>\n",
       "      <td>2010</td>\n",
       "      <td>Asia freshwater biodiversity assessments, IUCN</td>\n",
       "      <td>unknown</td>\n",
       "      <td>...</td>\n",
       "      <td>NaN</td>\n",
       "      <td>ANIMALIA</td>\n",
       "      <td>ARTHROPODA</td>\n",
       "      <td>INSECTA</td>\n",
       "      <td>ODONATA</td>\n",
       "      <td>GOMPHIDAE</td>\n",
       "      <td>Nihonogomphus</td>\n",
       "      <td>LC</td>\n",
       "      <td>4.357552</td>\n",
       "      <td>0.301940</td>\n",
       "    </tr>\n",
       "    <tr>\n",
       "      <th>3</th>\n",
       "      <td>10146</td>\n",
       "      <td>190868.0</td>\n",
       "      <td>Nihonogomphus thomassoni</td>\n",
       "      <td>1</td>\n",
       "      <td>1</td>\n",
       "      <td>1</td>\n",
       "      <td>DO Manh Cuong</td>\n",
       "      <td>2010</td>\n",
       "      <td>Asia freshwater biodiversity assessments, IUCN</td>\n",
       "      <td>Red List assessment</td>\n",
       "      <td>...</td>\n",
       "      <td>NaN</td>\n",
       "      <td>ANIMALIA</td>\n",
       "      <td>ARTHROPODA</td>\n",
       "      <td>INSECTA</td>\n",
       "      <td>ODONATA</td>\n",
       "      <td>GOMPHIDAE</td>\n",
       "      <td>Nihonogomphus</td>\n",
       "      <td>LC</td>\n",
       "      <td>6.100119</td>\n",
       "      <td>0.527099</td>\n",
       "    </tr>\n",
       "    <tr>\n",
       "      <th>4</th>\n",
       "      <td>10147</td>\n",
       "      <td>63940.0</td>\n",
       "      <td>Tantilla coronadoi</td>\n",
       "      <td>1</td>\n",
       "      <td>1</td>\n",
       "      <td>1</td>\n",
       "      <td>NatureServe and IUCN</td>\n",
       "      <td>2007</td>\n",
       "      <td>NatureServe and IUCN (International Union for ...</td>\n",
       "      <td>NaN</td>\n",
       "      <td>...</td>\n",
       "      <td>NaN</td>\n",
       "      <td>ANIMALIA</td>\n",
       "      <td>CHORDATA</td>\n",
       "      <td>REPTILIA</td>\n",
       "      <td>SQUAMATA</td>\n",
       "      <td>COLUBRIDAE</td>\n",
       "      <td>Tantilla</td>\n",
       "      <td>LC</td>\n",
       "      <td>0.789530</td>\n",
       "      <td>0.049604</td>\n",
       "    </tr>\n",
       "  </tbody>\n",
       "</table>\n",
       "<p>5 rows × 25 columns</p>\n",
       "</div>"
      ],
      "text/plain": [
       "   objectid     id_no                  binomial  presence  origin  seasonal  \\\n",
       "0     10143  190868.0  Nihonogomphus thomassoni         2       1         1   \n",
       "1     10144  190868.0  Nihonogomphus thomassoni         1       1         1   \n",
       "2     10145  190868.0  Nihonogomphus thomassoni         1       1         1   \n",
       "3     10146  190868.0  Nihonogomphus thomassoni         1       1         1   \n",
       "4     10147   63940.0        Tantilla coronadoi         1       1         1   \n",
       "\n",
       "               compiler  year  \\\n",
       "0         Kate Saunders  2011   \n",
       "1                   FBU  2011   \n",
       "2         DO Manh Cuong  2010   \n",
       "3         DO Manh Cuong  2010   \n",
       "4  NatureServe and IUCN  2007   \n",
       "\n",
       "                                            citation               source  \\\n",
       "0     Asia freshwater biodiversity assessments, IUCN  Red List assessment   \n",
       "1  IUCN (International Union for Conservation of ...                  NaN   \n",
       "2     Asia freshwater biodiversity assessments, IUCN              unknown   \n",
       "3     Asia freshwater biodiversity assessments, IUCN  Red List assessment   \n",
       "4  NatureServe and IUCN (International Union for ...                  NaN   \n",
       "\n",
       "     ...     tax_comm   kingdom      phylum     class    order_      family  \\\n",
       "0    ...          NaN  ANIMALIA  ARTHROPODA   INSECTA   ODONATA   GOMPHIDAE   \n",
       "1    ...          NaN  ANIMALIA  ARTHROPODA   INSECTA   ODONATA   GOMPHIDAE   \n",
       "2    ...          NaN  ANIMALIA  ARTHROPODA   INSECTA   ODONATA   GOMPHIDAE   \n",
       "3    ...          NaN  ANIMALIA  ARTHROPODA   INSECTA   ODONATA   GOMPHIDAE   \n",
       "4    ...          NaN  ANIMALIA    CHORDATA  REPTILIA  SQUAMATA  COLUBRIDAE   \n",
       "\n",
       "           genus code shape_length shape_area  \n",
       "0  Nihonogomphus   LC    99.744070  27.275351  \n",
       "1  Nihonogomphus   LC     2.133768   0.093543  \n",
       "2  Nihonogomphus   LC     4.357552   0.301940  \n",
       "3  Nihonogomphus   LC     6.100119   0.527099  \n",
       "4       Tantilla   LC     0.789530   0.049604  \n",
       "\n",
       "[5 rows x 25 columns]"
      ]
     },
     "execution_count": 8,
     "metadata": {},
     "output_type": "execute_result"
    }
   ],
   "source": [
    "sis.head()"
   ]
  },
  {
   "cell_type": "code",
   "execution_count": 9,
   "metadata": {
    "scrolled": true
   },
   "outputs": [
    {
     "name": "stdout",
     "output_type": "stream",
     "text": [
      "The number of database rows of species id 137: 13\n"
     ]
    }
   ],
   "source": [
    "print('The number of database rows of species id 137: {}'.format(sis[sis.id_no==137].id_no.count()))"
   ]
  },
  {
   "cell_type": "markdown",
   "metadata": {},
   "source": [
    "It is important to understand that the `sis` table, i.e., the attribute table of the spatial data, contain potentially both multi-part polygons as well as single-part polygons (probably due to different sources + range polygons with different presence, origin and seasonality). \n",
    "\n",
    "There may also be a possiblity that these rows may be overlapping."
   ]
  },
  {
   "cell_type": "markdown",
   "metadata": {},
   "source": [
    "Setting the indices for both datasets. Make sure the ids are integer. Also clean the tables, to reduce size"
   ]
  },
  {
   "cell_type": "code",
   "execution_count": 10,
   "metadata": {},
   "outputs": [
    {
     "name": "stdout",
     "output_type": "stream",
     "text": [
      "<class 'pandas.core.frame.DataFrame'>\n",
      "RangeIndex: 78042 entries, 0 to 78041\n",
      "Data columns (total 25 columns):\n",
      "objectid        78042 non-null int64\n",
      "id_no           78042 non-null float64\n",
      "binomial        78042 non-null object\n",
      "presence        78042 non-null int64\n",
      "origin          78042 non-null int64\n",
      "seasonal        78042 non-null int64\n",
      "compiler        76165 non-null object\n",
      "year            78042 non-null int64\n",
      "citation        78038 non-null object\n",
      "source          24156 non-null object\n",
      "dist_comm       947 non-null object\n",
      "island          7320 non-null object\n",
      "subspecies      1197 non-null object\n",
      "subpop          186 non-null object\n",
      "legend          78042 non-null object\n",
      "tax_comm        426 non-null object\n",
      "kingdom         78042 non-null object\n",
      "phylum          78042 non-null object\n",
      "class           78042 non-null object\n",
      "order_          78042 non-null object\n",
      "family          78042 non-null object\n",
      "genus           78042 non-null object\n",
      "code            78042 non-null object\n",
      "shape_length    78042 non-null float64\n",
      "shape_area      78042 non-null float64\n",
      "dtypes: float64(3), int64(5), object(17)\n",
      "memory usage: 14.9+ MB\n"
     ]
    }
   ],
   "source": [
    "sis.info()"
   ]
  },
  {
   "cell_type": "code",
   "execution_count": 11,
   "metadata": {},
   "outputs": [
    {
     "data": {
      "text/plain": [
       "117582065.0"
      ]
     },
     "execution_count": 11,
     "metadata": {},
     "output_type": "execute_result"
    }
   ],
   "source": [
    "sis.id_no.max()"
   ]
  },
  {
   "cell_type": "markdown",
   "metadata": {},
   "source": [
    "Choose 4 bytes for the ID field. The largest `id_no` is less than the largest value of `uint32`"
   ]
  },
  {
   "cell_type": "code",
   "execution_count": 12,
   "metadata": {},
   "outputs": [
    {
     "name": "stdout",
     "output_type": "stream",
     "text": [
      "Machine parameters for uint8\n",
      "---------------------------------------------------------------\n",
      "min = 0\n",
      "max = 255\n",
      "---------------------------------------------------------------\n",
      "\n",
      "Machine parameters for int8\n",
      "---------------------------------------------------------------\n",
      "min = -128\n",
      "max = 127\n",
      "---------------------------------------------------------------\n",
      "\n",
      "Machine parameters for int16\n",
      "---------------------------------------------------------------\n",
      "min = -32768\n",
      "max = 32767\n",
      "---------------------------------------------------------------\n",
      "\n",
      "Machine parameters for uint16\n",
      "---------------------------------------------------------------\n",
      "min = 0\n",
      "max = 65535\n",
      "---------------------------------------------------------------\n",
      "\n",
      "Machine parameters for uint32\n",
      "---------------------------------------------------------------\n",
      "min = 0\n",
      "max = 4294967295\n",
      "---------------------------------------------------------------\n",
      "\n",
      "Machine parameters for int32\n",
      "---------------------------------------------------------------\n",
      "min = -2147483648\n",
      "max = 2147483647\n",
      "---------------------------------------------------------------\n",
      "\n",
      "Machine parameters for int64\n",
      "---------------------------------------------------------------\n",
      "min = -9223372036854775808\n",
      "max = 9223372036854775807\n",
      "---------------------------------------------------------------\n",
      "\n"
     ]
    }
   ],
   "source": [
    "int_types = [\"uint8\", \"int8\", \"int16\", \"uint16\", \"uint32\", \"int32\", 'int64']\n",
    "for it in int_types:\n",
    "    print(np.iinfo(it))"
   ]
  },
  {
   "cell_type": "code",
   "execution_count": 13,
   "metadata": {},
   "outputs": [],
   "source": [
    "sis_columns=['id_no', 'kingdom', 'phylum', 'class', 'order_', 'family', 'genus', 'code', 'shape_area']\n",
    "sis_clean = pd.DataFrame(sis[sis_columns])\n",
    "sis_clean = sis_clean.astype(dtype={\"id_no\": \"uint32\",\n",
    "                                    'kingdom': \"category\",\n",
    "                                    'phylum': \"category\",\n",
    "                                     'class': \"category\",\n",
    "                                     'order_': \"category\",\n",
    "                                     'family': \"category\",\n",
    "                                     'genus': \"category\",\n",
    "                                     'code': \"category\"})\n",
    "# sis_clean = sis_clean.set_index('id_no')"
   ]
  },
  {
   "cell_type": "code",
   "execution_count": 14,
   "metadata": {},
   "outputs": [
    {
     "name": "stdout",
     "output_type": "stream",
     "text": [
      "<class 'pandas.core.frame.DataFrame'>\n",
      "RangeIndex: 78042 entries, 0 to 78041\n",
      "Data columns (total 9 columns):\n",
      "id_no         78042 non-null uint32\n",
      "kingdom       78042 non-null category\n",
      "phylum        78042 non-null category\n",
      "class         78042 non-null category\n",
      "order_        78042 non-null category\n",
      "family        78042 non-null category\n",
      "genus         78042 non-null category\n",
      "code          78042 non-null category\n",
      "shape_area    78042 non-null float64\n",
      "dtypes: category(7), float64(1), uint32(1)\n",
      "memory usage: 2.1 MB\n"
     ]
    }
   ],
   "source": [
    "sis_clean.info()"
   ]
  },
  {
   "cell_type": "markdown",
   "metadata": {},
   "source": [
    "After the data cleaning process, the size of the `sis` table has reduced from 14.9+MB to 2.1MB. All essential information is retained and the number of rows stays the same"
   ]
  },
  {
   "cell_type": "code",
   "execution_count": 15,
   "metadata": {},
   "outputs": [
    {
     "data": {
      "text/plain": [
       "True"
      ]
     },
     "execution_count": 15,
     "metadata": {},
     "output_type": "execute_result"
    }
   ],
   "source": [
    "sis.index.size == sis_clean.index.size"
   ]
  },
  {
   "cell_type": "code",
   "execution_count": 16,
   "metadata": {},
   "outputs": [
    {
     "data": {
      "text/plain": [
       "117582065.0"
      ]
     },
     "execution_count": 16,
     "metadata": {},
     "output_type": "execute_result"
    }
   ],
   "source": [
    "sis.id_no.max()"
   ]
  },
  {
   "cell_type": "code",
   "execution_count": 17,
   "metadata": {},
   "outputs": [
    {
     "data": {
      "text/html": [
       "<div>\n",
       "<style scoped>\n",
       "    .dataframe tbody tr th:only-of-type {\n",
       "        vertical-align: middle;\n",
       "    }\n",
       "\n",
       "    .dataframe tbody tr th {\n",
       "        vertical-align: top;\n",
       "    }\n",
       "\n",
       "    .dataframe thead th {\n",
       "        text-align: right;\n",
       "    }\n",
       "</style>\n",
       "<table border=\"1\" class=\"dataframe\">\n",
       "  <thead>\n",
       "    <tr style=\"text-align: right;\">\n",
       "      <th></th>\n",
       "      <th>id</th>\n",
       "      <th>kingdom_name</th>\n",
       "      <th>phylum_name</th>\n",
       "      <th>class_name</th>\n",
       "      <th>order_name</th>\n",
       "      <th>family_name</th>\n",
       "      <th>genus_name</th>\n",
       "      <th>species_name</th>\n",
       "      <th>scientific_name</th>\n",
       "      <th>authority</th>\n",
       "      <th>infra_rank</th>\n",
       "      <th>infra_name</th>\n",
       "      <th>infra_authority</th>\n",
       "      <th>category</th>\n",
       "      <th>criteria</th>\n",
       "      <th>publicationyear</th>\n",
       "      <th>main_common_name</th>\n",
       "      <th>value</th>\n",
       "      <th>REF</th>\n",
       "      <th>DESCRIPTION</th>\n",
       "    </tr>\n",
       "  </thead>\n",
       "  <tbody>\n",
       "    <tr>\n",
       "      <th>0</th>\n",
       "      <td>9</td>\n",
       "      <td>ANIMALIA</td>\n",
       "      <td>CHORDATA</td>\n",
       "      <td>ACTINOPTERYGII</td>\n",
       "      <td>CYPRINIFORMES</td>\n",
       "      <td>CYPRINIDAE</td>\n",
       "      <td>Aaptosyax</td>\n",
       "      <td>grypus</td>\n",
       "      <td>Aaptosyax grypus</td>\n",
       "      <td>Rainboth, 1991</td>\n",
       "      <td>NaN</td>\n",
       "      <td>NaN</td>\n",
       "      <td>NaN</td>\n",
       "      <td>CR</td>\n",
       "      <td>A2acd</td>\n",
       "      <td>2011</td>\n",
       "      <td>Mekong Giant Salmon Carp</td>\n",
       "      <td>1</td>\n",
       "      <td>1</td>\n",
       "      <td>Food - human</td>\n",
       "    </tr>\n",
       "    <tr>\n",
       "      <th>1</th>\n",
       "      <td>137</td>\n",
       "      <td>ANIMALIA</td>\n",
       "      <td>CHORDATA</td>\n",
       "      <td>MAMMALIA</td>\n",
       "      <td>CHIROPTERA</td>\n",
       "      <td>PTEROPODIDAE</td>\n",
       "      <td>Acerodon</td>\n",
       "      <td>celebensis</td>\n",
       "      <td>Acerodon celebensis</td>\n",
       "      <td>Peters, 1867</td>\n",
       "      <td>NaN</td>\n",
       "      <td>NaN</td>\n",
       "      <td>NaN</td>\n",
       "      <td>VU</td>\n",
       "      <td>A2d</td>\n",
       "      <td>2016</td>\n",
       "      <td>Sulawesi Fruit Bat</td>\n",
       "      <td>1</td>\n",
       "      <td>1</td>\n",
       "      <td>Food - human</td>\n",
       "    </tr>\n",
       "    <tr>\n",
       "      <th>2</th>\n",
       "      <td>138</td>\n",
       "      <td>ANIMALIA</td>\n",
       "      <td>CHORDATA</td>\n",
       "      <td>MAMMALIA</td>\n",
       "      <td>CHIROPTERA</td>\n",
       "      <td>PTEROPODIDAE</td>\n",
       "      <td>Acerodon</td>\n",
       "      <td>humilis</td>\n",
       "      <td>Acerodon humilis</td>\n",
       "      <td>K. Andersen, 1909</td>\n",
       "      <td>NaN</td>\n",
       "      <td>NaN</td>\n",
       "      <td>NaN</td>\n",
       "      <td>EN</td>\n",
       "      <td>B1ab(iii,v)</td>\n",
       "      <td>2016</td>\n",
       "      <td>Talaud Fruit Bat</td>\n",
       "      <td>1</td>\n",
       "      <td>1</td>\n",
       "      <td>Food - human</td>\n",
       "    </tr>\n",
       "    <tr>\n",
       "      <th>3</th>\n",
       "      <td>139</td>\n",
       "      <td>ANIMALIA</td>\n",
       "      <td>CHORDATA</td>\n",
       "      <td>MAMMALIA</td>\n",
       "      <td>CHIROPTERA</td>\n",
       "      <td>PTEROPODIDAE</td>\n",
       "      <td>Acerodon</td>\n",
       "      <td>jubatus</td>\n",
       "      <td>Acerodon jubatus</td>\n",
       "      <td>(Eschscholtz, 1831)</td>\n",
       "      <td>NaN</td>\n",
       "      <td>NaN</td>\n",
       "      <td>NaN</td>\n",
       "      <td>EN</td>\n",
       "      <td>A2cd</td>\n",
       "      <td>2016</td>\n",
       "      <td>Golden-capped Fruit Bat</td>\n",
       "      <td>1</td>\n",
       "      <td>1</td>\n",
       "      <td>Food - human</td>\n",
       "    </tr>\n",
       "    <tr>\n",
       "      <th>4</th>\n",
       "      <td>140</td>\n",
       "      <td>ANIMALIA</td>\n",
       "      <td>CHORDATA</td>\n",
       "      <td>MAMMALIA</td>\n",
       "      <td>CHIROPTERA</td>\n",
       "      <td>PTEROPODIDAE</td>\n",
       "      <td>Acerodon</td>\n",
       "      <td>leucotis</td>\n",
       "      <td>Acerodon leucotis</td>\n",
       "      <td>(Sanborn, 1950)</td>\n",
       "      <td>NaN</td>\n",
       "      <td>NaN</td>\n",
       "      <td>NaN</td>\n",
       "      <td>VU</td>\n",
       "      <td>A4cd</td>\n",
       "      <td>2008</td>\n",
       "      <td>Palawan Fruit Bat</td>\n",
       "      <td>1</td>\n",
       "      <td>1</td>\n",
       "      <td>Food - human</td>\n",
       "    </tr>\n",
       "  </tbody>\n",
       "</table>\n",
       "</div>"
      ],
      "text/plain": [
       "    id kingdom_name phylum_name      class_name     order_name   family_name  \\\n",
       "0    9     ANIMALIA    CHORDATA  ACTINOPTERYGII  CYPRINIFORMES    CYPRINIDAE   \n",
       "1  137     ANIMALIA    CHORDATA        MAMMALIA     CHIROPTERA  PTEROPODIDAE   \n",
       "2  138     ANIMALIA    CHORDATA        MAMMALIA     CHIROPTERA  PTEROPODIDAE   \n",
       "3  139     ANIMALIA    CHORDATA        MAMMALIA     CHIROPTERA  PTEROPODIDAE   \n",
       "4  140     ANIMALIA    CHORDATA        MAMMALIA     CHIROPTERA  PTEROPODIDAE   \n",
       "\n",
       "  genus_name species_name      scientific_name            authority  \\\n",
       "0  Aaptosyax       grypus     Aaptosyax grypus       Rainboth, 1991   \n",
       "1   Acerodon   celebensis  Acerodon celebensis         Peters, 1867   \n",
       "2   Acerodon      humilis     Acerodon humilis    K. Andersen, 1909   \n",
       "3   Acerodon      jubatus     Acerodon jubatus  (Eschscholtz, 1831)   \n",
       "4   Acerodon     leucotis    Acerodon leucotis      (Sanborn, 1950)   \n",
       "\n",
       "  infra_rank infra_name  infra_authority category     criteria  \\\n",
       "0        NaN        NaN              NaN       CR        A2acd   \n",
       "1        NaN        NaN              NaN       VU          A2d   \n",
       "2        NaN        NaN              NaN       EN  B1ab(iii,v)   \n",
       "3        NaN        NaN              NaN       EN         A2cd   \n",
       "4        NaN        NaN              NaN       VU         A4cd   \n",
       "\n",
       "   publicationyear          main_common_name  value  REF   DESCRIPTION  \n",
       "0             2011  Mekong Giant Salmon Carp      1    1  Food - human  \n",
       "1             2016        Sulawesi Fruit Bat      1    1  Food - human  \n",
       "2             2016          Talaud Fruit Bat      1    1  Food - human  \n",
       "3             2016   Golden-capped Fruit Bat      1    1  Food - human  \n",
       "4             2008         Palawan Fruit Bat      1    1  Food - human  "
      ]
     },
     "execution_count": 17,
     "metadata": {},
     "output_type": "execute_result"
    }
   ],
   "source": [
    "bfa.head()"
   ]
  },
  {
   "cell_type": "code",
   "execution_count": 18,
   "metadata": {},
   "outputs": [
    {
     "name": "stdout",
     "output_type": "stream",
     "text": [
      "<class 'pandas.core.frame.DataFrame'>\n",
      "RangeIndex: 11396 entries, 0 to 11395\n",
      "Data columns (total 20 columns):\n",
      "id                  11396 non-null int64\n",
      "kingdom_name        11396 non-null object\n",
      "phylum_name         11396 non-null object\n",
      "class_name          11396 non-null object\n",
      "order_name          11396 non-null object\n",
      "family_name         11396 non-null object\n",
      "genus_name          11396 non-null object\n",
      "species_name        11396 non-null object\n",
      "scientific_name     11396 non-null object\n",
      "authority           11380 non-null object\n",
      "infra_rank          126 non-null object\n",
      "infra_name          126 non-null object\n",
      "infra_authority     0 non-null float64\n",
      "category            11396 non-null object\n",
      "criteria            1899 non-null object\n",
      "publicationyear     11396 non-null int64\n",
      "main_common_name    8649 non-null object\n",
      "value               11396 non-null int64\n",
      "REF                 11396 non-null int64\n",
      "DESCRIPTION         11396 non-null object\n",
      "dtypes: float64(1), int64(4), object(15)\n",
      "memory usage: 1.7+ MB\n"
     ]
    }
   ],
   "source": [
    "bfa.info()"
   ]
  },
  {
   "cell_type": "code",
   "execution_count": 19,
   "metadata": {},
   "outputs": [
    {
     "data": {
      "text/plain": [
       "117582065"
      ]
     },
     "execution_count": 19,
     "metadata": {},
     "output_type": "execute_result"
    }
   ],
   "source": [
    "bfa.id.max()"
   ]
  },
  {
   "cell_type": "code",
   "execution_count": 20,
   "metadata": {},
   "outputs": [],
   "source": [
    "columns=['id', 'kingdom_name', 'phylum_name', 'class_name', 'order_name', 'family_name', 'genus_name', 'category']\n",
    "bfa_clean = pd.DataFrame(bfa[columns])\n",
    "bfa_clean = bfa_clean.astype(dtype={\"id\": \"uint32\",\n",
    "                                    'kingdom_name': \"category\",\n",
    "                                    'phylum_name': \"category\",\n",
    "                                     'class_name': \"category\",\n",
    "                                     'order_name': \"category\",\n",
    "                                     'family_name': \"category\",\n",
    "                                     'genus_name': \"category\",\n",
    "                                     'category': \"category\"})\n",
    "# bfa_clean = bfa_clean.set_index('id')"
   ]
  },
  {
   "cell_type": "code",
   "execution_count": 21,
   "metadata": {},
   "outputs": [
    {
     "name": "stdout",
     "output_type": "stream",
     "text": [
      "<class 'pandas.core.frame.DataFrame'>\n",
      "RangeIndex: 11396 entries, 0 to 11395\n",
      "Data columns (total 8 columns):\n",
      "id              11396 non-null uint32\n",
      "kingdom_name    11396 non-null category\n",
      "phylum_name     11396 non-null category\n",
      "class_name      11396 non-null category\n",
      "order_name      11396 non-null category\n",
      "family_name     11396 non-null category\n",
      "genus_name      11396 non-null category\n",
      "category        11396 non-null category\n",
      "dtypes: category(7), uint32(1)\n",
      "memory usage: 294.3 KB\n"
     ]
    }
   ],
   "source": [
    "bfa_clean.info()"
   ]
  },
  {
   "cell_type": "markdown",
   "metadata": {},
   "source": [
    "Since both `sis` and `bfa` tables contains multiple rows per species, it is imperative that they must not counted multiple times. The below function is to achieve that."
   ]
  },
  {
   "cell_type": "code",
   "execution_count": 22,
   "metadata": {},
   "outputs": [],
   "source": [
    "def count_unique(array_like):\n",
    "    return np.count_nonzero(np.unique(array_like))"
   ]
  },
  {
   "cell_type": "code",
   "execution_count": 23,
   "metadata": {},
   "outputs": [
    {
     "data": {
      "text/plain": [
       "9627"
      ]
     },
     "execution_count": 23,
     "metadata": {},
     "output_type": "execute_result"
    }
   ],
   "source": [
    "np.count_nonzero(bfa_clean.id.unique())"
   ]
  },
  {
   "cell_type": "code",
   "execution_count": 24,
   "metadata": {},
   "outputs": [
    {
     "data": {
      "text/plain": [
       "9627"
      ]
     },
     "execution_count": 24,
     "metadata": {},
     "output_type": "execute_result"
    }
   ],
   "source": [
    "count_unique(bfa_clean.id)"
   ]
  },
  {
   "cell_type": "markdown",
   "metadata": {},
   "source": [
    "###  Spatial data for species for food and agriculture\n",
    "\n",
    "This is to find out how many species in the non spatial database have spatial data"
   ]
  },
  {
   "cell_type": "markdown",
   "metadata": {},
   "source": [
    "\n",
    "Count of species by class and red list categories from the `bfa` table"
   ]
  },
  {
   "cell_type": "code",
   "execution_count": 25,
   "metadata": {},
   "outputs": [
    {
     "data": {
      "text/html": [
       "<div>\n",
       "<style scoped>\n",
       "    .dataframe tbody tr th:only-of-type {\n",
       "        vertical-align: middle;\n",
       "    }\n",
       "\n",
       "    .dataframe tbody tr th {\n",
       "        vertical-align: top;\n",
       "    }\n",
       "\n",
       "    .dataframe thead th {\n",
       "        text-align: right;\n",
       "    }\n",
       "</style>\n",
       "<table border=\"1\" class=\"dataframe\">\n",
       "  <thead>\n",
       "    <tr style=\"text-align: right;\">\n",
       "      <th>category</th>\n",
       "      <th>CR</th>\n",
       "      <th>DD</th>\n",
       "      <th>EN</th>\n",
       "      <th>EW</th>\n",
       "      <th>EX</th>\n",
       "      <th>LC</th>\n",
       "      <th>LR/lc</th>\n",
       "      <th>LR/nt</th>\n",
       "      <th>NT</th>\n",
       "      <th>VU</th>\n",
       "      <th>All</th>\n",
       "    </tr>\n",
       "    <tr>\n",
       "      <th>class_name</th>\n",
       "      <th></th>\n",
       "      <th></th>\n",
       "      <th></th>\n",
       "      <th></th>\n",
       "      <th></th>\n",
       "      <th></th>\n",
       "      <th></th>\n",
       "      <th></th>\n",
       "      <th></th>\n",
       "      <th></th>\n",
       "      <th></th>\n",
       "    </tr>\n",
       "  </thead>\n",
       "  <tbody>\n",
       "    <tr>\n",
       "      <th>ACTINOPTERYGII</th>\n",
       "      <td>133</td>\n",
       "      <td>799</td>\n",
       "      <td>148</td>\n",
       "      <td>1</td>\n",
       "      <td>9</td>\n",
       "      <td>3129</td>\n",
       "      <td>1</td>\n",
       "      <td>1</td>\n",
       "      <td>157</td>\n",
       "      <td>233</td>\n",
       "      <td>4611</td>\n",
       "    </tr>\n",
       "    <tr>\n",
       "      <th>AGARICOMYCETES</th>\n",
       "      <td>1</td>\n",
       "      <td>0</td>\n",
       "      <td>2</td>\n",
       "      <td>0</td>\n",
       "      <td>0</td>\n",
       "      <td>0</td>\n",
       "      <td>0</td>\n",
       "      <td>0</td>\n",
       "      <td>1</td>\n",
       "      <td>4</td>\n",
       "      <td>8</td>\n",
       "    </tr>\n",
       "    <tr>\n",
       "      <th>AMPHIBIA</th>\n",
       "      <td>9</td>\n",
       "      <td>12</td>\n",
       "      <td>20</td>\n",
       "      <td>0</td>\n",
       "      <td>0</td>\n",
       "      <td>141</td>\n",
       "      <td>0</td>\n",
       "      <td>0</td>\n",
       "      <td>22</td>\n",
       "      <td>34</td>\n",
       "      <td>238</td>\n",
       "    </tr>\n",
       "    <tr>\n",
       "      <th>ANTHOZOA</th>\n",
       "      <td>0</td>\n",
       "      <td>1</td>\n",
       "      <td>0</td>\n",
       "      <td>0</td>\n",
       "      <td>0</td>\n",
       "      <td>1</td>\n",
       "      <td>0</td>\n",
       "      <td>0</td>\n",
       "      <td>0</td>\n",
       "      <td>0</td>\n",
       "      <td>2</td>\n",
       "    </tr>\n",
       "    <tr>\n",
       "      <th>AVES</th>\n",
       "      <td>63</td>\n",
       "      <td>5</td>\n",
       "      <td>113</td>\n",
       "      <td>2</td>\n",
       "      <td>46</td>\n",
       "      <td>1021</td>\n",
       "      <td>0</td>\n",
       "      <td>0</td>\n",
       "      <td>191</td>\n",
       "      <td>205</td>\n",
       "      <td>1646</td>\n",
       "    </tr>\n",
       "    <tr>\n",
       "      <th>BIVALVIA</th>\n",
       "      <td>6</td>\n",
       "      <td>23</td>\n",
       "      <td>8</td>\n",
       "      <td>0</td>\n",
       "      <td>0</td>\n",
       "      <td>50</td>\n",
       "      <td>0</td>\n",
       "      <td>0</td>\n",
       "      <td>1</td>\n",
       "      <td>7</td>\n",
       "      <td>95</td>\n",
       "    </tr>\n",
       "    <tr>\n",
       "      <th>CEPHALASPIDOMORPHI</th>\n",
       "      <td>0</td>\n",
       "      <td>0</td>\n",
       "      <td>0</td>\n",
       "      <td>0</td>\n",
       "      <td>1</td>\n",
       "      <td>3</td>\n",
       "      <td>0</td>\n",
       "      <td>0</td>\n",
       "      <td>1</td>\n",
       "      <td>0</td>\n",
       "      <td>5</td>\n",
       "    </tr>\n",
       "    <tr>\n",
       "      <th>CEPHALOPODA</th>\n",
       "      <td>0</td>\n",
       "      <td>62</td>\n",
       "      <td>0</td>\n",
       "      <td>0</td>\n",
       "      <td>0</td>\n",
       "      <td>32</td>\n",
       "      <td>0</td>\n",
       "      <td>0</td>\n",
       "      <td>1</td>\n",
       "      <td>1</td>\n",
       "      <td>96</td>\n",
       "    </tr>\n",
       "    <tr>\n",
       "      <th>CHONDRICHTHYES</th>\n",
       "      <td>6</td>\n",
       "      <td>83</td>\n",
       "      <td>28</td>\n",
       "      <td>0</td>\n",
       "      <td>0</td>\n",
       "      <td>62</td>\n",
       "      <td>0</td>\n",
       "      <td>0</td>\n",
       "      <td>51</td>\n",
       "      <td>57</td>\n",
       "      <td>287</td>\n",
       "    </tr>\n",
       "    <tr>\n",
       "      <th>CLITELLATA</th>\n",
       "      <td>0</td>\n",
       "      <td>2</td>\n",
       "      <td>0</td>\n",
       "      <td>0</td>\n",
       "      <td>1</td>\n",
       "      <td>0</td>\n",
       "      <td>0</td>\n",
       "      <td>0</td>\n",
       "      <td>0</td>\n",
       "      <td>0</td>\n",
       "      <td>3</td>\n",
       "    </tr>\n",
       "    <tr>\n",
       "      <th>CYCADOPSIDA</th>\n",
       "      <td>1</td>\n",
       "      <td>1</td>\n",
       "      <td>3</td>\n",
       "      <td>0</td>\n",
       "      <td>0</td>\n",
       "      <td>3</td>\n",
       "      <td>0</td>\n",
       "      <td>0</td>\n",
       "      <td>3</td>\n",
       "      <td>4</td>\n",
       "      <td>15</td>\n",
       "    </tr>\n",
       "    <tr>\n",
       "      <th>GASTROPODA</th>\n",
       "      <td>1</td>\n",
       "      <td>17</td>\n",
       "      <td>8</td>\n",
       "      <td>0</td>\n",
       "      <td>0</td>\n",
       "      <td>71</td>\n",
       "      <td>0</td>\n",
       "      <td>0</td>\n",
       "      <td>5</td>\n",
       "      <td>7</td>\n",
       "      <td>109</td>\n",
       "    </tr>\n",
       "    <tr>\n",
       "      <th>GNETOPSIDA</th>\n",
       "      <td>0</td>\n",
       "      <td>0</td>\n",
       "      <td>0</td>\n",
       "      <td>0</td>\n",
       "      <td>0</td>\n",
       "      <td>21</td>\n",
       "      <td>0</td>\n",
       "      <td>0</td>\n",
       "      <td>3</td>\n",
       "      <td>0</td>\n",
       "      <td>24</td>\n",
       "    </tr>\n",
       "    <tr>\n",
       "      <th>HOLOTHUROIDEA</th>\n",
       "      <td>0</td>\n",
       "      <td>27</td>\n",
       "      <td>7</td>\n",
       "      <td>0</td>\n",
       "      <td>0</td>\n",
       "      <td>34</td>\n",
       "      <td>0</td>\n",
       "      <td>0</td>\n",
       "      <td>0</td>\n",
       "      <td>7</td>\n",
       "      <td>75</td>\n",
       "    </tr>\n",
       "    <tr>\n",
       "      <th>INSECTA</th>\n",
       "      <td>0</td>\n",
       "      <td>0</td>\n",
       "      <td>0</td>\n",
       "      <td>0</td>\n",
       "      <td>0</td>\n",
       "      <td>1</td>\n",
       "      <td>0</td>\n",
       "      <td>0</td>\n",
       "      <td>0</td>\n",
       "      <td>0</td>\n",
       "      <td>1</td>\n",
       "    </tr>\n",
       "    <tr>\n",
       "      <th>LILIOPSIDA</th>\n",
       "      <td>10</td>\n",
       "      <td>19</td>\n",
       "      <td>12</td>\n",
       "      <td>0</td>\n",
       "      <td>0</td>\n",
       "      <td>158</td>\n",
       "      <td>0</td>\n",
       "      <td>0</td>\n",
       "      <td>16</td>\n",
       "      <td>10</td>\n",
       "      <td>225</td>\n",
       "    </tr>\n",
       "    <tr>\n",
       "      <th>MAGNOLIOPSIDA</th>\n",
       "      <td>11</td>\n",
       "      <td>38</td>\n",
       "      <td>19</td>\n",
       "      <td>1</td>\n",
       "      <td>0</td>\n",
       "      <td>370</td>\n",
       "      <td>1</td>\n",
       "      <td>0</td>\n",
       "      <td>26</td>\n",
       "      <td>35</td>\n",
       "      <td>501</td>\n",
       "    </tr>\n",
       "    <tr>\n",
       "      <th>MALACOSTRACA</th>\n",
       "      <td>1</td>\n",
       "      <td>56</td>\n",
       "      <td>8</td>\n",
       "      <td>0</td>\n",
       "      <td>0</td>\n",
       "      <td>179</td>\n",
       "      <td>0</td>\n",
       "      <td>0</td>\n",
       "      <td>7</td>\n",
       "      <td>12</td>\n",
       "      <td>263</td>\n",
       "    </tr>\n",
       "    <tr>\n",
       "      <th>MAMMALIA</th>\n",
       "      <td>97</td>\n",
       "      <td>69</td>\n",
       "      <td>181</td>\n",
       "      <td>0</td>\n",
       "      <td>3</td>\n",
       "      <td>560</td>\n",
       "      <td>0</td>\n",
       "      <td>0</td>\n",
       "      <td>117</td>\n",
       "      <td>210</td>\n",
       "      <td>1237</td>\n",
       "    </tr>\n",
       "    <tr>\n",
       "      <th>MYXINI</th>\n",
       "      <td>0</td>\n",
       "      <td>2</td>\n",
       "      <td>0</td>\n",
       "      <td>0</td>\n",
       "      <td>0</td>\n",
       "      <td>0</td>\n",
       "      <td>0</td>\n",
       "      <td>0</td>\n",
       "      <td>1</td>\n",
       "      <td>1</td>\n",
       "      <td>4</td>\n",
       "    </tr>\n",
       "    <tr>\n",
       "      <th>PINOPSIDA</th>\n",
       "      <td>1</td>\n",
       "      <td>0</td>\n",
       "      <td>7</td>\n",
       "      <td>0</td>\n",
       "      <td>0</td>\n",
       "      <td>26</td>\n",
       "      <td>1</td>\n",
       "      <td>0</td>\n",
       "      <td>1</td>\n",
       "      <td>3</td>\n",
       "      <td>39</td>\n",
       "    </tr>\n",
       "    <tr>\n",
       "      <th>POLYPODIOPSIDA</th>\n",
       "      <td>0</td>\n",
       "      <td>0</td>\n",
       "      <td>0</td>\n",
       "      <td>0</td>\n",
       "      <td>0</td>\n",
       "      <td>10</td>\n",
       "      <td>0</td>\n",
       "      <td>0</td>\n",
       "      <td>0</td>\n",
       "      <td>0</td>\n",
       "      <td>10</td>\n",
       "    </tr>\n",
       "    <tr>\n",
       "      <th>REPTILIA</th>\n",
       "      <td>19</td>\n",
       "      <td>2</td>\n",
       "      <td>11</td>\n",
       "      <td>0</td>\n",
       "      <td>2</td>\n",
       "      <td>68</td>\n",
       "      <td>0</td>\n",
       "      <td>1</td>\n",
       "      <td>5</td>\n",
       "      <td>19</td>\n",
       "      <td>127</td>\n",
       "    </tr>\n",
       "    <tr>\n",
       "      <th>SARCOPTERYGII</th>\n",
       "      <td>0</td>\n",
       "      <td>0</td>\n",
       "      <td>0</td>\n",
       "      <td>0</td>\n",
       "      <td>0</td>\n",
       "      <td>6</td>\n",
       "      <td>0</td>\n",
       "      <td>0</td>\n",
       "      <td>0</td>\n",
       "      <td>0</td>\n",
       "      <td>6</td>\n",
       "    </tr>\n",
       "    <tr>\n",
       "      <th>All</th>\n",
       "      <td>359</td>\n",
       "      <td>1218</td>\n",
       "      <td>575</td>\n",
       "      <td>4</td>\n",
       "      <td>62</td>\n",
       "      <td>5946</td>\n",
       "      <td>3</td>\n",
       "      <td>2</td>\n",
       "      <td>609</td>\n",
       "      <td>849</td>\n",
       "      <td>9627</td>\n",
       "    </tr>\n",
       "  </tbody>\n",
       "</table>\n",
       "</div>"
      ],
      "text/plain": [
       "category             CR    DD   EN  EW  EX    LC  LR/lc  LR/nt   NT   VU   All\n",
       "class_name                                                                    \n",
       "ACTINOPTERYGII      133   799  148   1   9  3129      1      1  157  233  4611\n",
       "AGARICOMYCETES        1     0    2   0   0     0      0      0    1    4     8\n",
       "AMPHIBIA              9    12   20   0   0   141      0      0   22   34   238\n",
       "ANTHOZOA              0     1    0   0   0     1      0      0    0    0     2\n",
       "AVES                 63     5  113   2  46  1021      0      0  191  205  1646\n",
       "BIVALVIA              6    23    8   0   0    50      0      0    1    7    95\n",
       "CEPHALASPIDOMORPHI    0     0    0   0   1     3      0      0    1    0     5\n",
       "CEPHALOPODA           0    62    0   0   0    32      0      0    1    1    96\n",
       "CHONDRICHTHYES        6    83   28   0   0    62      0      0   51   57   287\n",
       "CLITELLATA            0     2    0   0   1     0      0      0    0    0     3\n",
       "CYCADOPSIDA           1     1    3   0   0     3      0      0    3    4    15\n",
       "GASTROPODA            1    17    8   0   0    71      0      0    5    7   109\n",
       "GNETOPSIDA            0     0    0   0   0    21      0      0    3    0    24\n",
       "HOLOTHUROIDEA         0    27    7   0   0    34      0      0    0    7    75\n",
       "INSECTA               0     0    0   0   0     1      0      0    0    0     1\n",
       "LILIOPSIDA           10    19   12   0   0   158      0      0   16   10   225\n",
       "MAGNOLIOPSIDA        11    38   19   1   0   370      1      0   26   35   501\n",
       "MALACOSTRACA          1    56    8   0   0   179      0      0    7   12   263\n",
       "MAMMALIA             97    69  181   0   3   560      0      0  117  210  1237\n",
       "MYXINI                0     2    0   0   0     0      0      0    1    1     4\n",
       "PINOPSIDA             1     0    7   0   0    26      1      0    1    3    39\n",
       "POLYPODIOPSIDA        0     0    0   0   0    10      0      0    0    0    10\n",
       "REPTILIA             19     2   11   0   2    68      0      1    5   19   127\n",
       "SARCOPTERYGII         0     0    0   0   0     6      0      0    0    0     6\n",
       "All                 359  1218  575   4  62  5946      3      2  609  849  9627"
      ]
     },
     "execution_count": 25,
     "metadata": {},
     "output_type": "execute_result"
    }
   ],
   "source": [
    "bfa_clean.pivot_table(index='class_name',  columns='category', values='id', aggfunc=count_unique, fill_value=0, margins=True)"
   ]
  },
  {
   "cell_type": "markdown",
   "metadata": {},
   "source": [
    "Of which those have spatial data that have been mapped and have spatial data"
   ]
  },
  {
   "cell_type": "code",
   "execution_count": 26,
   "metadata": {},
   "outputs": [
    {
     "data": {
      "text/html": [
       "<div>\n",
       "<style scoped>\n",
       "    .dataframe tbody tr th:only-of-type {\n",
       "        vertical-align: middle;\n",
       "    }\n",
       "\n",
       "    .dataframe tbody tr th {\n",
       "        vertical-align: top;\n",
       "    }\n",
       "\n",
       "    .dataframe thead th {\n",
       "        text-align: right;\n",
       "    }\n",
       "</style>\n",
       "<table border=\"1\" class=\"dataframe\">\n",
       "  <thead>\n",
       "    <tr style=\"text-align: right;\">\n",
       "      <th>category</th>\n",
       "      <th>CR</th>\n",
       "      <th>DD</th>\n",
       "      <th>EN</th>\n",
       "      <th>EW</th>\n",
       "      <th>EX</th>\n",
       "      <th>LC</th>\n",
       "      <th>LR/lc</th>\n",
       "      <th>LR/nt</th>\n",
       "      <th>NT</th>\n",
       "      <th>VU</th>\n",
       "      <th>All</th>\n",
       "    </tr>\n",
       "    <tr>\n",
       "      <th>class_name</th>\n",
       "      <th></th>\n",
       "      <th></th>\n",
       "      <th></th>\n",
       "      <th></th>\n",
       "      <th></th>\n",
       "      <th></th>\n",
       "      <th></th>\n",
       "      <th></th>\n",
       "      <th></th>\n",
       "      <th></th>\n",
       "      <th></th>\n",
       "    </tr>\n",
       "  </thead>\n",
       "  <tbody>\n",
       "    <tr>\n",
       "      <th>ACTINOPTERYGII</th>\n",
       "      <td>59</td>\n",
       "      <td>46</td>\n",
       "      <td>23</td>\n",
       "      <td>1</td>\n",
       "      <td>2</td>\n",
       "      <td>136</td>\n",
       "      <td>1</td>\n",
       "      <td>1</td>\n",
       "      <td>18</td>\n",
       "      <td>33</td>\n",
       "      <td>320.0</td>\n",
       "    </tr>\n",
       "    <tr>\n",
       "      <th>AGARICOMYCETES</th>\n",
       "      <td>0</td>\n",
       "      <td>0</td>\n",
       "      <td>0</td>\n",
       "      <td>0</td>\n",
       "      <td>0</td>\n",
       "      <td>0</td>\n",
       "      <td>0</td>\n",
       "      <td>0</td>\n",
       "      <td>0</td>\n",
       "      <td>0</td>\n",
       "      <td>NaN</td>\n",
       "    </tr>\n",
       "    <tr>\n",
       "      <th>AMPHIBIA</th>\n",
       "      <td>9</td>\n",
       "      <td>10</td>\n",
       "      <td>20</td>\n",
       "      <td>0</td>\n",
       "      <td>0</td>\n",
       "      <td>130</td>\n",
       "      <td>0</td>\n",
       "      <td>0</td>\n",
       "      <td>21</td>\n",
       "      <td>31</td>\n",
       "      <td>221.0</td>\n",
       "    </tr>\n",
       "    <tr>\n",
       "      <th>ANTHOZOA</th>\n",
       "      <td>0</td>\n",
       "      <td>0</td>\n",
       "      <td>0</td>\n",
       "      <td>0</td>\n",
       "      <td>0</td>\n",
       "      <td>0</td>\n",
       "      <td>0</td>\n",
       "      <td>0</td>\n",
       "      <td>0</td>\n",
       "      <td>0</td>\n",
       "      <td>NaN</td>\n",
       "    </tr>\n",
       "    <tr>\n",
       "      <th>AVES</th>\n",
       "      <td>0</td>\n",
       "      <td>0</td>\n",
       "      <td>0</td>\n",
       "      <td>0</td>\n",
       "      <td>0</td>\n",
       "      <td>0</td>\n",
       "      <td>0</td>\n",
       "      <td>0</td>\n",
       "      <td>0</td>\n",
       "      <td>0</td>\n",
       "      <td>NaN</td>\n",
       "    </tr>\n",
       "    <tr>\n",
       "      <th>BIVALVIA</th>\n",
       "      <td>0</td>\n",
       "      <td>0</td>\n",
       "      <td>0</td>\n",
       "      <td>0</td>\n",
       "      <td>0</td>\n",
       "      <td>2</td>\n",
       "      <td>0</td>\n",
       "      <td>0</td>\n",
       "      <td>0</td>\n",
       "      <td>1</td>\n",
       "      <td>3.0</td>\n",
       "    </tr>\n",
       "    <tr>\n",
       "      <th>CEPHALASPIDOMORPHI</th>\n",
       "      <td>0</td>\n",
       "      <td>0</td>\n",
       "      <td>0</td>\n",
       "      <td>0</td>\n",
       "      <td>0</td>\n",
       "      <td>2</td>\n",
       "      <td>0</td>\n",
       "      <td>0</td>\n",
       "      <td>0</td>\n",
       "      <td>0</td>\n",
       "      <td>2.0</td>\n",
       "    </tr>\n",
       "    <tr>\n",
       "      <th>CEPHALOPODA</th>\n",
       "      <td>0</td>\n",
       "      <td>0</td>\n",
       "      <td>0</td>\n",
       "      <td>0</td>\n",
       "      <td>0</td>\n",
       "      <td>0</td>\n",
       "      <td>0</td>\n",
       "      <td>0</td>\n",
       "      <td>0</td>\n",
       "      <td>0</td>\n",
       "      <td>NaN</td>\n",
       "    </tr>\n",
       "    <tr>\n",
       "      <th>CHONDRICHTHYES</th>\n",
       "      <td>2</td>\n",
       "      <td>12</td>\n",
       "      <td>16</td>\n",
       "      <td>0</td>\n",
       "      <td>0</td>\n",
       "      <td>23</td>\n",
       "      <td>0</td>\n",
       "      <td>0</td>\n",
       "      <td>30</td>\n",
       "      <td>24</td>\n",
       "      <td>107.0</td>\n",
       "    </tr>\n",
       "    <tr>\n",
       "      <th>CLITELLATA</th>\n",
       "      <td>0</td>\n",
       "      <td>0</td>\n",
       "      <td>0</td>\n",
       "      <td>0</td>\n",
       "      <td>0</td>\n",
       "      <td>0</td>\n",
       "      <td>0</td>\n",
       "      <td>0</td>\n",
       "      <td>0</td>\n",
       "      <td>0</td>\n",
       "      <td>NaN</td>\n",
       "    </tr>\n",
       "    <tr>\n",
       "      <th>CYCADOPSIDA</th>\n",
       "      <td>1</td>\n",
       "      <td>1</td>\n",
       "      <td>3</td>\n",
       "      <td>0</td>\n",
       "      <td>0</td>\n",
       "      <td>3</td>\n",
       "      <td>0</td>\n",
       "      <td>0</td>\n",
       "      <td>3</td>\n",
       "      <td>4</td>\n",
       "      <td>15.0</td>\n",
       "    </tr>\n",
       "    <tr>\n",
       "      <th>GASTROPODA</th>\n",
       "      <td>0</td>\n",
       "      <td>0</td>\n",
       "      <td>3</td>\n",
       "      <td>0</td>\n",
       "      <td>0</td>\n",
       "      <td>1</td>\n",
       "      <td>0</td>\n",
       "      <td>0</td>\n",
       "      <td>0</td>\n",
       "      <td>0</td>\n",
       "      <td>4.0</td>\n",
       "    </tr>\n",
       "    <tr>\n",
       "      <th>GNETOPSIDA</th>\n",
       "      <td>0</td>\n",
       "      <td>0</td>\n",
       "      <td>0</td>\n",
       "      <td>0</td>\n",
       "      <td>0</td>\n",
       "      <td>0</td>\n",
       "      <td>0</td>\n",
       "      <td>0</td>\n",
       "      <td>0</td>\n",
       "      <td>0</td>\n",
       "      <td>NaN</td>\n",
       "    </tr>\n",
       "    <tr>\n",
       "      <th>HOLOTHUROIDEA</th>\n",
       "      <td>0</td>\n",
       "      <td>0</td>\n",
       "      <td>0</td>\n",
       "      <td>0</td>\n",
       "      <td>0</td>\n",
       "      <td>0</td>\n",
       "      <td>0</td>\n",
       "      <td>0</td>\n",
       "      <td>0</td>\n",
       "      <td>0</td>\n",
       "      <td>NaN</td>\n",
       "    </tr>\n",
       "    <tr>\n",
       "      <th>INSECTA</th>\n",
       "      <td>0</td>\n",
       "      <td>0</td>\n",
       "      <td>0</td>\n",
       "      <td>0</td>\n",
       "      <td>0</td>\n",
       "      <td>0</td>\n",
       "      <td>0</td>\n",
       "      <td>0</td>\n",
       "      <td>0</td>\n",
       "      <td>0</td>\n",
       "      <td>NaN</td>\n",
       "    </tr>\n",
       "    <tr>\n",
       "      <th>LILIOPSIDA</th>\n",
       "      <td>6</td>\n",
       "      <td>0</td>\n",
       "      <td>4</td>\n",
       "      <td>0</td>\n",
       "      <td>0</td>\n",
       "      <td>4</td>\n",
       "      <td>0</td>\n",
       "      <td>0</td>\n",
       "      <td>3</td>\n",
       "      <td>5</td>\n",
       "      <td>22.0</td>\n",
       "    </tr>\n",
       "    <tr>\n",
       "      <th>MAGNOLIOPSIDA</th>\n",
       "      <td>0</td>\n",
       "      <td>5</td>\n",
       "      <td>8</td>\n",
       "      <td>1</td>\n",
       "      <td>0</td>\n",
       "      <td>19</td>\n",
       "      <td>1</td>\n",
       "      <td>0</td>\n",
       "      <td>3</td>\n",
       "      <td>7</td>\n",
       "      <td>44.0</td>\n",
       "    </tr>\n",
       "    <tr>\n",
       "      <th>MALACOSTRACA</th>\n",
       "      <td>1</td>\n",
       "      <td>1</td>\n",
       "      <td>3</td>\n",
       "      <td>0</td>\n",
       "      <td>0</td>\n",
       "      <td>6</td>\n",
       "      <td>0</td>\n",
       "      <td>0</td>\n",
       "      <td>0</td>\n",
       "      <td>5</td>\n",
       "      <td>16.0</td>\n",
       "    </tr>\n",
       "    <tr>\n",
       "      <th>MAMMALIA</th>\n",
       "      <td>78</td>\n",
       "      <td>54</td>\n",
       "      <td>168</td>\n",
       "      <td>0</td>\n",
       "      <td>2</td>\n",
       "      <td>508</td>\n",
       "      <td>0</td>\n",
       "      <td>0</td>\n",
       "      <td>108</td>\n",
       "      <td>186</td>\n",
       "      <td>1104.0</td>\n",
       "    </tr>\n",
       "    <tr>\n",
       "      <th>MYXINI</th>\n",
       "      <td>0</td>\n",
       "      <td>0</td>\n",
       "      <td>0</td>\n",
       "      <td>0</td>\n",
       "      <td>0</td>\n",
       "      <td>0</td>\n",
       "      <td>0</td>\n",
       "      <td>0</td>\n",
       "      <td>0</td>\n",
       "      <td>0</td>\n",
       "      <td>NaN</td>\n",
       "    </tr>\n",
       "    <tr>\n",
       "      <th>PINOPSIDA</th>\n",
       "      <td>1</td>\n",
       "      <td>0</td>\n",
       "      <td>6</td>\n",
       "      <td>0</td>\n",
       "      <td>0</td>\n",
       "      <td>21</td>\n",
       "      <td>1</td>\n",
       "      <td>0</td>\n",
       "      <td>1</td>\n",
       "      <td>1</td>\n",
       "      <td>31.0</td>\n",
       "    </tr>\n",
       "    <tr>\n",
       "      <th>POLYPODIOPSIDA</th>\n",
       "      <td>0</td>\n",
       "      <td>0</td>\n",
       "      <td>0</td>\n",
       "      <td>0</td>\n",
       "      <td>0</td>\n",
       "      <td>0</td>\n",
       "      <td>0</td>\n",
       "      <td>0</td>\n",
       "      <td>0</td>\n",
       "      <td>0</td>\n",
       "      <td>NaN</td>\n",
       "    </tr>\n",
       "    <tr>\n",
       "      <th>REPTILIA</th>\n",
       "      <td>15</td>\n",
       "      <td>0</td>\n",
       "      <td>5</td>\n",
       "      <td>0</td>\n",
       "      <td>1</td>\n",
       "      <td>4</td>\n",
       "      <td>0</td>\n",
       "      <td>1</td>\n",
       "      <td>0</td>\n",
       "      <td>10</td>\n",
       "      <td>36.0</td>\n",
       "    </tr>\n",
       "    <tr>\n",
       "      <th>SARCOPTERYGII</th>\n",
       "      <td>0</td>\n",
       "      <td>0</td>\n",
       "      <td>0</td>\n",
       "      <td>0</td>\n",
       "      <td>0</td>\n",
       "      <td>0</td>\n",
       "      <td>0</td>\n",
       "      <td>0</td>\n",
       "      <td>0</td>\n",
       "      <td>0</td>\n",
       "      <td>NaN</td>\n",
       "    </tr>\n",
       "    <tr>\n",
       "      <th>All</th>\n",
       "      <td>172</td>\n",
       "      <td>129</td>\n",
       "      <td>259</td>\n",
       "      <td>2</td>\n",
       "      <td>5</td>\n",
       "      <td>859</td>\n",
       "      <td>3</td>\n",
       "      <td>2</td>\n",
       "      <td>187</td>\n",
       "      <td>307</td>\n",
       "      <td>1925.0</td>\n",
       "    </tr>\n",
       "  </tbody>\n",
       "</table>\n",
       "</div>"
      ],
      "text/plain": [
       "category             CR   DD   EN  EW  EX   LC  LR/lc  LR/nt   NT   VU     All\n",
       "class_name                                                                    \n",
       "ACTINOPTERYGII       59   46   23   1   2  136      1      1   18   33   320.0\n",
       "AGARICOMYCETES        0    0    0   0   0    0      0      0    0    0     NaN\n",
       "AMPHIBIA              9   10   20   0   0  130      0      0   21   31   221.0\n",
       "ANTHOZOA              0    0    0   0   0    0      0      0    0    0     NaN\n",
       "AVES                  0    0    0   0   0    0      0      0    0    0     NaN\n",
       "BIVALVIA              0    0    0   0   0    2      0      0    0    1     3.0\n",
       "CEPHALASPIDOMORPHI    0    0    0   0   0    2      0      0    0    0     2.0\n",
       "CEPHALOPODA           0    0    0   0   0    0      0      0    0    0     NaN\n",
       "CHONDRICHTHYES        2   12   16   0   0   23      0      0   30   24   107.0\n",
       "CLITELLATA            0    0    0   0   0    0      0      0    0    0     NaN\n",
       "CYCADOPSIDA           1    1    3   0   0    3      0      0    3    4    15.0\n",
       "GASTROPODA            0    0    3   0   0    1      0      0    0    0     4.0\n",
       "GNETOPSIDA            0    0    0   0   0    0      0      0    0    0     NaN\n",
       "HOLOTHUROIDEA         0    0    0   0   0    0      0      0    0    0     NaN\n",
       "INSECTA               0    0    0   0   0    0      0      0    0    0     NaN\n",
       "LILIOPSIDA            6    0    4   0   0    4      0      0    3    5    22.0\n",
       "MAGNOLIOPSIDA         0    5    8   1   0   19      1      0    3    7    44.0\n",
       "MALACOSTRACA          1    1    3   0   0    6      0      0    0    5    16.0\n",
       "MAMMALIA             78   54  168   0   2  508      0      0  108  186  1104.0\n",
       "MYXINI                0    0    0   0   0    0      0      0    0    0     NaN\n",
       "PINOPSIDA             1    0    6   0   0   21      1      0    1    1    31.0\n",
       "POLYPODIOPSIDA        0    0    0   0   0    0      0      0    0    0     NaN\n",
       "REPTILIA             15    0    5   0   1    4      0      1    0   10    36.0\n",
       "SARCOPTERYGII         0    0    0   0   0    0      0      0    0    0     NaN\n",
       "All                 172  129  259   2   5  859      3      2  187  307  1925.0"
      ]
     },
     "execution_count": 26,
     "metadata": {},
     "output_type": "execute_result"
    }
   ],
   "source": [
    "bfa_clean[bfa_clean.id.isin(sis_clean.index)].pivot_table(\n",
    "    index='class_name',  columns='category', values='id', aggfunc=count_unique, fill_value=0, margins=True)"
   ]
  },
  {
   "cell_type": "code",
   "execution_count": 27,
   "metadata": {},
   "outputs": [
    {
     "data": {
      "text/plain": [
       "7867"
      ]
     },
     "execution_count": 27,
     "metadata": {},
     "output_type": "execute_result"
    }
   ],
   "source": [
    "np.intersect1d(sis_clean.id_no.unique(), bfa.id.unique()).size"
   ]
  },
  {
   "cell_type": "markdown",
   "metadata": {},
   "source": [
    "7,867 species in the `bfa` table have spatial data"
   ]
  },
  {
   "cell_type": "markdown",
   "metadata": {},
   "source": [
    "### Restricted range species\n",
    "\n",
    "This impacts the resolution and accuracy of analysis. We propose to use a 10km resolution global grid to map the indicative presence of species. It works for wide ranging species but may encounter difficult if the distribution of species is way below this threshold. "
   ]
  },
  {
   "cell_type": "markdown",
   "metadata": {},
   "source": [
    "A rough rule of thumb calculation between square degrees is made, i.e., 1 degree equates to 111km"
   ]
  },
  {
   "cell_type": "code",
   "execution_count": 28,
   "metadata": {},
   "outputs": [],
   "source": [
    "degree2_to_km2 = 111*111"
   ]
  },
  {
   "cell_type": "markdown",
   "metadata": {},
   "source": [
    "Join the two tables to migrate attribute `shape_area`"
   ]
  },
  {
   "cell_type": "code",
   "execution_count": 29,
   "metadata": {},
   "outputs": [],
   "source": [
    "bfa_sis = pd.merge(bfa_clean, sis_clean, how='inner', left_on='id', right_on='id_no')[sis_columns]"
   ]
  },
  {
   "cell_type": "markdown",
   "metadata": {},
   "source": [
    "Double check the species that have spatial data"
   ]
  },
  {
   "cell_type": "code",
   "execution_count": 30,
   "metadata": {},
   "outputs": [
    {
     "data": {
      "text/plain": [
       "7867"
      ]
     },
     "execution_count": 30,
     "metadata": {},
     "output_type": "execute_result"
    }
   ],
   "source": [
    "bfa_sis.id_no.unique().size"
   ]
  },
  {
   "cell_type": "markdown",
   "metadata": {},
   "source": [
    "Save this table for filtering the spatial data"
   ]
  },
  {
   "cell_type": "code",
   "execution_count": 31,
   "metadata": {},
   "outputs": [],
   "source": [
    "pd.DataFrame(bfa_sis.id_no.unique(),columns=['bfa']).to_csv('bfa_sis.csv')"
   ]
  },
  {
   "cell_type": "code",
   "execution_count": 32,
   "metadata": {},
   "outputs": [],
   "source": [
    "bfa_sis_area_dist = bfa_sis.pivot_table(values='shape_area', index='id_no', aggfunc=np.sum)"
   ]
  },
  {
   "cell_type": "markdown",
   "metadata": {},
   "source": [
    "Calculate the number of species that have less than 100 sqkm"
   ]
  },
  {
   "cell_type": "code",
   "execution_count": 33,
   "metadata": {},
   "outputs": [
    {
     "data": {
      "text/plain": [
       "64"
      ]
     },
     "execution_count": 33,
     "metadata": {},
     "output_type": "execute_result"
    }
   ],
   "source": [
    "bfa_sis_area_dist[bfa_sis_area_dist['shape_area']*degree2_to_km2 < 100].size"
   ]
  },
  {
   "cell_type": "markdown",
   "metadata": {},
   "source": [
    "The above calculation indicates at least **64** species will be less than 100 sqkm (thus affected by the 10x10 resolution grid). This assumes they all occur near the equator. In reality, more species could be affected. \n",
    "\n",
    "Below is a table of what these 64 species are"
   ]
  },
  {
   "cell_type": "code",
   "execution_count": 34,
   "metadata": {
    "scrolled": true
   },
   "outputs": [
    {
     "data": {
      "text/html": [
       "<div>\n",
       "<style scoped>\n",
       "    .dataframe tbody tr th:only-of-type {\n",
       "        vertical-align: middle;\n",
       "    }\n",
       "\n",
       "    .dataframe tbody tr th {\n",
       "        vertical-align: top;\n",
       "    }\n",
       "\n",
       "    .dataframe thead th {\n",
       "        text-align: right;\n",
       "    }\n",
       "</style>\n",
       "<table border=\"1\" class=\"dataframe\">\n",
       "  <thead>\n",
       "    <tr style=\"text-align: right;\">\n",
       "      <th>category</th>\n",
       "      <th>CR</th>\n",
       "      <th>DD</th>\n",
       "      <th>EN</th>\n",
       "      <th>EW</th>\n",
       "      <th>EX</th>\n",
       "      <th>LC</th>\n",
       "      <th>LR/lc</th>\n",
       "      <th>LR/nt</th>\n",
       "      <th>NT</th>\n",
       "      <th>VU</th>\n",
       "      <th>All</th>\n",
       "    </tr>\n",
       "    <tr>\n",
       "      <th>class_name</th>\n",
       "      <th></th>\n",
       "      <th></th>\n",
       "      <th></th>\n",
       "      <th></th>\n",
       "      <th></th>\n",
       "      <th></th>\n",
       "      <th></th>\n",
       "      <th></th>\n",
       "      <th></th>\n",
       "      <th></th>\n",
       "      <th></th>\n",
       "    </tr>\n",
       "  </thead>\n",
       "  <tbody>\n",
       "    <tr>\n",
       "      <th>ACTINOPTERYGII</th>\n",
       "      <td>4</td>\n",
       "      <td>1</td>\n",
       "      <td>0</td>\n",
       "      <td>0</td>\n",
       "      <td>0</td>\n",
       "      <td>3</td>\n",
       "      <td>0</td>\n",
       "      <td>0</td>\n",
       "      <td>0</td>\n",
       "      <td>5</td>\n",
       "      <td>13.0</td>\n",
       "    </tr>\n",
       "    <tr>\n",
       "      <th>AGARICOMYCETES</th>\n",
       "      <td>0</td>\n",
       "      <td>0</td>\n",
       "      <td>0</td>\n",
       "      <td>0</td>\n",
       "      <td>0</td>\n",
       "      <td>0</td>\n",
       "      <td>0</td>\n",
       "      <td>0</td>\n",
       "      <td>0</td>\n",
       "      <td>0</td>\n",
       "      <td>NaN</td>\n",
       "    </tr>\n",
       "    <tr>\n",
       "      <th>AMPHIBIA</th>\n",
       "      <td>4</td>\n",
       "      <td>1</td>\n",
       "      <td>1</td>\n",
       "      <td>0</td>\n",
       "      <td>0</td>\n",
       "      <td>0</td>\n",
       "      <td>0</td>\n",
       "      <td>0</td>\n",
       "      <td>0</td>\n",
       "      <td>0</td>\n",
       "      <td>6.0</td>\n",
       "    </tr>\n",
       "    <tr>\n",
       "      <th>ANTHOZOA</th>\n",
       "      <td>0</td>\n",
       "      <td>0</td>\n",
       "      <td>0</td>\n",
       "      <td>0</td>\n",
       "      <td>0</td>\n",
       "      <td>0</td>\n",
       "      <td>0</td>\n",
       "      <td>0</td>\n",
       "      <td>0</td>\n",
       "      <td>0</td>\n",
       "      <td>NaN</td>\n",
       "    </tr>\n",
       "    <tr>\n",
       "      <th>AVES</th>\n",
       "      <td>10</td>\n",
       "      <td>0</td>\n",
       "      <td>10</td>\n",
       "      <td>0</td>\n",
       "      <td>0</td>\n",
       "      <td>0</td>\n",
       "      <td>0</td>\n",
       "      <td>0</td>\n",
       "      <td>0</td>\n",
       "      <td>5</td>\n",
       "      <td>25.0</td>\n",
       "    </tr>\n",
       "    <tr>\n",
       "      <th>BIVALVIA</th>\n",
       "      <td>0</td>\n",
       "      <td>0</td>\n",
       "      <td>0</td>\n",
       "      <td>0</td>\n",
       "      <td>0</td>\n",
       "      <td>0</td>\n",
       "      <td>0</td>\n",
       "      <td>0</td>\n",
       "      <td>0</td>\n",
       "      <td>0</td>\n",
       "      <td>NaN</td>\n",
       "    </tr>\n",
       "    <tr>\n",
       "      <th>CEPHALASPIDOMORPHI</th>\n",
       "      <td>0</td>\n",
       "      <td>0</td>\n",
       "      <td>0</td>\n",
       "      <td>0</td>\n",
       "      <td>0</td>\n",
       "      <td>0</td>\n",
       "      <td>0</td>\n",
       "      <td>0</td>\n",
       "      <td>0</td>\n",
       "      <td>0</td>\n",
       "      <td>NaN</td>\n",
       "    </tr>\n",
       "    <tr>\n",
       "      <th>CEPHALOPODA</th>\n",
       "      <td>0</td>\n",
       "      <td>0</td>\n",
       "      <td>0</td>\n",
       "      <td>0</td>\n",
       "      <td>0</td>\n",
       "      <td>0</td>\n",
       "      <td>0</td>\n",
       "      <td>0</td>\n",
       "      <td>0</td>\n",
       "      <td>0</td>\n",
       "      <td>NaN</td>\n",
       "    </tr>\n",
       "    <tr>\n",
       "      <th>CHONDRICHTHYES</th>\n",
       "      <td>0</td>\n",
       "      <td>0</td>\n",
       "      <td>0</td>\n",
       "      <td>0</td>\n",
       "      <td>0</td>\n",
       "      <td>0</td>\n",
       "      <td>0</td>\n",
       "      <td>0</td>\n",
       "      <td>0</td>\n",
       "      <td>0</td>\n",
       "      <td>NaN</td>\n",
       "    </tr>\n",
       "    <tr>\n",
       "      <th>CLITELLATA</th>\n",
       "      <td>0</td>\n",
       "      <td>0</td>\n",
       "      <td>0</td>\n",
       "      <td>0</td>\n",
       "      <td>0</td>\n",
       "      <td>0</td>\n",
       "      <td>0</td>\n",
       "      <td>0</td>\n",
       "      <td>0</td>\n",
       "      <td>0</td>\n",
       "      <td>NaN</td>\n",
       "    </tr>\n",
       "    <tr>\n",
       "      <th>CYCADOPSIDA</th>\n",
       "      <td>0</td>\n",
       "      <td>0</td>\n",
       "      <td>0</td>\n",
       "      <td>0</td>\n",
       "      <td>0</td>\n",
       "      <td>0</td>\n",
       "      <td>0</td>\n",
       "      <td>0</td>\n",
       "      <td>0</td>\n",
       "      <td>0</td>\n",
       "      <td>NaN</td>\n",
       "    </tr>\n",
       "    <tr>\n",
       "      <th>GASTROPODA</th>\n",
       "      <td>0</td>\n",
       "      <td>1</td>\n",
       "      <td>1</td>\n",
       "      <td>0</td>\n",
       "      <td>0</td>\n",
       "      <td>0</td>\n",
       "      <td>0</td>\n",
       "      <td>0</td>\n",
       "      <td>0</td>\n",
       "      <td>0</td>\n",
       "      <td>2.0</td>\n",
       "    </tr>\n",
       "    <tr>\n",
       "      <th>GNETOPSIDA</th>\n",
       "      <td>0</td>\n",
       "      <td>0</td>\n",
       "      <td>0</td>\n",
       "      <td>0</td>\n",
       "      <td>0</td>\n",
       "      <td>0</td>\n",
       "      <td>0</td>\n",
       "      <td>0</td>\n",
       "      <td>0</td>\n",
       "      <td>0</td>\n",
       "      <td>NaN</td>\n",
       "    </tr>\n",
       "    <tr>\n",
       "      <th>HOLOTHUROIDEA</th>\n",
       "      <td>0</td>\n",
       "      <td>0</td>\n",
       "      <td>0</td>\n",
       "      <td>0</td>\n",
       "      <td>0</td>\n",
       "      <td>0</td>\n",
       "      <td>0</td>\n",
       "      <td>0</td>\n",
       "      <td>0</td>\n",
       "      <td>0</td>\n",
       "      <td>NaN</td>\n",
       "    </tr>\n",
       "    <tr>\n",
       "      <th>INSECTA</th>\n",
       "      <td>0</td>\n",
       "      <td>0</td>\n",
       "      <td>0</td>\n",
       "      <td>0</td>\n",
       "      <td>0</td>\n",
       "      <td>0</td>\n",
       "      <td>0</td>\n",
       "      <td>0</td>\n",
       "      <td>0</td>\n",
       "      <td>0</td>\n",
       "      <td>NaN</td>\n",
       "    </tr>\n",
       "    <tr>\n",
       "      <th>LILIOPSIDA</th>\n",
       "      <td>0</td>\n",
       "      <td>0</td>\n",
       "      <td>1</td>\n",
       "      <td>0</td>\n",
       "      <td>0</td>\n",
       "      <td>0</td>\n",
       "      <td>0</td>\n",
       "      <td>0</td>\n",
       "      <td>0</td>\n",
       "      <td>0</td>\n",
       "      <td>1.0</td>\n",
       "    </tr>\n",
       "    <tr>\n",
       "      <th>MAGNOLIOPSIDA</th>\n",
       "      <td>0</td>\n",
       "      <td>1</td>\n",
       "      <td>0</td>\n",
       "      <td>0</td>\n",
       "      <td>0</td>\n",
       "      <td>1</td>\n",
       "      <td>0</td>\n",
       "      <td>0</td>\n",
       "      <td>0</td>\n",
       "      <td>0</td>\n",
       "      <td>2.0</td>\n",
       "    </tr>\n",
       "    <tr>\n",
       "      <th>MALACOSTRACA</th>\n",
       "      <td>0</td>\n",
       "      <td>0</td>\n",
       "      <td>0</td>\n",
       "      <td>0</td>\n",
       "      <td>0</td>\n",
       "      <td>0</td>\n",
       "      <td>0</td>\n",
       "      <td>0</td>\n",
       "      <td>0</td>\n",
       "      <td>0</td>\n",
       "      <td>NaN</td>\n",
       "    </tr>\n",
       "    <tr>\n",
       "      <th>MAMMALIA</th>\n",
       "      <td>10</td>\n",
       "      <td>2</td>\n",
       "      <td>2</td>\n",
       "      <td>0</td>\n",
       "      <td>0</td>\n",
       "      <td>0</td>\n",
       "      <td>0</td>\n",
       "      <td>0</td>\n",
       "      <td>0</td>\n",
       "      <td>0</td>\n",
       "      <td>14.0</td>\n",
       "    </tr>\n",
       "    <tr>\n",
       "      <th>MYXINI</th>\n",
       "      <td>0</td>\n",
       "      <td>0</td>\n",
       "      <td>0</td>\n",
       "      <td>0</td>\n",
       "      <td>0</td>\n",
       "      <td>0</td>\n",
       "      <td>0</td>\n",
       "      <td>0</td>\n",
       "      <td>0</td>\n",
       "      <td>0</td>\n",
       "      <td>NaN</td>\n",
       "    </tr>\n",
       "    <tr>\n",
       "      <th>PINOPSIDA</th>\n",
       "      <td>0</td>\n",
       "      <td>0</td>\n",
       "      <td>0</td>\n",
       "      <td>0</td>\n",
       "      <td>0</td>\n",
       "      <td>0</td>\n",
       "      <td>0</td>\n",
       "      <td>0</td>\n",
       "      <td>0</td>\n",
       "      <td>0</td>\n",
       "      <td>NaN</td>\n",
       "    </tr>\n",
       "    <tr>\n",
       "      <th>POLYPODIOPSIDA</th>\n",
       "      <td>0</td>\n",
       "      <td>0</td>\n",
       "      <td>0</td>\n",
       "      <td>0</td>\n",
       "      <td>0</td>\n",
       "      <td>0</td>\n",
       "      <td>0</td>\n",
       "      <td>0</td>\n",
       "      <td>0</td>\n",
       "      <td>0</td>\n",
       "      <td>NaN</td>\n",
       "    </tr>\n",
       "    <tr>\n",
       "      <th>REPTILIA</th>\n",
       "      <td>1</td>\n",
       "      <td>0</td>\n",
       "      <td>0</td>\n",
       "      <td>0</td>\n",
       "      <td>0</td>\n",
       "      <td>0</td>\n",
       "      <td>0</td>\n",
       "      <td>0</td>\n",
       "      <td>0</td>\n",
       "      <td>0</td>\n",
       "      <td>1.0</td>\n",
       "    </tr>\n",
       "    <tr>\n",
       "      <th>SARCOPTERYGII</th>\n",
       "      <td>0</td>\n",
       "      <td>0</td>\n",
       "      <td>0</td>\n",
       "      <td>0</td>\n",
       "      <td>0</td>\n",
       "      <td>0</td>\n",
       "      <td>0</td>\n",
       "      <td>0</td>\n",
       "      <td>0</td>\n",
       "      <td>0</td>\n",
       "      <td>NaN</td>\n",
       "    </tr>\n",
       "    <tr>\n",
       "      <th>All</th>\n",
       "      <td>29</td>\n",
       "      <td>6</td>\n",
       "      <td>15</td>\n",
       "      <td>0</td>\n",
       "      <td>0</td>\n",
       "      <td>4</td>\n",
       "      <td>0</td>\n",
       "      <td>0</td>\n",
       "      <td>0</td>\n",
       "      <td>10</td>\n",
       "      <td>64.0</td>\n",
       "    </tr>\n",
       "  </tbody>\n",
       "</table>\n",
       "</div>"
      ],
      "text/plain": [
       "category            CR  DD  EN  EW  EX  LC  LR/lc  LR/nt  NT  VU   All\n",
       "class_name                                                            \n",
       "ACTINOPTERYGII       4   1   0   0   0   3      0      0   0   5  13.0\n",
       "AGARICOMYCETES       0   0   0   0   0   0      0      0   0   0   NaN\n",
       "AMPHIBIA             4   1   1   0   0   0      0      0   0   0   6.0\n",
       "ANTHOZOA             0   0   0   0   0   0      0      0   0   0   NaN\n",
       "AVES                10   0  10   0   0   0      0      0   0   5  25.0\n",
       "BIVALVIA             0   0   0   0   0   0      0      0   0   0   NaN\n",
       "CEPHALASPIDOMORPHI   0   0   0   0   0   0      0      0   0   0   NaN\n",
       "CEPHALOPODA          0   0   0   0   0   0      0      0   0   0   NaN\n",
       "CHONDRICHTHYES       0   0   0   0   0   0      0      0   0   0   NaN\n",
       "CLITELLATA           0   0   0   0   0   0      0      0   0   0   NaN\n",
       "CYCADOPSIDA          0   0   0   0   0   0      0      0   0   0   NaN\n",
       "GASTROPODA           0   1   1   0   0   0      0      0   0   0   2.0\n",
       "GNETOPSIDA           0   0   0   0   0   0      0      0   0   0   NaN\n",
       "HOLOTHUROIDEA        0   0   0   0   0   0      0      0   0   0   NaN\n",
       "INSECTA              0   0   0   0   0   0      0      0   0   0   NaN\n",
       "LILIOPSIDA           0   0   1   0   0   0      0      0   0   0   1.0\n",
       "MAGNOLIOPSIDA        0   1   0   0   0   1      0      0   0   0   2.0\n",
       "MALACOSTRACA         0   0   0   0   0   0      0      0   0   0   NaN\n",
       "MAMMALIA            10   2   2   0   0   0      0      0   0   0  14.0\n",
       "MYXINI               0   0   0   0   0   0      0      0   0   0   NaN\n",
       "PINOPSIDA            0   0   0   0   0   0      0      0   0   0   NaN\n",
       "POLYPODIOPSIDA       0   0   0   0   0   0      0      0   0   0   NaN\n",
       "REPTILIA             1   0   0   0   0   0      0      0   0   0   1.0\n",
       "SARCOPTERYGII        0   0   0   0   0   0      0      0   0   0   NaN\n",
       "All                 29   6  15   0   0   4      0      0   0  10  64.0"
      ]
     },
     "execution_count": 34,
     "metadata": {},
     "output_type": "execute_result"
    }
   ],
   "source": [
    "bfa_clean[bfa_clean.id.isin(bfa_sis_area_dist[bfa_sis_area_dist['shape_area']*degree2_to_km2 < 100].index)].pivot_table(\n",
    "    index='class_name',  columns='category', values='id', aggfunc=count_unique, fill_value=0, margins=True)"
   ]
  },
  {
   "cell_type": "markdown",
   "metadata": {},
   "source": [
    "While the 64 species represent a small proportion (out of 7,867), they account for almost 10% of critically endangered species (29 out of 239)\n"
   ]
  },
  {
   "cell_type": "markdown",
   "metadata": {},
   "source": [
    "## Datasets\n",
    "- Protected areas data: the November 2017 public release of the WDPA, excluding point data\n",
    "- Species data: 2017.2 RedList data, only with those labeled for **food**, and **does not** include wildcrop relatives. This due to time constraint and the rush to run the analysis. This does not include cacti species due to heterogenous nature of both the polygon and attributes, which require additional time pre-processing and post-processing\n",
    "- Hexagon data: discrete global grid"
   ]
  },
  {
   "cell_type": "markdown",
   "metadata": {},
   "source": [
    "## Analysis\n",
    "\n",
    "The binning exercise for species (7,867, or 13,000+ rows) and hex (5 millions) took about 22 hours to finish, on a machine with 10 running cores in parallel. The same technique has also been applied for the WDPA (200k+ records). The end result is a **common** mapping of species and protected areas to a hex grid.\n",
    "\n",
    "Notably, the two species failed on two processes (row_id: 8840 and 8841, i.e. Guttera pucherani, Hipposideros grandis, LC bird and mammal)\n",
    "\n",
    "The main benefit of this approach is to avoid any additional spatial analysis which are costly and that any filtering, for example, by presence/origin/seasonality, or in the WDPA, could be done without undertaking any additional spatial analysis. This requires the spatial analysis done at the granularity that allows separation at this level. In the case of WDPA, as `status` and `desgination_type` could be identified at per `WDPAID` level, no further processing is needed. In the case of RL species, the same species may have mulitple polygons with different `presence` codes, thus it cannot be done at the `ID_NO` level - so the analysis must be done at a row level, requiring an additional `row_id`."
   ]
  },
  {
   "cell_type": "markdown",
   "metadata": {},
   "source": [
    "### Big data challenge\n",
    "The end result of the analyses is a set of two-column tables containing the mapping of two datasets by IDs (the names `ID_NO`, `WDPAID` are for historical references but also for ease of remembering the what gets mapped to what). This will be fixed in the next version of the script.\n",
    "\n",
    "| first column (id_no)| second column (wdpaid)|\n",
    "|----------------------|----------------------|\n",
    "| wdpaid(WDPA) or row_id(RL)|hexid            |\n",
    "\n",
    "The resulting tables are huge in size. By configuring the data types, it can be read in the memory.\n",
    "\n",
    "**!the below is outdated!**\n",
    "\n",
    "(For example, the csv for hex and RL would be 1.2TB uncompressed. This means the data cannot be read as a big lump in memory in one go - it requires a piecemeal approach, albeit slower. The idea is to process the data chunk by chunk, but distribute the workload of processing chunks to different processes/cores using the `ipyparallel` library. This requires additional packages to be install and configured elsewhere.)"
   ]
  },
  {
   "cell_type": "markdown",
   "metadata": {},
   "source": [
    "### Load result and lookup table"
   ]
  },
  {
   "cell_type": "markdown",
   "metadata": {},
   "source": [
    "**HEX tables**\n",
    "\n",
    "The problem with the DGGrid hexagons is that near the 180/-180 longitudes some cells wrap around the world. These cells will intersect all species occupying the same latitude, an artefact that inflate the numbers. Therefore, these cells must be removed. \n",
    "\n",
    "An inspection of the hexagon layer reveals that they could be easily identified as `shape_area` with negative values. The `hexid` of these cells have been identified and stored in the `invalid_hex.csv`"
   ]
  },
  {
   "cell_type": "code",
   "execution_count": 35,
   "metadata": {},
   "outputs": [],
   "source": [
    "invalid_hex = pd.read_csv('invalid_hex.csv')"
   ]
  },
  {
   "cell_type": "markdown",
   "metadata": {},
   "source": [
    "This table contains all `hexid` that should be excluded"
   ]
  },
  {
   "cell_type": "code",
   "execution_count": 36,
   "metadata": {},
   "outputs": [
    {
     "name": "stdout",
     "output_type": "stream",
     "text": [
      "<class 'pandas.core.frame.DataFrame'>\n",
      "RangeIndex: 2427 entries, 0 to 2426\n",
      "Data columns (total 5 columns):\n",
      "OBJECTID        2427 non-null int64\n",
      "global_id       2427 non-null int64\n",
      "Shape_Length    2427 non-null float64\n",
      "Shape_Area      2427 non-null float64\n",
      "hexid           2427 non-null int64\n",
      "dtypes: float64(2), int64(3)\n",
      "memory usage: 94.9 KB\n"
     ]
    }
   ],
   "source": [
    "invalid_hex.info()"
   ]
  },
  {
   "cell_type": "markdown",
   "metadata": {},
   "source": [
    "**BFA tables**\n",
    "\n",
    "This is the largest table of all, with more than 480 million rows. After cleaning and adjustment of data type, it still takes about 3.6GB in the memory. This is however smaller than the workstation memory and thus no special treatment (such as processing by chunks) is required."
   ]
  },
  {
   "cell_type": "code",
   "execution_count": 37,
   "metadata": {},
   "outputs": [],
   "source": [
    "bfa_hex = pd.read_csv(\"hex_bfa.csv.gz\",\n",
    "                        skipinitialspace=True,\n",
    "                        dtype={'ID_NO': np.uint32, 'WDPAID': np.uint32})"
   ]
  },
  {
   "cell_type": "markdown",
   "metadata": {},
   "source": [
    "The old style column name needs to be changed. This does not apply to future analysis"
   ]
  },
  {
   "cell_type": "code",
   "execution_count": 38,
   "metadata": {},
   "outputs": [],
   "source": [
    "bfa_hex.columns = ['row_id', 'hexid']"
   ]
  },
  {
   "cell_type": "markdown",
   "metadata": {},
   "source": [
    "Add below re-runs, failed species identified in the result, fix them in the beginning now"
   ]
  },
  {
   "cell_type": "code",
   "execution_count": 39,
   "metadata": {},
   "outputs": [],
   "source": [
    "bfa_hex_add_failed_dice = pd.read_csv('hex_bfa_add_dice.csv.gz', skipinitialspace=True, \n",
    "                                     dtype={'row_id': np.uint32, 'hexid': np.uint32})\n",
    "\n",
    "bfa_hex_add_failed_dice_still_fail = pd.read_csv('hex_bfa_add_dice_still_fail.csv.gz', skipinitialspace=True, \n",
    "                                                dtype={'row_id': np.uint32, 'hexid': np.uint32})"
   ]
  },
  {
   "cell_type": "markdown",
   "metadata": {},
   "source": [
    "Concat into a single df"
   ]
  },
  {
   "cell_type": "code",
   "execution_count": 40,
   "metadata": {},
   "outputs": [],
   "source": [
    "bfa_hex = pd.concat([bfa_hex, bfa_hex_add_failed_dice, bfa_hex_add_failed_dice_still_fail], ignore_index=True)"
   ]
  },
  {
   "cell_type": "markdown",
   "metadata": {},
   "source": [
    "Exclude those invalid hex passing 180/-180 longitude"
   ]
  },
  {
   "cell_type": "code",
   "execution_count": 41,
   "metadata": {},
   "outputs": [],
   "source": [
    "bfa_hex = bfa_hex[~bfa_hex.hexid.isin(invalid_hex.hexid)]"
   ]
  },
  {
   "cell_type": "code",
   "execution_count": 42,
   "metadata": {},
   "outputs": [],
   "source": [
    "bfa_hex = bfa_hex.astype('uint32')"
   ]
  },
  {
   "cell_type": "code",
   "execution_count": 44,
   "metadata": {},
   "outputs": [
    {
     "name": "stdout",
     "output_type": "stream",
     "text": [
      "<class 'pandas.core.frame.DataFrame'>\n",
      "Int64Index: 500265827 entries, 0 to 503361761\n",
      "Data columns (total 2 columns):\n",
      "row_id    uint32\n",
      "hexid     uint32\n",
      "dtypes: uint32(2)\n",
      "memory usage: 7.5 GB\n"
     ]
    }
   ],
   "source": [
    "bfa_hex.info()"
   ]
  },
  {
   "cell_type": "code",
   "execution_count": 45,
   "metadata": {},
   "outputs": [
    {
     "data": {
      "text/plain": [
       "17"
      ]
     },
     "execution_count": 45,
     "metadata": {},
     "output_type": "execute_result"
    }
   ],
   "source": [
    "gc.collect()"
   ]
  },
  {
   "cell_type": "markdown",
   "metadata": {},
   "source": [
    "Prepare lookup tables"
   ]
  },
  {
   "cell_type": "markdown",
   "metadata": {},
   "source": [
    "The marine, terr, and freshwater fields are found in the `Food_FAO_2017_2_v2.csv` file"
   ]
  },
  {
   "cell_type": "code",
   "execution_count": 46,
   "metadata": {},
   "outputs": [],
   "source": [
    "bfa_marine = pd.read_csv('Food_FAO_2017_2_v2.csv', delimiter=';')"
   ]
  },
  {
   "cell_type": "markdown",
   "metadata": {},
   "source": [
    "**!! IMPORTANT !!**\n",
    "\n",
    "Due to the nature of floating `id_no` field in csv file, for example `pd_read_csv` interprets `117582065.0` as `117582064.999999`. This leads to a serious problem when calling `astype('unit32')`, which will convert `117582064.999999` to `117582064`. \n",
    "\n",
    "This could be avoided by using the option argument, `float_precision=high`, this ensures in the case of `117582065.0` it will be converted correctly to `117582065` when the data type chanegs to `uint32`"
   ]
  },
  {
   "cell_type": "code",
   "execution_count": 47,
   "metadata": {},
   "outputs": [
    {
     "name": "stdout",
     "output_type": "stream",
     "text": [
      "<class 'pandas.core.frame.DataFrame'>\n",
      "RangeIndex: 14723 entries, 0 to 14722\n",
      "Data columns (total 28 columns):\n",
      "OID             14723 non-null int64\n",
      "id_no           14723 non-null float64\n",
      "binomial        14723 non-null object\n",
      "presence        14723 non-null int64\n",
      "origin          14723 non-null int64\n",
      "seasonal        14723 non-null int64\n",
      "compiler        14651 non-null object\n",
      "year            14723 non-null int64\n",
      "citation        14723 non-null object\n",
      "source          4735 non-null object\n",
      "dist_comm       255 non-null object\n",
      "island          2435 non-null object\n",
      "subspecies      611 non-null object\n",
      "subpop          73 non-null object\n",
      "legend          14723 non-null object\n",
      "tax_comm        29 non-null object\n",
      "kingdom         14723 non-null object\n",
      "phylum          14723 non-null object\n",
      "class           14723 non-null object\n",
      "order_          14723 non-null object\n",
      "family          14723 non-null object\n",
      "genus           14723 non-null object\n",
      "code            14723 non-null object\n",
      "OBJECTID_1      14723 non-null int64\n",
      "bfa             14723 non-null int64\n",
      "Shape_Length    14723 non-null float64\n",
      "Shape_Area      14723 non-null float64\n",
      "row_id          14723 non-null int64\n",
      "dtypes: float64(3), int64(8), object(17)\n",
      "memory usage: 3.1+ MB\n",
      "None\n",
      "<class 'pandas.core.frame.DataFrame'>\n",
      "RangeIndex: 14723 entries, 0 to 14722\n",
      "Data columns (total 13 columns):\n",
      "row_id      14723 non-null uint16\n",
      "id_no       14723 non-null uint32\n",
      "binomial    14723 non-null category\n",
      "presence    14723 non-null uint8\n",
      "origin      14723 non-null uint8\n",
      "seasonal    14723 non-null uint8\n",
      "kingdom     14723 non-null category\n",
      "phylum      14723 non-null category\n",
      "class       14723 non-null category\n",
      "order_      14723 non-null category\n",
      "family      14723 non-null category\n",
      "genus       14723 non-null category\n",
      "code        14723 non-null category\n",
      "dtypes: category(8), uint16(1), uint32(1), uint8(3)\n",
      "memory usage: 817.3 KB\n",
      "None\n"
     ]
    }
   ],
   "source": [
    "bfa_hex_lu = pd.read_csv('bfa_species_lookup.csv', float_precision='high')\n",
    "\n",
    "print(bfa_hex_lu.info())\n",
    "\n",
    "# convert to 'category' and other numeric data types that take less space\n",
    "bfa_hex_lu = bfa_hex_lu[['row_id', 'id_no', 'binomial', 'presence', 'origin', 'seasonal', 'kingdom', 'phylum', 'class', 'order_', 'family', 'genus', 'code']]\n",
    "bfa_hex_lu['binomial'] = bfa_hex_lu['binomial'].astype('category')\n",
    "bfa_hex_lu['kingdom'] = bfa_hex_lu['kingdom'].astype('category')\n",
    "bfa_hex_lu['phylum'] = bfa_hex_lu['phylum'].astype('category')\n",
    "bfa_hex_lu['class'] = bfa_hex_lu['class'].astype('category')\n",
    "bfa_hex_lu['order_'] = bfa_hex_lu['order_'].astype('category')\n",
    "bfa_hex_lu['family'] = bfa_hex_lu['family'].astype('category')\n",
    "bfa_hex_lu['genus'] = bfa_hex_lu['genus'].astype('category')\n",
    "bfa_hex_lu['code'] = bfa_hex_lu['code'].astype('category')\n",
    "\n",
    "bfa_hex_lu['row_id'] = bfa_hex_lu['row_id'].astype('uint16')\n",
    "bfa_hex_lu['id_no'] = bfa_hex_lu['id_no'].astype('uint32')\n",
    "bfa_hex_lu[['presence', 'origin', 'seasonal']] = bfa_hex_lu[['presence', 'origin', 'seasonal']].astype('uint8')\n",
    "\n",
    "print(bfa_hex_lu.info())"
   ]
  },
  {
   "cell_type": "markdown",
   "metadata": {},
   "source": [
    "Reduce the amount of memory space needed to store the look up table. It is reduced from 3.1+MB to 817.4KB, a sixfold reduction."
   ]
  },
  {
   "cell_type": "markdown",
   "metadata": {},
   "source": [
    "The total number of species with spatial data in the analysis is **7,867**"
   ]
  },
  {
   "cell_type": "code",
   "execution_count": 48,
   "metadata": {},
   "outputs": [
    {
     "data": {
      "text/plain": [
       "7867"
      ]
     },
     "execution_count": 48,
     "metadata": {},
     "output_type": "execute_result"
    }
   ],
   "source": [
    "bfa_hex_lu.id_no.unique().size"
   ]
  },
  {
   "cell_type": "markdown",
   "metadata": {},
   "source": [
    "Checks are requires to ascertain that the number of `id_no` in the `bfa_hex_lu` (from the spatial data) match attritbutes (from the non-spatial table). The former should be a subset of the latter."
   ]
  },
  {
   "cell_type": "code",
   "execution_count": 49,
   "metadata": {},
   "outputs": [
    {
     "data": {
      "text/plain": [
       "(9627, 7867)"
      ]
     },
     "execution_count": 49,
     "metadata": {},
     "output_type": "execute_result"
    }
   ],
   "source": [
    "bfa_marine.id.unique().size, bfa_hex_lu.id_no.unique().size"
   ]
  },
  {
   "cell_type": "markdown",
   "metadata": {},
   "source": [
    "The below checks the total number of unique `id_no` that are in the spatial table but **not** in the attribute look up table (non spatial). If the above holds, the number should be zero"
   ]
  },
  {
   "cell_type": "code",
   "execution_count": 50,
   "metadata": {},
   "outputs": [
    {
     "data": {
      "text/plain": [
       "0"
      ]
     },
     "execution_count": 50,
     "metadata": {},
     "output_type": "execute_result"
    }
   ],
   "source": [
    "(~pd.Series(bfa_hex_lu.id_no.unique()).isin(pd.Series(bfa_marine.id.unique()))).sum()"
   ]
  },
  {
   "cell_type": "code",
   "execution_count": 51,
   "metadata": {},
   "outputs": [
    {
     "data": {
      "text/html": [
       "<div>\n",
       "<style scoped>\n",
       "    .dataframe tbody tr th:only-of-type {\n",
       "        vertical-align: middle;\n",
       "    }\n",
       "\n",
       "    .dataframe tbody tr th {\n",
       "        vertical-align: top;\n",
       "    }\n",
       "\n",
       "    .dataframe thead th {\n",
       "        text-align: right;\n",
       "    }\n",
       "</style>\n",
       "<table border=\"1\" class=\"dataframe\">\n",
       "  <thead>\n",
       "    <tr style=\"text-align: right;\">\n",
       "      <th></th>\n",
       "      <th>row_id</th>\n",
       "      <th>id_no</th>\n",
       "      <th>binomial</th>\n",
       "      <th>presence</th>\n",
       "      <th>origin</th>\n",
       "      <th>seasonal</th>\n",
       "      <th>kingdom</th>\n",
       "      <th>phylum</th>\n",
       "      <th>class</th>\n",
       "      <th>order_</th>\n",
       "      <th>family</th>\n",
       "      <th>genus</th>\n",
       "      <th>code</th>\n",
       "    </tr>\n",
       "  </thead>\n",
       "  <tbody>\n",
       "    <tr>\n",
       "      <th>0</th>\n",
       "      <td>1</td>\n",
       "      <td>182562</td>\n",
       "      <td>Labeo cyclopinnis</td>\n",
       "      <td>2</td>\n",
       "      <td>1</td>\n",
       "      <td>1</td>\n",
       "      <td>ANIMALIA</td>\n",
       "      <td>CHORDATA</td>\n",
       "      <td>ACTINOPTERYGII</td>\n",
       "      <td>CYPRINIFORMES</td>\n",
       "      <td>CYPRINIDAE</td>\n",
       "      <td>Labeo</td>\n",
       "      <td>LC</td>\n",
       "    </tr>\n",
       "    <tr>\n",
       "      <th>1</th>\n",
       "      <td>2</td>\n",
       "      <td>182562</td>\n",
       "      <td>Labeo cyclopinnis</td>\n",
       "      <td>1</td>\n",
       "      <td>1</td>\n",
       "      <td>1</td>\n",
       "      <td>ANIMALIA</td>\n",
       "      <td>CHORDATA</td>\n",
       "      <td>ACTINOPTERYGII</td>\n",
       "      <td>CYPRINIFORMES</td>\n",
       "      <td>CYPRINIDAE</td>\n",
       "      <td>Labeo</td>\n",
       "      <td>LC</td>\n",
       "    </tr>\n",
       "    <tr>\n",
       "      <th>2</th>\n",
       "      <td>3</td>\n",
       "      <td>166467</td>\n",
       "      <td>Rasbora daniconius</td>\n",
       "      <td>1</td>\n",
       "      <td>1</td>\n",
       "      <td>1</td>\n",
       "      <td>ANIMALIA</td>\n",
       "      <td>CHORDATA</td>\n",
       "      <td>ACTINOPTERYGII</td>\n",
       "      <td>CYPRINIFORMES</td>\n",
       "      <td>CYPRINIDAE</td>\n",
       "      <td>Rasbora</td>\n",
       "      <td>LC</td>\n",
       "    </tr>\n",
       "    <tr>\n",
       "      <th>3</th>\n",
       "      <td>4</td>\n",
       "      <td>170066</td>\n",
       "      <td>Panulirus longipes</td>\n",
       "      <td>1</td>\n",
       "      <td>1</td>\n",
       "      <td>1</td>\n",
       "      <td>ANIMALIA</td>\n",
       "      <td>ARTHROPODA</td>\n",
       "      <td>MALACOSTRACA</td>\n",
       "      <td>DECAPODA</td>\n",
       "      <td>PALINURIDAE</td>\n",
       "      <td>Panulirus</td>\n",
       "      <td>LC</td>\n",
       "    </tr>\n",
       "    <tr>\n",
       "      <th>4</th>\n",
       "      <td>5</td>\n",
       "      <td>178108</td>\n",
       "      <td>Sphyraena lucasana</td>\n",
       "      <td>1</td>\n",
       "      <td>1</td>\n",
       "      <td>1</td>\n",
       "      <td>ANIMALIA</td>\n",
       "      <td>CHORDATA</td>\n",
       "      <td>ACTINOPTERYGII</td>\n",
       "      <td>PERCIFORMES</td>\n",
       "      <td>SPHYRAENIDAE</td>\n",
       "      <td>Sphyraena</td>\n",
       "      <td>DD</td>\n",
       "    </tr>\n",
       "  </tbody>\n",
       "</table>\n",
       "</div>"
      ],
      "text/plain": [
       "   row_id   id_no            binomial  presence  origin  seasonal   kingdom  \\\n",
       "0       1  182562   Labeo cyclopinnis         2       1         1  ANIMALIA   \n",
       "1       2  182562   Labeo cyclopinnis         1       1         1  ANIMALIA   \n",
       "2       3  166467  Rasbora daniconius         1       1         1  ANIMALIA   \n",
       "3       4  170066  Panulirus longipes         1       1         1  ANIMALIA   \n",
       "4       5  178108  Sphyraena lucasana         1       1         1  ANIMALIA   \n",
       "\n",
       "       phylum           class         order_        family      genus code  \n",
       "0    CHORDATA  ACTINOPTERYGII  CYPRINIFORMES    CYPRINIDAE      Labeo   LC  \n",
       "1    CHORDATA  ACTINOPTERYGII  CYPRINIFORMES    CYPRINIDAE      Labeo   LC  \n",
       "2    CHORDATA  ACTINOPTERYGII  CYPRINIFORMES    CYPRINIDAE    Rasbora   LC  \n",
       "3  ARTHROPODA    MALACOSTRACA       DECAPODA   PALINURIDAE  Panulirus   LC  \n",
       "4    CHORDATA  ACTINOPTERYGII    PERCIFORMES  SPHYRAENIDAE  Sphyraena   DD  "
      ]
     },
     "execution_count": 51,
     "metadata": {},
     "output_type": "execute_result"
    }
   ],
   "source": [
    "bfa_hex_lu.head()"
   ]
  },
  {
   "cell_type": "code",
   "execution_count": 52,
   "metadata": {},
   "outputs": [],
   "source": [
    "bfa_marine = bfa_marine[['id', 'biome_marine', 'biome_freshwater', 'biome_terrestrial']]\n",
    "bfa_marine['biome_marine'] = bfa_marine['biome_marine'].astype('category')\n",
    "bfa_marine['biome_freshwater'] = bfa_marine['biome_freshwater'].astype('category')\n",
    "bfa_marine['biome_terrestrial'] = bfa_marine['biome_terrestrial'].astype('category')"
   ]
  },
  {
   "cell_type": "markdown",
   "metadata": {},
   "source": [
    "Ensure the joined table does not have any duplicates"
   ]
  },
  {
   "cell_type": "code",
   "execution_count": 53,
   "metadata": {},
   "outputs": [],
   "source": [
    "bfa_marine = bfa_marine.drop_duplicates()"
   ]
  },
  {
   "cell_type": "code",
   "execution_count": 54,
   "metadata": {},
   "outputs": [
    {
     "data": {
      "text/plain": [
       "14723"
      ]
     },
     "execution_count": 54,
     "metadata": {},
     "output_type": "execute_result"
    }
   ],
   "source": [
    "bfa_hex_lu.index.size"
   ]
  },
  {
   "cell_type": "code",
   "execution_count": 55,
   "metadata": {},
   "outputs": [],
   "source": [
    "bfa_hex_lu = pd.merge(bfa_hex_lu, bfa_marine, left_on='id_no', right_on='id')"
   ]
  },
  {
   "cell_type": "code",
   "execution_count": 56,
   "metadata": {},
   "outputs": [
    {
     "data": {
      "text/plain": [
       "14723"
      ]
     },
     "execution_count": 56,
     "metadata": {},
     "output_type": "execute_result"
    }
   ],
   "source": [
    "bfa_hex_lu.index.size"
   ]
  },
  {
   "cell_type": "code",
   "execution_count": 57,
   "metadata": {},
   "outputs": [
    {
     "data": {
      "text/html": [
       "<div>\n",
       "<style scoped>\n",
       "    .dataframe tbody tr th:only-of-type {\n",
       "        vertical-align: middle;\n",
       "    }\n",
       "\n",
       "    .dataframe tbody tr th {\n",
       "        vertical-align: top;\n",
       "    }\n",
       "\n",
       "    .dataframe thead th {\n",
       "        text-align: right;\n",
       "    }\n",
       "</style>\n",
       "<table border=\"1\" class=\"dataframe\">\n",
       "  <thead>\n",
       "    <tr style=\"text-align: right;\">\n",
       "      <th></th>\n",
       "      <th>row_id</th>\n",
       "      <th>id_no</th>\n",
       "      <th>binomial</th>\n",
       "      <th>presence</th>\n",
       "      <th>origin</th>\n",
       "      <th>seasonal</th>\n",
       "      <th>kingdom</th>\n",
       "      <th>phylum</th>\n",
       "      <th>class</th>\n",
       "      <th>order_</th>\n",
       "      <th>family</th>\n",
       "      <th>genus</th>\n",
       "      <th>code</th>\n",
       "      <th>id</th>\n",
       "      <th>biome_marine</th>\n",
       "      <th>biome_freshwater</th>\n",
       "      <th>biome_terrestrial</th>\n",
       "    </tr>\n",
       "  </thead>\n",
       "  <tbody>\n",
       "    <tr>\n",
       "      <th>0</th>\n",
       "      <td>1</td>\n",
       "      <td>182562</td>\n",
       "      <td>Labeo cyclopinnis</td>\n",
       "      <td>2</td>\n",
       "      <td>1</td>\n",
       "      <td>1</td>\n",
       "      <td>ANIMALIA</td>\n",
       "      <td>CHORDATA</td>\n",
       "      <td>ACTINOPTERYGII</td>\n",
       "      <td>CYPRINIFORMES</td>\n",
       "      <td>CYPRINIDAE</td>\n",
       "      <td>Labeo</td>\n",
       "      <td>LC</td>\n",
       "      <td>182562</td>\n",
       "      <td>f</td>\n",
       "      <td>t</td>\n",
       "      <td>f</td>\n",
       "    </tr>\n",
       "    <tr>\n",
       "      <th>1</th>\n",
       "      <td>2</td>\n",
       "      <td>182562</td>\n",
       "      <td>Labeo cyclopinnis</td>\n",
       "      <td>1</td>\n",
       "      <td>1</td>\n",
       "      <td>1</td>\n",
       "      <td>ANIMALIA</td>\n",
       "      <td>CHORDATA</td>\n",
       "      <td>ACTINOPTERYGII</td>\n",
       "      <td>CYPRINIFORMES</td>\n",
       "      <td>CYPRINIDAE</td>\n",
       "      <td>Labeo</td>\n",
       "      <td>LC</td>\n",
       "      <td>182562</td>\n",
       "      <td>f</td>\n",
       "      <td>t</td>\n",
       "      <td>f</td>\n",
       "    </tr>\n",
       "    <tr>\n",
       "      <th>2</th>\n",
       "      <td>3</td>\n",
       "      <td>166467</td>\n",
       "      <td>Rasbora daniconius</td>\n",
       "      <td>1</td>\n",
       "      <td>1</td>\n",
       "      <td>1</td>\n",
       "      <td>ANIMALIA</td>\n",
       "      <td>CHORDATA</td>\n",
       "      <td>ACTINOPTERYGII</td>\n",
       "      <td>CYPRINIFORMES</td>\n",
       "      <td>CYPRINIDAE</td>\n",
       "      <td>Rasbora</td>\n",
       "      <td>LC</td>\n",
       "      <td>166467</td>\n",
       "      <td>f</td>\n",
       "      <td>t</td>\n",
       "      <td>f</td>\n",
       "    </tr>\n",
       "    <tr>\n",
       "      <th>3</th>\n",
       "      <td>4</td>\n",
       "      <td>170066</td>\n",
       "      <td>Panulirus longipes</td>\n",
       "      <td>1</td>\n",
       "      <td>1</td>\n",
       "      <td>1</td>\n",
       "      <td>ANIMALIA</td>\n",
       "      <td>ARTHROPODA</td>\n",
       "      <td>MALACOSTRACA</td>\n",
       "      <td>DECAPODA</td>\n",
       "      <td>PALINURIDAE</td>\n",
       "      <td>Panulirus</td>\n",
       "      <td>LC</td>\n",
       "      <td>170066</td>\n",
       "      <td>t</td>\n",
       "      <td>f</td>\n",
       "      <td>f</td>\n",
       "    </tr>\n",
       "    <tr>\n",
       "      <th>4</th>\n",
       "      <td>5</td>\n",
       "      <td>178108</td>\n",
       "      <td>Sphyraena lucasana</td>\n",
       "      <td>1</td>\n",
       "      <td>1</td>\n",
       "      <td>1</td>\n",
       "      <td>ANIMALIA</td>\n",
       "      <td>CHORDATA</td>\n",
       "      <td>ACTINOPTERYGII</td>\n",
       "      <td>PERCIFORMES</td>\n",
       "      <td>SPHYRAENIDAE</td>\n",
       "      <td>Sphyraena</td>\n",
       "      <td>DD</td>\n",
       "      <td>178108</td>\n",
       "      <td>t</td>\n",
       "      <td>f</td>\n",
       "      <td>f</td>\n",
       "    </tr>\n",
       "  </tbody>\n",
       "</table>\n",
       "</div>"
      ],
      "text/plain": [
       "   row_id   id_no            binomial  presence  origin  seasonal   kingdom  \\\n",
       "0       1  182562   Labeo cyclopinnis         2       1         1  ANIMALIA   \n",
       "1       2  182562   Labeo cyclopinnis         1       1         1  ANIMALIA   \n",
       "2       3  166467  Rasbora daniconius         1       1         1  ANIMALIA   \n",
       "3       4  170066  Panulirus longipes         1       1         1  ANIMALIA   \n",
       "4       5  178108  Sphyraena lucasana         1       1         1  ANIMALIA   \n",
       "\n",
       "       phylum           class         order_        family      genus code  \\\n",
       "0    CHORDATA  ACTINOPTERYGII  CYPRINIFORMES    CYPRINIDAE      Labeo   LC   \n",
       "1    CHORDATA  ACTINOPTERYGII  CYPRINIFORMES    CYPRINIDAE      Labeo   LC   \n",
       "2    CHORDATA  ACTINOPTERYGII  CYPRINIFORMES    CYPRINIDAE    Rasbora   LC   \n",
       "3  ARTHROPODA    MALACOSTRACA       DECAPODA   PALINURIDAE  Panulirus   LC   \n",
       "4    CHORDATA  ACTINOPTERYGII    PERCIFORMES  SPHYRAENIDAE  Sphyraena   DD   \n",
       "\n",
       "       id biome_marine biome_freshwater biome_terrestrial  \n",
       "0  182562            f                t                 f  \n",
       "1  182562            f                t                 f  \n",
       "2  166467            f                t                 f  \n",
       "3  170066            t                f                 f  \n",
       "4  178108            t                f                 f  "
      ]
     },
     "execution_count": 57,
     "metadata": {},
     "output_type": "execute_result"
    }
   ],
   "source": [
    "bfa_hex_lu.head()"
   ]
  },
  {
   "cell_type": "markdown",
   "metadata": {},
   "source": [
    "Check the number of species in the `bfa_hex` is correct"
   ]
  },
  {
   "cell_type": "code",
   "execution_count": 58,
   "metadata": {},
   "outputs": [
    {
     "data": {
      "text/plain": [
       "7867"
      ]
     },
     "execution_count": 58,
     "metadata": {},
     "output_type": "execute_result"
    }
   ],
   "source": [
    "bfa_hex_lu[bfa_hex_lu.row_id.isin(bfa_hex.row_id.unique())].id_no.unique().size"
   ]
  },
  {
   "cell_type": "markdown",
   "metadata": {},
   "source": [
    "**WDPA related tables**"
   ]
  },
  {
   "cell_type": "code",
   "execution_count": 59,
   "metadata": {},
   "outputs": [],
   "source": [
    "wdpa_hex = pd.read_csv('hex_wdpa_poly.csv.gz',\n",
    "                        skipinitialspace=True,\n",
    "                        dtype={'ID_NO': np.uint32, 'WDPAID': np.uint32})"
   ]
  },
  {
   "cell_type": "code",
   "execution_count": 60,
   "metadata": {},
   "outputs": [
    {
     "name": "stdout",
     "output_type": "stream",
     "text": [
      "<class 'pandas.core.frame.DataFrame'>\n",
      "RangeIndex: 1499915 entries, 0 to 1499914\n",
      "Data columns (total 2 columns):\n",
      "ID_NO     1499915 non-null uint32\n",
      "WDPAID    1499915 non-null uint32\n",
      "dtypes: uint32(2)\n",
      "memory usage: 11.4 MB\n"
     ]
    }
   ],
   "source": [
    "wdpa_hex.info()"
   ]
  },
  {
   "cell_type": "code",
   "execution_count": 61,
   "metadata": {},
   "outputs": [],
   "source": [
    "wdpa_hex.columns = ['wdpaid', 'hexid']"
   ]
  },
  {
   "cell_type": "markdown",
   "metadata": {},
   "source": [
    "**Filtering the hexagon layer, drop all cells with invalid hexid**"
   ]
  },
  {
   "cell_type": "code",
   "execution_count": 62,
   "metadata": {},
   "outputs": [
    {
     "data": {
      "text/plain": [
       "1499915"
      ]
     },
     "execution_count": 62,
     "metadata": {},
     "output_type": "execute_result"
    }
   ],
   "source": [
    "wdpa_hex.index.size"
   ]
  },
  {
   "cell_type": "code",
   "execution_count": 63,
   "metadata": {},
   "outputs": [],
   "source": [
    "wdpa_hex = wdpa_hex[~wdpa_hex.hexid.isin(invalid_hex.hexid)]"
   ]
  },
  {
   "cell_type": "markdown",
   "metadata": {},
   "source": [
    "Load and clean the look up table"
   ]
  },
  {
   "cell_type": "code",
   "execution_count": 64,
   "metadata": {},
   "outputs": [
    {
     "name": "stdout",
     "output_type": "stream",
     "text": [
      "<class 'pandas.core.frame.DataFrame'>\n",
      "RangeIndex: 217544 entries, 0 to 217543\n",
      "Data columns (total 12 columns):\n",
      "OID           217544 non-null int64\n",
      "WDPAID        217544 non-null float64\n",
      "DESIG_ENG     217544 non-null object\n",
      "DESIG_TYPE    217544 non-null object\n",
      "IUCN_CAT      217544 non-null object\n",
      "INT_CRIT      217544 non-null object\n",
      "MARINE        217544 non-null int64\n",
      "REP_AREA      217544 non-null float64\n",
      "GIS_AREA      217544 non-null float64\n",
      "STATUS        217544 non-null object\n",
      "STATUS_YR     217544 non-null int64\n",
      "PARENT_ISO    217544 non-null object\n",
      "dtypes: float64(3), int64(3), object(6)\n",
      "memory usage: 19.9+ MB\n",
      "None\n",
      "<class 'pandas.core.frame.DataFrame'>\n",
      "RangeIndex: 217544 entries, 0 to 217543\n",
      "Data columns (total 11 columns):\n",
      "WDPAID        217544 non-null uint32\n",
      "DESIG_ENG     217544 non-null category\n",
      "DESIG_TYPE    217544 non-null category\n",
      "IUCN_CAT      217544 non-null category\n",
      "INT_CRIT      217544 non-null category\n",
      "MARINE        217544 non-null uint8\n",
      "REP_AREA      217544 non-null float16\n",
      "GIS_AREA      217544 non-null float16\n",
      "STATUS        217544 non-null category\n",
      "STATUS_YR     217544 non-null uint16\n",
      "PARENT_ISO    217544 non-null category\n",
      "dtypes: category(6), float16(2), uint16(1), uint32(1), uint8(1)\n",
      "memory usage: 4.2 MB\n",
      "None\n"
     ]
    }
   ],
   "source": [
    "wdpa_hex_lu = pd.read_csv('wdpa_lookup2.csv', float_precision='high')\n",
    "\n",
    "print(wdpa_hex_lu.info())\n",
    "\n",
    "# change dtypes to make it smaller in memory\n",
    "wdpa_hex_lu['WDPAID'] = wdpa_hex_lu['WDPAID'].astype('uint32')\n",
    "wdpa_hex_lu['STATUS_YR'] = wdpa_hex_lu['STATUS_YR'].astype('uint16')\n",
    "wdpa_hex_lu['MARINE'] = wdpa_hex_lu['MARINE'].astype('uint8')\n",
    "wdpa_hex_lu[['REP_AREA', 'GIS_AREA']] = wdpa_hex_lu[['REP_AREA', 'GIS_AREA']].astype('float16')\n",
    "\n",
    "wdpa_hex_lu = wdpa_hex_lu.drop('OID', axis=1)\n",
    "\n",
    "wdpa_hex_lu['DESIG_ENG'] = wdpa_hex_lu['DESIG_ENG'].astype('category')\n",
    "wdpa_hex_lu['DESIG_TYPE'] = wdpa_hex_lu['DESIG_TYPE'].astype('category')\n",
    "wdpa_hex_lu['IUCN_CAT'] = wdpa_hex_lu['IUCN_CAT'].astype('category')\n",
    "wdpa_hex_lu['INT_CRIT'] = wdpa_hex_lu['INT_CRIT'].astype('category')\n",
    "wdpa_hex_lu['STATUS'] = wdpa_hex_lu['STATUS'].astype('category')\n",
    "wdpa_hex_lu['PARENT_ISO'] = wdpa_hex_lu['PARENT_ISO'].astype('category')\n",
    "\n",
    "print(wdpa_hex_lu.info())"
   ]
  },
  {
   "cell_type": "markdown",
   "metadata": {},
   "source": [
    "### Filtering\n",
    "The idea is to re-use the same set of rules for the analysis, and, depending on the input, reflect different narratives."
   ]
  },
  {
   "cell_type": "markdown",
   "metadata": {},
   "source": [
    "**The filter works through the use of a fitlered look up table**"
   ]
  },
  {
   "cell_type": "markdown",
   "metadata": {},
   "source": [
    "Filters needed:\n",
    "1. presence (1 or 2), origin (1 or 2) and seasonality (no filtering) (following discussions with Craig and Barbara)\n",
    "2. remove all invalid hexagons that wrap around the globe\n",
    "3. the filtering of protected areas in the WDPA is according to the [methodology for calculating global statistics](https://www.protectedplanet.net/c/calculating-protected-area-coverage), more specifically:\n",
    "    - Only sites with Status = designated, inscribed, and established are included.\n",
    "    - Exclude sites with Status = Proposed, Not Reported;\n",
    "    - Exclude 'UNESCO Man and Biosphere Reserves' "
   ]
  },
  {
   "cell_type": "markdown",
   "metadata": {},
   "source": [
    "**Filtering the species lookup table**"
   ]
  },
  {
   "cell_type": "code",
   "execution_count": 65,
   "metadata": {},
   "outputs": [
    {
     "data": {
      "text/html": [
       "<div>\n",
       "<style scoped>\n",
       "    .dataframe tbody tr th:only-of-type {\n",
       "        vertical-align: middle;\n",
       "    }\n",
       "\n",
       "    .dataframe tbody tr th {\n",
       "        vertical-align: top;\n",
       "    }\n",
       "\n",
       "    .dataframe thead th {\n",
       "        text-align: right;\n",
       "    }\n",
       "</style>\n",
       "<table border=\"1\" class=\"dataframe\">\n",
       "  <thead>\n",
       "    <tr style=\"text-align: right;\">\n",
       "      <th></th>\n",
       "      <th>row_id</th>\n",
       "      <th>id_no</th>\n",
       "      <th>binomial</th>\n",
       "      <th>presence</th>\n",
       "      <th>origin</th>\n",
       "      <th>seasonal</th>\n",
       "      <th>kingdom</th>\n",
       "      <th>phylum</th>\n",
       "      <th>class</th>\n",
       "      <th>order_</th>\n",
       "      <th>family</th>\n",
       "      <th>genus</th>\n",
       "      <th>code</th>\n",
       "      <th>id</th>\n",
       "      <th>biome_marine</th>\n",
       "      <th>biome_freshwater</th>\n",
       "      <th>biome_terrestrial</th>\n",
       "    </tr>\n",
       "  </thead>\n",
       "  <tbody>\n",
       "    <tr>\n",
       "      <th>0</th>\n",
       "      <td>1</td>\n",
       "      <td>182562</td>\n",
       "      <td>Labeo cyclopinnis</td>\n",
       "      <td>2</td>\n",
       "      <td>1</td>\n",
       "      <td>1</td>\n",
       "      <td>ANIMALIA</td>\n",
       "      <td>CHORDATA</td>\n",
       "      <td>ACTINOPTERYGII</td>\n",
       "      <td>CYPRINIFORMES</td>\n",
       "      <td>CYPRINIDAE</td>\n",
       "      <td>Labeo</td>\n",
       "      <td>LC</td>\n",
       "      <td>182562</td>\n",
       "      <td>f</td>\n",
       "      <td>t</td>\n",
       "      <td>f</td>\n",
       "    </tr>\n",
       "    <tr>\n",
       "      <th>1</th>\n",
       "      <td>2</td>\n",
       "      <td>182562</td>\n",
       "      <td>Labeo cyclopinnis</td>\n",
       "      <td>1</td>\n",
       "      <td>1</td>\n",
       "      <td>1</td>\n",
       "      <td>ANIMALIA</td>\n",
       "      <td>CHORDATA</td>\n",
       "      <td>ACTINOPTERYGII</td>\n",
       "      <td>CYPRINIFORMES</td>\n",
       "      <td>CYPRINIDAE</td>\n",
       "      <td>Labeo</td>\n",
       "      <td>LC</td>\n",
       "      <td>182562</td>\n",
       "      <td>f</td>\n",
       "      <td>t</td>\n",
       "      <td>f</td>\n",
       "    </tr>\n",
       "    <tr>\n",
       "      <th>2</th>\n",
       "      <td>3</td>\n",
       "      <td>166467</td>\n",
       "      <td>Rasbora daniconius</td>\n",
       "      <td>1</td>\n",
       "      <td>1</td>\n",
       "      <td>1</td>\n",
       "      <td>ANIMALIA</td>\n",
       "      <td>CHORDATA</td>\n",
       "      <td>ACTINOPTERYGII</td>\n",
       "      <td>CYPRINIFORMES</td>\n",
       "      <td>CYPRINIDAE</td>\n",
       "      <td>Rasbora</td>\n",
       "      <td>LC</td>\n",
       "      <td>166467</td>\n",
       "      <td>f</td>\n",
       "      <td>t</td>\n",
       "      <td>f</td>\n",
       "    </tr>\n",
       "    <tr>\n",
       "      <th>3</th>\n",
       "      <td>4</td>\n",
       "      <td>170066</td>\n",
       "      <td>Panulirus longipes</td>\n",
       "      <td>1</td>\n",
       "      <td>1</td>\n",
       "      <td>1</td>\n",
       "      <td>ANIMALIA</td>\n",
       "      <td>ARTHROPODA</td>\n",
       "      <td>MALACOSTRACA</td>\n",
       "      <td>DECAPODA</td>\n",
       "      <td>PALINURIDAE</td>\n",
       "      <td>Panulirus</td>\n",
       "      <td>LC</td>\n",
       "      <td>170066</td>\n",
       "      <td>t</td>\n",
       "      <td>f</td>\n",
       "      <td>f</td>\n",
       "    </tr>\n",
       "    <tr>\n",
       "      <th>4</th>\n",
       "      <td>5</td>\n",
       "      <td>178108</td>\n",
       "      <td>Sphyraena lucasana</td>\n",
       "      <td>1</td>\n",
       "      <td>1</td>\n",
       "      <td>1</td>\n",
       "      <td>ANIMALIA</td>\n",
       "      <td>CHORDATA</td>\n",
       "      <td>ACTINOPTERYGII</td>\n",
       "      <td>PERCIFORMES</td>\n",
       "      <td>SPHYRAENIDAE</td>\n",
       "      <td>Sphyraena</td>\n",
       "      <td>DD</td>\n",
       "      <td>178108</td>\n",
       "      <td>t</td>\n",
       "      <td>f</td>\n",
       "      <td>f</td>\n",
       "    </tr>\n",
       "  </tbody>\n",
       "</table>\n",
       "</div>"
      ],
      "text/plain": [
       "   row_id   id_no            binomial  presence  origin  seasonal   kingdom  \\\n",
       "0       1  182562   Labeo cyclopinnis         2       1         1  ANIMALIA   \n",
       "1       2  182562   Labeo cyclopinnis         1       1         1  ANIMALIA   \n",
       "2       3  166467  Rasbora daniconius         1       1         1  ANIMALIA   \n",
       "3       4  170066  Panulirus longipes         1       1         1  ANIMALIA   \n",
       "4       5  178108  Sphyraena lucasana         1       1         1  ANIMALIA   \n",
       "\n",
       "       phylum           class         order_        family      genus code  \\\n",
       "0    CHORDATA  ACTINOPTERYGII  CYPRINIFORMES    CYPRINIDAE      Labeo   LC   \n",
       "1    CHORDATA  ACTINOPTERYGII  CYPRINIFORMES    CYPRINIDAE      Labeo   LC   \n",
       "2    CHORDATA  ACTINOPTERYGII  CYPRINIFORMES    CYPRINIDAE    Rasbora   LC   \n",
       "3  ARTHROPODA    MALACOSTRACA       DECAPODA   PALINURIDAE  Panulirus   LC   \n",
       "4    CHORDATA  ACTINOPTERYGII    PERCIFORMES  SPHYRAENIDAE  Sphyraena   DD   \n",
       "\n",
       "       id biome_marine biome_freshwater biome_terrestrial  \n",
       "0  182562            f                t                 f  \n",
       "1  182562            f                t                 f  \n",
       "2  166467            f                t                 f  \n",
       "3  170066            t                f                 f  \n",
       "4  178108            t                f                 f  "
      ]
     },
     "execution_count": 65,
     "metadata": {},
     "output_type": "execute_result"
    }
   ],
   "source": [
    "bfa_hex_lu.head()"
   ]
  },
  {
   "cell_type": "code",
   "execution_count": 66,
   "metadata": {},
   "outputs": [],
   "source": [
    "BFA_HEX_LU_FILTER = (bfa_hex_lu.presence.isin([1,2])) & (bfa_hex_lu.origin.isin([1,2]))"
   ]
  },
  {
   "cell_type": "code",
   "execution_count": 67,
   "metadata": {},
   "outputs": [],
   "source": [
    "bfa_hex_lu_filter = bfa_hex_lu[BFA_HEX_LU_FILTER]"
   ]
  },
  {
   "cell_type": "code",
   "execution_count": 68,
   "metadata": {},
   "outputs": [
    {
     "name": "stdout",
     "output_type": "stream",
     "text": [
      "Number of records in the lookup table:\n",
      "After filtering: 13410\n",
      "Original: 14723\n"
     ]
    }
   ],
   "source": [
    "print('Number of records in the lookup table:\\nAfter filtering: {}\\nOriginal: {}'.format(bfa_hex_lu_filter.index.size, bfa_hex_lu.index.size))"
   ]
  },
  {
   "cell_type": "code",
   "execution_count": 69,
   "metadata": {},
   "outputs": [
    {
     "name": "stdout",
     "output_type": "stream",
     "text": [
      "Number of species in the lookup table:\n",
      "After filtering: 7867\n",
      "Original: 7867\n"
     ]
    }
   ],
   "source": [
    "print('Number of species in the lookup table:\\nAfter filtering: {}\\nOriginal: {}'.format(bfa_hex_lu_filter.id_no.unique().size, bfa_hex_lu.id_no.unique().size))"
   ]
  },
  {
   "cell_type": "markdown",
   "metadata": {},
   "source": [
    "**Filtering the WDPA lookup table**"
   ]
  },
  {
   "cell_type": "code",
   "execution_count": 70,
   "metadata": {},
   "outputs": [
    {
     "data": {
      "text/html": [
       "<div>\n",
       "<style scoped>\n",
       "    .dataframe tbody tr th:only-of-type {\n",
       "        vertical-align: middle;\n",
       "    }\n",
       "\n",
       "    .dataframe tbody tr th {\n",
       "        vertical-align: top;\n",
       "    }\n",
       "\n",
       "    .dataframe thead th {\n",
       "        text-align: right;\n",
       "    }\n",
       "</style>\n",
       "<table border=\"1\" class=\"dataframe\">\n",
       "  <thead>\n",
       "    <tr style=\"text-align: right;\">\n",
       "      <th></th>\n",
       "      <th>WDPAID</th>\n",
       "      <th>DESIG_ENG</th>\n",
       "      <th>DESIG_TYPE</th>\n",
       "      <th>IUCN_CAT</th>\n",
       "      <th>INT_CRIT</th>\n",
       "      <th>MARINE</th>\n",
       "      <th>REP_AREA</th>\n",
       "      <th>GIS_AREA</th>\n",
       "      <th>STATUS</th>\n",
       "      <th>STATUS_YR</th>\n",
       "      <th>PARENT_ISO</th>\n",
       "    </tr>\n",
       "  </thead>\n",
       "  <tbody>\n",
       "    <tr>\n",
       "      <th>0</th>\n",
       "      <td>123</td>\n",
       "      <td>UNESCO-MAB Biosphere Reserve</td>\n",
       "      <td>International</td>\n",
       "      <td>Not Applicable</td>\n",
       "      <td>Not Applicable</td>\n",
       "      <td>0</td>\n",
       "      <td>98.4375</td>\n",
       "      <td>89.625</td>\n",
       "      <td>Designated</td>\n",
       "      <td>1977</td>\n",
       "      <td>CHL</td>\n",
       "    </tr>\n",
       "    <tr>\n",
       "      <th>1</th>\n",
       "      <td>10707</td>\n",
       "      <td>UNESCO-MAB Biosphere Reserve</td>\n",
       "      <td>International</td>\n",
       "      <td>Not Applicable</td>\n",
       "      <td>Not Applicable</td>\n",
       "      <td>0</td>\n",
       "      <td>171.0000</td>\n",
       "      <td>170.250</td>\n",
       "      <td>Designated</td>\n",
       "      <td>1984</td>\n",
       "      <td>CHL</td>\n",
       "    </tr>\n",
       "    <tr>\n",
       "      <th>2</th>\n",
       "      <td>120</td>\n",
       "      <td>UNESCO-MAB Biosphere Reserve</td>\n",
       "      <td>International</td>\n",
       "      <td>Not Applicable</td>\n",
       "      <td>Not Applicable</td>\n",
       "      <td>0</td>\n",
       "      <td>17840.0000</td>\n",
       "      <td>2196.000</td>\n",
       "      <td>Designated</td>\n",
       "      <td>1978</td>\n",
       "      <td>CHL</td>\n",
       "    </tr>\n",
       "    <tr>\n",
       "      <th>3</th>\n",
       "      <td>2548</td>\n",
       "      <td>UNESCO-MAB Biosphere Reserve</td>\n",
       "      <td>International</td>\n",
       "      <td>Not Applicable</td>\n",
       "      <td>Not Applicable</td>\n",
       "      <td>0</td>\n",
       "      <td>17424.0000</td>\n",
       "      <td>16944.000</td>\n",
       "      <td>Designated</td>\n",
       "      <td>1979</td>\n",
       "      <td>CHL</td>\n",
       "    </tr>\n",
       "    <tr>\n",
       "      <th>4</th>\n",
       "      <td>3013</td>\n",
       "      <td>UNESCO-MAB Biosphere Reserve</td>\n",
       "      <td>International</td>\n",
       "      <td>Not Applicable</td>\n",
       "      <td>Not Applicable</td>\n",
       "      <td>0</td>\n",
       "      <td>3584.0000</td>\n",
       "      <td>1417.000</td>\n",
       "      <td>Designated</td>\n",
       "      <td>1981</td>\n",
       "      <td>CHL</td>\n",
       "    </tr>\n",
       "  </tbody>\n",
       "</table>\n",
       "</div>"
      ],
      "text/plain": [
       "   WDPAID                     DESIG_ENG     DESIG_TYPE        IUCN_CAT  \\\n",
       "0     123  UNESCO-MAB Biosphere Reserve  International  Not Applicable   \n",
       "1   10707  UNESCO-MAB Biosphere Reserve  International  Not Applicable   \n",
       "2     120  UNESCO-MAB Biosphere Reserve  International  Not Applicable   \n",
       "3    2548  UNESCO-MAB Biosphere Reserve  International  Not Applicable   \n",
       "4    3013  UNESCO-MAB Biosphere Reserve  International  Not Applicable   \n",
       "\n",
       "         INT_CRIT  MARINE    REP_AREA   GIS_AREA      STATUS  STATUS_YR  \\\n",
       "0  Not Applicable       0     98.4375     89.625  Designated       1977   \n",
       "1  Not Applicable       0    171.0000    170.250  Designated       1984   \n",
       "2  Not Applicable       0  17840.0000   2196.000  Designated       1978   \n",
       "3  Not Applicable       0  17424.0000  16944.000  Designated       1979   \n",
       "4  Not Applicable       0   3584.0000   1417.000  Designated       1981   \n",
       "\n",
       "  PARENT_ISO  \n",
       "0        CHL  \n",
       "1        CHL  \n",
       "2        CHL  \n",
       "3        CHL  \n",
       "4        CHL  "
      ]
     },
     "execution_count": 70,
     "metadata": {},
     "output_type": "execute_result"
    }
   ],
   "source": [
    "wdpa_hex_lu.head()"
   ]
  },
  {
   "cell_type": "markdown",
   "metadata": {},
   "source": [
    "Check the category names are correct, for filtering"
   ]
  },
  {
   "cell_type": "code",
   "execution_count": 71,
   "metadata": {},
   "outputs": [
    {
     "data": {
      "text/plain": [
       "([Designated, Proposed, Not Reported, Adopted, Inscribed, Established]\n",
       " Categories (6, object): [Designated, Proposed, Not Reported, Adopted, Inscribed, Established],\n",
       " [UNESCO-MAB Biosphere Reserve, Natural Monument, National Park, National Reserve, Forest Reserve, ..., Geological Polygon, Nature Monument (project), Nature Park (project), Natural-ethnic Territory, Nature park (project)]\n",
       " Length: 1565\n",
       " Categories (1565, object): [UNESCO-MAB Biosphere Reserve, Natural Monument, National Park, National Reserve, ..., Nature Monument (project), Nature Park (project), Natural-ethnic Territory, Nature park (project)])"
      ]
     },
     "execution_count": 71,
     "metadata": {},
     "output_type": "execute_result"
    }
   ],
   "source": [
    "wdpa_hex_lu.STATUS.unique(), wdpa_hex_lu.DESIG_ENG.unique()"
   ]
  },
  {
   "cell_type": "code",
   "execution_count": 72,
   "metadata": {},
   "outputs": [],
   "source": [
    "WDPA_HEX_LU_FILTER = (wdpa_hex_lu.STATUS.isin(['Designated', 'Inscribed', 'Established', 'Adopted'])) & (wdpa_hex_lu.DESIG_ENG != 'UNESCO-MAB Biosphere Reserve')\n",
    "wdpa_hex_lu_filter = wdpa_hex_lu[WDPA_HEX_LU_FILTER]"
   ]
  },
  {
   "cell_type": "code",
   "execution_count": 73,
   "metadata": {},
   "outputs": [
    {
     "name": "stdout",
     "output_type": "stream",
     "text": [
      "Number of records in the lookup table:\n",
      "After filtering: 215586\n",
      "Original: 217544\n"
     ]
    }
   ],
   "source": [
    "print('Number of records in the lookup table:\\nAfter filtering: {}\\nOriginal: {}'.format(wdpa_hex_lu_filter.index.size, wdpa_hex_lu.index.size))"
   ]
  },
  {
   "cell_type": "code",
   "execution_count": 74,
   "metadata": {},
   "outputs": [
    {
     "name": "stdout",
     "output_type": "stream",
     "text": [
      "Number of protected areas in the lookup table:\n",
      "After filtering: 214879\n",
      "Original: 216829\n"
     ]
    }
   ],
   "source": [
    "print('Number of protected areas in the lookup table:\\nAfter filtering: {}\\nOriginal: {}'.format(wdpa_hex_lu_filter.WDPAID.unique().size, wdpa_hex_lu.WDPAID.unique().size))"
   ]
  },
  {
   "cell_type": "markdown",
   "metadata": {},
   "source": [
    "**Convinent list of hexid for the WDPA to use**"
   ]
  },
  {
   "cell_type": "code",
   "execution_count": 75,
   "metadata": {},
   "outputs": [],
   "source": [
    "protected_hexid = wdpa_hex[wdpa_hex.wdpaid.isin(wdpa_hex_lu_filter.WDPAID)].hexid"
   ]
  },
  {
   "cell_type": "markdown",
   "metadata": {},
   "source": [
    "### Analysis"
   ]
  },
  {
   "cell_type": "markdown",
   "metadata": {},
   "source": [
    "**The actual analysis**  (this may take a very long time)\n",
    "\n",
    "1. Remove invalid hexid, using boolean index to include only those valid hexid (this has been done previously)\n",
    "2. Calculate the unique number of hexagon cells per species\n",
    "3. Calculate the unique number of *protected* hexagon cells per species"
   ]
  },
  {
   "cell_type": "code",
   "execution_count": 76,
   "metadata": {},
   "outputs": [],
   "source": [
    "def count_hex(df):\n",
    "    # df in the form of id, hex_id\n",
    "    return pd.merge(df, bfa_hex_lu_filter, on='row_id').groupby('id_no').hexid.nunique()\n",
    "    \n",
    "def count_protected_hex(df):\n",
    "    # only count those protectd, this is already filtered\n",
    "    df_protected = df[df.hexid.isin(protected_hexid)]\n",
    "    return count_hex(df_protected)\n",
    "\n",
    "# MapReduce if needs to distribute on multiple cores\n",
    "def reduce_hex(a, b):\n",
    "    return a.append(b).groupby('id_no').sum()"
   ]
  },
  {
   "cell_type": "markdown",
   "metadata": {},
   "source": [
    "**The below step takes a long time**"
   ]
  },
  {
   "cell_type": "code",
   "execution_count": 79,
   "metadata": {},
   "outputs": [
    {
     "data": {
      "text/plain": [
       "28"
      ]
     },
     "execution_count": 79,
     "metadata": {},
     "output_type": "execute_result"
    }
   ],
   "source": [
    "# it appear to help with the overflowing memory issue\n",
    "gc.collect()"
   ]
  },
  {
   "cell_type": "code",
   "execution_count": 78,
   "metadata": {},
   "outputs": [],
   "source": [
    "species_count = count_hex(bfa_hex)\n",
    "protected_species_count = count_protected_hex(bfa_hex)"
   ]
  },
  {
   "cell_type": "markdown",
   "metadata": {},
   "source": [
    "Clean the output"
   ]
  },
  {
   "cell_type": "code",
   "execution_count": 80,
   "metadata": {},
   "outputs": [],
   "source": [
    "species_result = pd.concat([species_count, protected_species_count], axis=1)\n",
    "\n",
    "species_result.columns = ['count', 'count_protected']\n",
    "\n",
    "species_result = species_result.fillna(0)\n",
    "\n",
    "species_result['per'] = species_result['count_protected']/species_result['count']"
   ]
  },
  {
   "cell_type": "markdown",
   "metadata": {},
   "source": [
    "Sanity checks on min and max of coverage"
   ]
  },
  {
   "cell_type": "code",
   "execution_count": 81,
   "metadata": {},
   "outputs": [
    {
     "data": {
      "text/plain": [
       "(0.0, 1.0)"
      ]
     },
     "execution_count": 81,
     "metadata": {},
     "output_type": "execute_result"
    }
   ],
   "source": [
    "species_result.per.min(), species_result.per.max()"
   ]
  },
  {
   "cell_type": "markdown",
   "metadata": {},
   "source": [
    "Create a lookup table on species attributes to facilite further interrogation if needed"
   ]
  },
  {
   "cell_type": "code",
   "execution_count": 82,
   "metadata": {},
   "outputs": [],
   "source": [
    "species_attr = bfa_hex_lu_filter[['id_no', 'binomial','kingdom', 'phylum', 'class', 'order_', 'family', 'genus', 'code', 'biome_marine', 'biome_freshwater', 'biome_terrestrial']].drop_duplicates()"
   ]
  },
  {
   "cell_type": "code",
   "execution_count": 83,
   "metadata": {},
   "outputs": [],
   "source": [
    "species_result_attr = pd.merge(species_result, species_attr, left_index=True, right_on='id_no')"
   ]
  },
  {
   "cell_type": "code",
   "execution_count": 84,
   "metadata": {},
   "outputs": [
    {
     "data": {
      "text/html": [
       "<div>\n",
       "<style scoped>\n",
       "    .dataframe tbody tr th:only-of-type {\n",
       "        vertical-align: middle;\n",
       "    }\n",
       "\n",
       "    .dataframe tbody tr th {\n",
       "        vertical-align: top;\n",
       "    }\n",
       "\n",
       "    .dataframe thead th {\n",
       "        text-align: right;\n",
       "    }\n",
       "</style>\n",
       "<table border=\"1\" class=\"dataframe\">\n",
       "  <thead>\n",
       "    <tr style=\"text-align: right;\">\n",
       "      <th></th>\n",
       "      <th>count</th>\n",
       "      <th>count_protected</th>\n",
       "      <th>per</th>\n",
       "      <th>id_no</th>\n",
       "      <th>binomial</th>\n",
       "      <th>kingdom</th>\n",
       "      <th>phylum</th>\n",
       "      <th>class</th>\n",
       "      <th>order_</th>\n",
       "      <th>family</th>\n",
       "      <th>genus</th>\n",
       "      <th>code</th>\n",
       "      <th>biome_marine</th>\n",
       "      <th>biome_freshwater</th>\n",
       "      <th>biome_terrestrial</th>\n",
       "    </tr>\n",
       "  </thead>\n",
       "  <tbody>\n",
       "    <tr>\n",
       "      <th>9913</th>\n",
       "      <td>2285</td>\n",
       "      <td>502.0</td>\n",
       "      <td>0.219694</td>\n",
       "      <td>137</td>\n",
       "      <td>Acerodon celebensis</td>\n",
       "      <td>ANIMALIA</td>\n",
       "      <td>CHORDATA</td>\n",
       "      <td>MAMMALIA</td>\n",
       "      <td>CHIROPTERA</td>\n",
       "      <td>PTEROPODIDAE</td>\n",
       "      <td>Acerodon</td>\n",
       "      <td>VU</td>\n",
       "      <td>f</td>\n",
       "      <td>f</td>\n",
       "      <td>t</td>\n",
       "    </tr>\n",
       "    <tr>\n",
       "      <th>9902</th>\n",
       "      <td>24</td>\n",
       "      <td>12.0</td>\n",
       "      <td>0.500000</td>\n",
       "      <td>138</td>\n",
       "      <td>Acerodon humilis</td>\n",
       "      <td>ANIMALIA</td>\n",
       "      <td>CHORDATA</td>\n",
       "      <td>MAMMALIA</td>\n",
       "      <td>CHIROPTERA</td>\n",
       "      <td>PTEROPODIDAE</td>\n",
       "      <td>Acerodon</td>\n",
       "      <td>EN</td>\n",
       "      <td>f</td>\n",
       "      <td>f</td>\n",
       "      <td>t</td>\n",
       "    </tr>\n",
       "    <tr>\n",
       "      <th>11984</th>\n",
       "      <td>2078</td>\n",
       "      <td>622.0</td>\n",
       "      <td>0.299326</td>\n",
       "      <td>139</td>\n",
       "      <td>Acerodon jubatus</td>\n",
       "      <td>ANIMALIA</td>\n",
       "      <td>CHORDATA</td>\n",
       "      <td>MAMMALIA</td>\n",
       "      <td>CHIROPTERA</td>\n",
       "      <td>PTEROPODIDAE</td>\n",
       "      <td>Acerodon</td>\n",
       "      <td>EN</td>\n",
       "      <td>f</td>\n",
       "      <td>f</td>\n",
       "      <td>t</td>\n",
       "    </tr>\n",
       "    <tr>\n",
       "      <th>7337</th>\n",
       "      <td>220</td>\n",
       "      <td>190.0</td>\n",
       "      <td>0.863636</td>\n",
       "      <td>140</td>\n",
       "      <td>Acerodon leucotis</td>\n",
       "      <td>ANIMALIA</td>\n",
       "      <td>CHORDATA</td>\n",
       "      <td>MAMMALIA</td>\n",
       "      <td>CHIROPTERA</td>\n",
       "      <td>PTEROPODIDAE</td>\n",
       "      <td>Acerodon</td>\n",
       "      <td>VU</td>\n",
       "      <td>f</td>\n",
       "      <td>f</td>\n",
       "      <td>t</td>\n",
       "    </tr>\n",
       "    <tr>\n",
       "      <th>13884</th>\n",
       "      <td>1053</td>\n",
       "      <td>372.0</td>\n",
       "      <td>0.353276</td>\n",
       "      <td>142</td>\n",
       "      <td>Acerodon mackloti</td>\n",
       "      <td>ANIMALIA</td>\n",
       "      <td>CHORDATA</td>\n",
       "      <td>MAMMALIA</td>\n",
       "      <td>CHIROPTERA</td>\n",
       "      <td>PTEROPODIDAE</td>\n",
       "      <td>Acerodon</td>\n",
       "      <td>VU</td>\n",
       "      <td>f</td>\n",
       "      <td>f</td>\n",
       "      <td>t</td>\n",
       "    </tr>\n",
       "  </tbody>\n",
       "</table>\n",
       "</div>"
      ],
      "text/plain": [
       "       count  count_protected       per  id_no             binomial   kingdom  \\\n",
       "9913    2285            502.0  0.219694    137  Acerodon celebensis  ANIMALIA   \n",
       "9902      24             12.0  0.500000    138     Acerodon humilis  ANIMALIA   \n",
       "11984   2078            622.0  0.299326    139     Acerodon jubatus  ANIMALIA   \n",
       "7337     220            190.0  0.863636    140    Acerodon leucotis  ANIMALIA   \n",
       "13884   1053            372.0  0.353276    142    Acerodon mackloti  ANIMALIA   \n",
       "\n",
       "         phylum     class      order_        family     genus code  \\\n",
       "9913   CHORDATA  MAMMALIA  CHIROPTERA  PTEROPODIDAE  Acerodon   VU   \n",
       "9902   CHORDATA  MAMMALIA  CHIROPTERA  PTEROPODIDAE  Acerodon   EN   \n",
       "11984  CHORDATA  MAMMALIA  CHIROPTERA  PTEROPODIDAE  Acerodon   EN   \n",
       "7337   CHORDATA  MAMMALIA  CHIROPTERA  PTEROPODIDAE  Acerodon   VU   \n",
       "13884  CHORDATA  MAMMALIA  CHIROPTERA  PTEROPODIDAE  Acerodon   VU   \n",
       "\n",
       "      biome_marine biome_freshwater biome_terrestrial  \n",
       "9913             f                f                 t  \n",
       "9902             f                f                 t  \n",
       "11984            f                f                 t  \n",
       "7337             f                f                 t  \n",
       "13884            f                f                 t  "
      ]
     },
     "execution_count": 84,
     "metadata": {},
     "output_type": "execute_result"
    }
   ],
   "source": [
    "species_result_attr.head()"
   ]
  },
  {
   "cell_type": "markdown",
   "metadata": {},
   "source": [
    "#### Gap species"
   ]
  },
  {
   "cell_type": "markdown",
   "metadata": {},
   "source": [
    "The definition of gaps species: \n",
    "1. if geographic range < 1,000 km2, `per` < 100%\n",
    "2. if geographic range >= 250,000 km2, `per` < 10%\n",
    "\n",
    "covered species\n",
    "1. if geographic range < 1,000 km2, `per` = 100%\n",
    "2. if geographic range >= 250,000 km2, `per` > 10%\n",
    "\n",
    "in-between, partly gap species"
   ]
  },
  {
   "cell_type": "markdown",
   "metadata": {},
   "source": [
    "Questions of interest:\n",
    "1. Gaps. Proportions (discrete) of species range covered by protected, by taxonmy (e.g. classes)\n",
    "2. Relationship between the (a) size of species range and (b) protection percentage, by taxonmy\n",
    "3. Distribution of protection proportion, by taxonmy"
   ]
  },
  {
   "cell_type": "code",
   "execution_count": 86,
   "metadata": {},
   "outputs": [
    {
     "name": "stdout",
     "output_type": "stream",
     "text": [
      "['bmh', 'classic', 'dark_background', 'fast', 'fivethirtyeight', 'ggplot', 'grayscale', 'seaborn-bright', 'seaborn-colorblind', 'seaborn-dark-palette', 'seaborn-dark', 'seaborn-darkgrid', 'seaborn-deep', 'seaborn-muted', 'seaborn-notebook', 'seaborn-paper', 'seaborn-pastel', 'seaborn-poster', 'seaborn-talk', 'seaborn-ticks', 'seaborn-white', 'seaborn-whitegrid', 'seaborn', 'Solarize_Light2', '_classic_test']\n"
     ]
    }
   ],
   "source": [
    "import matplotlib.pyplot as plt\n",
    "\n",
    "# if seaborn not installed\n",
    "# !conda install -y seaborn\n",
    "\n",
    "plt.rcParams['figure.figsize'] = (10, 6)\n",
    "\n",
    "print(plt.style.available)\n",
    "\n",
    "plt.style.use('ggplot')\n",
    "\n",
    "%matplotlib inline"
   ]
  },
  {
   "cell_type": "markdown",
   "metadata": {},
   "source": [
    "**Prepare the data for plotting**\n",
    "1. add discrete levels to the percentage overlap\n",
    "2. add threatened flag"
   ]
  },
  {
   "cell_type": "markdown",
   "metadata": {},
   "source": [
    "Make the distribution discrete, i.e., to generate the *Rodrigues 2004* graph"
   ]
  },
  {
   "cell_type": "markdown",
   "metadata": {},
   "source": [
    "**The `find_target` function is a crude simplification that vastly under-estimate real world complexity**. At the moment, it is an linear intepolation between the two extreme cases, i.e., 1 for range size less than 1000 km2, and 0.1 for range size above 250,000 km2"
   ]
  },
  {
   "cell_type": "code",
   "execution_count": 87,
   "metadata": {},
   "outputs": [],
   "source": [
    "def threat(code):\n",
    "    if code in ['VU', 'EN', 'CR']:\n",
    "        return 'Threatened'\n",
    "    elif code == 'DD':\n",
    "        return 'Data deficient'\n",
    "    else:\n",
    "        return 'Not Threatened'\n",
    "\n",
    "def discrete_per(per):\n",
    "    if isinstance(per, float):\n",
    "        return int(np.ceil(per*10)*10)\n",
    "    elif isinstance(per, pd.Series):\n",
    "        return np.ceil(per*10).astype('int')*10\n",
    "\n",
    "    \n",
    "## find gaps\n",
    "def find_target(range_size):\n",
    "    # two defined targets\n",
    "    if range_size <= 1000:\n",
    "        target = 1.0\n",
    "    elif range_size >= 250_000:\n",
    "        target = 0.1\n",
    "\n",
    "    # interpolate function (linear)\n",
    "    else:\n",
    "        a, b = -3.614457831325301e-06, 1.0036144578313253\n",
    "        target = a*range_size + b \n",
    "    return target\n",
    "\n",
    "def gap_status(per, range_size):         \n",
    "    # if per == 0, gap\n",
    "    if per == 0:\n",
    "        return 'Gap'\n",
    "    else:\n",
    "        target = find_target(range_size)\n",
    "        # debug\n",
    "        # print(target)\n",
    "        if per >= target:\n",
    "            return 'Covered'\n",
    "        else:\n",
    "            return 'Partial gap'"
   ]
  },
  {
   "cell_type": "code",
   "execution_count": 88,
   "metadata": {},
   "outputs": [
    {
     "name": "stdout",
     "output_type": "stream",
     "text": [
      "all correct\n"
     ]
    }
   ],
   "source": [
    "# test it\n",
    "if gap_status(1, 1000) == 'Covered' and \\\n",
    "gap_status(0.89, 1000) == 'Partial gap' and \\\n",
    "gap_status(0.1, 250_000) == 'Covered' and \\\n",
    "gap_status(0.09, 250_000) == 'Partial gap' and \\\n",
    "gap_status(0.1, 300_000) == 'Covered' and \\\n",
    "gap_status(0, 10000) == 'Gap' and \\\n",
    "gap_status(0, 100) == 'Gap' and \\\n",
    "gap_status(1, 100) == 'Covered' and \\\n",
    "gap_status(1, 100) == 'Covered' and \\\n",
    "gap_status(0.5, 100_000) == 'Partial gap':\n",
    "    print('all correct')"
   ]
  },
  {
   "cell_type": "markdown",
   "metadata": {},
   "source": [
    "Vectorize for column calculation"
   ]
  },
  {
   "cell_type": "code",
   "execution_count": 89,
   "metadata": {},
   "outputs": [],
   "source": [
    "threat_vec = np.vectorize(threat)"
   ]
  },
  {
   "cell_type": "code",
   "execution_count": 90,
   "metadata": {},
   "outputs": [],
   "source": [
    "gap_status_vec = np.vectorize(gap_status)"
   ]
  },
  {
   "cell_type": "code",
   "execution_count": 182,
   "metadata": {},
   "outputs": [],
   "source": [
    "find_target_vec = np.vectorize(find_target)"
   ]
  },
  {
   "cell_type": "markdown",
   "metadata": {},
   "source": [
    "Add threat and gap columns"
   ]
  },
  {
   "cell_type": "markdown",
   "metadata": {},
   "source": [
    "`count` multiply by 100 (hexagon cell size) would return the range size."
   ]
  },
  {
   "cell_type": "code",
   "execution_count": 183,
   "metadata": {},
   "outputs": [],
   "source": [
    "species_result_attr['target'] = find_target_vec(species_result_attr['count'] * 100)\n",
    "species_result_attr['threaten'] = threat_vec(species_result_attr.code)\n",
    "species_result_attr['threaten'] = species_result_attr['threaten'].astype('category')\n",
    "\n",
    "# ordered categorical\n",
    "species_result_attr['code'] = species_result_attr.code.cat.set_categories(['DD', 'LC', 'NT', 'VU', 'EN', 'CR' ], ordered=True)\n",
    "\n",
    "# ordered categorical\n",
    "species_result_attr['gap_status'] = gap_status_vec(species_result_attr['per'], species_result_attr['count'] * 100)\n",
    "species_result_attr['gap_status'] = species_result_attr['gap_status'].astype('category', ordered=True, categories=['Gap', 'Partial gap', 'Covered'])\n",
    "\n",
    "# discrete for plotting\n",
    "species_result_attr['discrete_per'] = discrete_per(species_result_attr.per)\n",
    "species_result_attr['discrete_target'] = discrete_per(species_result_attr.target)"
   ]
  },
  {
   "cell_type": "code",
   "execution_count": 184,
   "metadata": {},
   "outputs": [
    {
     "data": {
      "text/html": [
       "<div>\n",
       "<style scoped>\n",
       "    .dataframe tbody tr th:only-of-type {\n",
       "        vertical-align: middle;\n",
       "    }\n",
       "\n",
       "    .dataframe tbody tr th {\n",
       "        vertical-align: top;\n",
       "    }\n",
       "\n",
       "    .dataframe thead th {\n",
       "        text-align: right;\n",
       "    }\n",
       "</style>\n",
       "<table border=\"1\" class=\"dataframe\">\n",
       "  <thead>\n",
       "    <tr style=\"text-align: right;\">\n",
       "      <th></th>\n",
       "      <th>count</th>\n",
       "      <th>count_protected</th>\n",
       "      <th>per</th>\n",
       "      <th>id_no</th>\n",
       "      <th>binomial</th>\n",
       "      <th>kingdom</th>\n",
       "      <th>phylum</th>\n",
       "      <th>class</th>\n",
       "      <th>order_</th>\n",
       "      <th>family</th>\n",
       "      <th>genus</th>\n",
       "      <th>code</th>\n",
       "      <th>biome_marine</th>\n",
       "      <th>biome_freshwater</th>\n",
       "      <th>biome_terrestrial</th>\n",
       "      <th>threaten</th>\n",
       "      <th>gap_status</th>\n",
       "      <th>discrete_per</th>\n",
       "      <th>target</th>\n",
       "    </tr>\n",
       "  </thead>\n",
       "  <tbody>\n",
       "    <tr>\n",
       "      <th>9913</th>\n",
       "      <td>2285</td>\n",
       "      <td>502.0</td>\n",
       "      <td>0.219694</td>\n",
       "      <td>137</td>\n",
       "      <td>Acerodon celebensis</td>\n",
       "      <td>ANIMALIA</td>\n",
       "      <td>CHORDATA</td>\n",
       "      <td>MAMMALIA</td>\n",
       "      <td>CHIROPTERA</td>\n",
       "      <td>PTEROPODIDAE</td>\n",
       "      <td>Acerodon</td>\n",
       "      <td>VU</td>\n",
       "      <td>f</td>\n",
       "      <td>f</td>\n",
       "      <td>t</td>\n",
       "      <td>Threatened</td>\n",
       "      <td>Covered</td>\n",
       "      <td>30</td>\n",
       "      <td>0.177711</td>\n",
       "    </tr>\n",
       "    <tr>\n",
       "      <th>9902</th>\n",
       "      <td>24</td>\n",
       "      <td>12.0</td>\n",
       "      <td>0.500000</td>\n",
       "      <td>138</td>\n",
       "      <td>Acerodon humilis</td>\n",
       "      <td>ANIMALIA</td>\n",
       "      <td>CHORDATA</td>\n",
       "      <td>MAMMALIA</td>\n",
       "      <td>CHIROPTERA</td>\n",
       "      <td>PTEROPODIDAE</td>\n",
       "      <td>Acerodon</td>\n",
       "      <td>EN</td>\n",
       "      <td>f</td>\n",
       "      <td>f</td>\n",
       "      <td>t</td>\n",
       "      <td>Threatened</td>\n",
       "      <td>Partial gap</td>\n",
       "      <td>50</td>\n",
       "      <td>0.994940</td>\n",
       "    </tr>\n",
       "    <tr>\n",
       "      <th>11984</th>\n",
       "      <td>2078</td>\n",
       "      <td>622.0</td>\n",
       "      <td>0.299326</td>\n",
       "      <td>139</td>\n",
       "      <td>Acerodon jubatus</td>\n",
       "      <td>ANIMALIA</td>\n",
       "      <td>CHORDATA</td>\n",
       "      <td>MAMMALIA</td>\n",
       "      <td>CHIROPTERA</td>\n",
       "      <td>PTEROPODIDAE</td>\n",
       "      <td>Acerodon</td>\n",
       "      <td>EN</td>\n",
       "      <td>f</td>\n",
       "      <td>f</td>\n",
       "      <td>t</td>\n",
       "      <td>Threatened</td>\n",
       "      <td>Covered</td>\n",
       "      <td>30</td>\n",
       "      <td>0.252530</td>\n",
       "    </tr>\n",
       "    <tr>\n",
       "      <th>7337</th>\n",
       "      <td>220</td>\n",
       "      <td>190.0</td>\n",
       "      <td>0.863636</td>\n",
       "      <td>140</td>\n",
       "      <td>Acerodon leucotis</td>\n",
       "      <td>ANIMALIA</td>\n",
       "      <td>CHORDATA</td>\n",
       "      <td>MAMMALIA</td>\n",
       "      <td>CHIROPTERA</td>\n",
       "      <td>PTEROPODIDAE</td>\n",
       "      <td>Acerodon</td>\n",
       "      <td>VU</td>\n",
       "      <td>f</td>\n",
       "      <td>f</td>\n",
       "      <td>t</td>\n",
       "      <td>Threatened</td>\n",
       "      <td>Partial gap</td>\n",
       "      <td>90</td>\n",
       "      <td>0.924096</td>\n",
       "    </tr>\n",
       "    <tr>\n",
       "      <th>13884</th>\n",
       "      <td>1053</td>\n",
       "      <td>372.0</td>\n",
       "      <td>0.353276</td>\n",
       "      <td>142</td>\n",
       "      <td>Acerodon mackloti</td>\n",
       "      <td>ANIMALIA</td>\n",
       "      <td>CHORDATA</td>\n",
       "      <td>MAMMALIA</td>\n",
       "      <td>CHIROPTERA</td>\n",
       "      <td>PTEROPODIDAE</td>\n",
       "      <td>Acerodon</td>\n",
       "      <td>VU</td>\n",
       "      <td>f</td>\n",
       "      <td>f</td>\n",
       "      <td>t</td>\n",
       "      <td>Threatened</td>\n",
       "      <td>Partial gap</td>\n",
       "      <td>40</td>\n",
       "      <td>0.623012</td>\n",
       "    </tr>\n",
       "  </tbody>\n",
       "</table>\n",
       "</div>"
      ],
      "text/plain": [
       "       count  count_protected       per  id_no             binomial   kingdom  \\\n",
       "9913    2285            502.0  0.219694    137  Acerodon celebensis  ANIMALIA   \n",
       "9902      24             12.0  0.500000    138     Acerodon humilis  ANIMALIA   \n",
       "11984   2078            622.0  0.299326    139     Acerodon jubatus  ANIMALIA   \n",
       "7337     220            190.0  0.863636    140    Acerodon leucotis  ANIMALIA   \n",
       "13884   1053            372.0  0.353276    142    Acerodon mackloti  ANIMALIA   \n",
       "\n",
       "         phylum     class      order_        family     genus code  \\\n",
       "9913   CHORDATA  MAMMALIA  CHIROPTERA  PTEROPODIDAE  Acerodon   VU   \n",
       "9902   CHORDATA  MAMMALIA  CHIROPTERA  PTEROPODIDAE  Acerodon   EN   \n",
       "11984  CHORDATA  MAMMALIA  CHIROPTERA  PTEROPODIDAE  Acerodon   EN   \n",
       "7337   CHORDATA  MAMMALIA  CHIROPTERA  PTEROPODIDAE  Acerodon   VU   \n",
       "13884  CHORDATA  MAMMALIA  CHIROPTERA  PTEROPODIDAE  Acerodon   VU   \n",
       "\n",
       "      biome_marine biome_freshwater biome_terrestrial    threaten  \\\n",
       "9913             f                f                 t  Threatened   \n",
       "9902             f                f                 t  Threatened   \n",
       "11984            f                f                 t  Threatened   \n",
       "7337             f                f                 t  Threatened   \n",
       "13884            f                f                 t  Threatened   \n",
       "\n",
       "        gap_status  discrete_per    target  \n",
       "9913       Covered            30  0.177711  \n",
       "9902   Partial gap            50  0.994940  \n",
       "11984      Covered            30  0.252530  \n",
       "7337   Partial gap            90  0.924096  \n",
       "13884  Partial gap            40  0.623012  "
      ]
     },
     "execution_count": 184,
     "metadata": {},
     "output_type": "execute_result"
    }
   ],
   "source": [
    "species_result_attr.head()"
   ]
  },
  {
   "cell_type": "markdown",
   "metadata": {},
   "source": [
    "The above function maps the numeric datatype percentage protection to a discrete range of values 0-100 (step 10). As is seen above, it uses a ceiling function, e.g. 1.2 will be mapped 20\n",
    "\n",
    "**In terms of intepretation, 20 means between 10%-20%, 100 means between 90%-100% (including 100%)**"
   ]
  },
  {
   "cell_type": "code",
   "execution_count": 97,
   "metadata": {},
   "outputs": [
    {
     "data": {
      "text/plain": [
       "array([[<matplotlib.axes._subplots.AxesSubplot object at 0x00000000095F3240>]], dtype=object)"
      ]
     },
     "execution_count": 97,
     "metadata": {},
     "output_type": "execute_result"
    },
    {
     "data": {
      "image/png": "[encoded data removed]",
      "text/plain": [
       "<matplotlib.figure.Figure at 0xb89d390>"
      ]
     },
     "metadata": {},
     "output_type": "display_data"
    }
   ],
   "source": [
    "species_result_attr.hist('discrete_per')"
   ]
  },
  {
   "cell_type": "code",
   "execution_count": 98,
   "metadata": {},
   "outputs": [],
   "source": [
    "overall_result = species_result_attr.pivot_table(values='id_no', \n",
    "                                columns='discrete_per', aggfunc=np.count_nonzero, fill_value=0)"
   ]
  },
  {
   "cell_type": "code",
   "execution_count": 99,
   "metadata": {},
   "outputs": [
    {
     "data": {
      "text/plain": [
       "<matplotlib.axes._subplots.AxesSubplot at 0x9ab2668>"
      ]
     },
     "execution_count": 99,
     "metadata": {},
     "output_type": "execute_result"
    },
    {
     "data": {
      "image/png": "[encoded data removed]",
      "text/plain": [
       "<matplotlib.figure.Figure at 0x96bad68>"
      ]
     },
     "metadata": {},
     "output_type": "display_data"
    }
   ],
   "source": [
    "overall_result.plot.barh(stacked=True, cmap='RdYlGn')"
   ]
  },
  {
   "cell_type": "code",
   "execution_count": 101,
   "metadata": {
    "scrolled": false
   },
   "outputs": [
    {
     "data": {
      "text/html": [
       "<div>\n",
       "<style scoped>\n",
       "    .dataframe tbody tr th:only-of-type {\n",
       "        vertical-align: middle;\n",
       "    }\n",
       "\n",
       "    .dataframe tbody tr th {\n",
       "        vertical-align: top;\n",
       "    }\n",
       "\n",
       "    .dataframe thead th {\n",
       "        text-align: right;\n",
       "    }\n",
       "</style>\n",
       "<table border=\"1\" class=\"dataframe\">\n",
       "  <thead>\n",
       "    <tr style=\"text-align: right;\">\n",
       "      <th></th>\n",
       "      <th>count</th>\n",
       "      <th>count_protected</th>\n",
       "      <th>per</th>\n",
       "      <th>id_no</th>\n",
       "      <th>binomial</th>\n",
       "      <th>kingdom</th>\n",
       "      <th>phylum</th>\n",
       "      <th>class</th>\n",
       "      <th>order_</th>\n",
       "      <th>family</th>\n",
       "      <th>genus</th>\n",
       "      <th>code</th>\n",
       "      <th>biome_marine</th>\n",
       "      <th>biome_freshwater</th>\n",
       "      <th>biome_terrestrial</th>\n",
       "      <th>threaten</th>\n",
       "      <th>gap_status</th>\n",
       "      <th>discrete_per</th>\n",
       "    </tr>\n",
       "  </thead>\n",
       "  <tbody>\n",
       "    <tr>\n",
       "      <th>9913</th>\n",
       "      <td>2285</td>\n",
       "      <td>502.0</td>\n",
       "      <td>0.219694</td>\n",
       "      <td>137</td>\n",
       "      <td>Acerodon celebensis</td>\n",
       "      <td>ANIMALIA</td>\n",
       "      <td>CHORDATA</td>\n",
       "      <td>MAMMALIA</td>\n",
       "      <td>CHIROPTERA</td>\n",
       "      <td>PTEROPODIDAE</td>\n",
       "      <td>Acerodon</td>\n",
       "      <td>VU</td>\n",
       "      <td>f</td>\n",
       "      <td>f</td>\n",
       "      <td>t</td>\n",
       "      <td>Threatened</td>\n",
       "      <td>Covered</td>\n",
       "      <td>30</td>\n",
       "    </tr>\n",
       "    <tr>\n",
       "      <th>9902</th>\n",
       "      <td>24</td>\n",
       "      <td>12.0</td>\n",
       "      <td>0.500000</td>\n",
       "      <td>138</td>\n",
       "      <td>Acerodon humilis</td>\n",
       "      <td>ANIMALIA</td>\n",
       "      <td>CHORDATA</td>\n",
       "      <td>MAMMALIA</td>\n",
       "      <td>CHIROPTERA</td>\n",
       "      <td>PTEROPODIDAE</td>\n",
       "      <td>Acerodon</td>\n",
       "      <td>EN</td>\n",
       "      <td>f</td>\n",
       "      <td>f</td>\n",
       "      <td>t</td>\n",
       "      <td>Threatened</td>\n",
       "      <td>Partial gap</td>\n",
       "      <td>50</td>\n",
       "    </tr>\n",
       "    <tr>\n",
       "      <th>11984</th>\n",
       "      <td>2078</td>\n",
       "      <td>622.0</td>\n",
       "      <td>0.299326</td>\n",
       "      <td>139</td>\n",
       "      <td>Acerodon jubatus</td>\n",
       "      <td>ANIMALIA</td>\n",
       "      <td>CHORDATA</td>\n",
       "      <td>MAMMALIA</td>\n",
       "      <td>CHIROPTERA</td>\n",
       "      <td>PTEROPODIDAE</td>\n",
       "      <td>Acerodon</td>\n",
       "      <td>EN</td>\n",
       "      <td>f</td>\n",
       "      <td>f</td>\n",
       "      <td>t</td>\n",
       "      <td>Threatened</td>\n",
       "      <td>Covered</td>\n",
       "      <td>30</td>\n",
       "    </tr>\n",
       "    <tr>\n",
       "      <th>7337</th>\n",
       "      <td>220</td>\n",
       "      <td>190.0</td>\n",
       "      <td>0.863636</td>\n",
       "      <td>140</td>\n",
       "      <td>Acerodon leucotis</td>\n",
       "      <td>ANIMALIA</td>\n",
       "      <td>CHORDATA</td>\n",
       "      <td>MAMMALIA</td>\n",
       "      <td>CHIROPTERA</td>\n",
       "      <td>PTEROPODIDAE</td>\n",
       "      <td>Acerodon</td>\n",
       "      <td>VU</td>\n",
       "      <td>f</td>\n",
       "      <td>f</td>\n",
       "      <td>t</td>\n",
       "      <td>Threatened</td>\n",
       "      <td>Partial gap</td>\n",
       "      <td>90</td>\n",
       "    </tr>\n",
       "    <tr>\n",
       "      <th>13884</th>\n",
       "      <td>1053</td>\n",
       "      <td>372.0</td>\n",
       "      <td>0.353276</td>\n",
       "      <td>142</td>\n",
       "      <td>Acerodon mackloti</td>\n",
       "      <td>ANIMALIA</td>\n",
       "      <td>CHORDATA</td>\n",
       "      <td>MAMMALIA</td>\n",
       "      <td>CHIROPTERA</td>\n",
       "      <td>PTEROPODIDAE</td>\n",
       "      <td>Acerodon</td>\n",
       "      <td>VU</td>\n",
       "      <td>f</td>\n",
       "      <td>f</td>\n",
       "      <td>t</td>\n",
       "      <td>Threatened</td>\n",
       "      <td>Partial gap</td>\n",
       "      <td>40</td>\n",
       "    </tr>\n",
       "  </tbody>\n",
       "</table>\n",
       "</div>"
      ],
      "text/plain": [
       "       count  count_protected       per  id_no             binomial   kingdom  \\\n",
       "9913    2285            502.0  0.219694    137  Acerodon celebensis  ANIMALIA   \n",
       "9902      24             12.0  0.500000    138     Acerodon humilis  ANIMALIA   \n",
       "11984   2078            622.0  0.299326    139     Acerodon jubatus  ANIMALIA   \n",
       "7337     220            190.0  0.863636    140    Acerodon leucotis  ANIMALIA   \n",
       "13884   1053            372.0  0.353276    142    Acerodon mackloti  ANIMALIA   \n",
       "\n",
       "         phylum     class      order_        family     genus code  \\\n",
       "9913   CHORDATA  MAMMALIA  CHIROPTERA  PTEROPODIDAE  Acerodon   VU   \n",
       "9902   CHORDATA  MAMMALIA  CHIROPTERA  PTEROPODIDAE  Acerodon   EN   \n",
       "11984  CHORDATA  MAMMALIA  CHIROPTERA  PTEROPODIDAE  Acerodon   EN   \n",
       "7337   CHORDATA  MAMMALIA  CHIROPTERA  PTEROPODIDAE  Acerodon   VU   \n",
       "13884  CHORDATA  MAMMALIA  CHIROPTERA  PTEROPODIDAE  Acerodon   VU   \n",
       "\n",
       "      biome_marine biome_freshwater biome_terrestrial    threaten  \\\n",
       "9913             f                f                 t  Threatened   \n",
       "9902             f                f                 t  Threatened   \n",
       "11984            f                f                 t  Threatened   \n",
       "7337             f                f                 t  Threatened   \n",
       "13884            f                f                 t  Threatened   \n",
       "\n",
       "        gap_status  discrete_per  \n",
       "9913       Covered            30  \n",
       "9902   Partial gap            50  \n",
       "11984      Covered            30  \n",
       "7337   Partial gap            90  \n",
       "13884  Partial gap            40  "
      ]
     },
     "execution_count": 101,
     "metadata": {},
     "output_type": "execute_result"
    }
   ],
   "source": [
    "species_result_attr.head()"
   ]
  },
  {
   "cell_type": "code",
   "execution_count": 145,
   "metadata": {},
   "outputs": [
    {
     "data": {
      "text/html": [
       "<div>\n",
       "<style scoped>\n",
       "    .dataframe tbody tr th:only-of-type {\n",
       "        vertical-align: middle;\n",
       "    }\n",
       "\n",
       "    .dataframe tbody tr th {\n",
       "        vertical-align: top;\n",
       "    }\n",
       "\n",
       "    .dataframe thead th {\n",
       "        text-align: right;\n",
       "    }\n",
       "</style>\n",
       "<table border=\"1\" class=\"dataframe\">\n",
       "  <thead>\n",
       "    <tr style=\"text-align: right;\">\n",
       "      <th>gap_status</th>\n",
       "      <th>Gap</th>\n",
       "      <th>Partial gap</th>\n",
       "      <th>Covered</th>\n",
       "      <th>All</th>\n",
       "    </tr>\n",
       "    <tr>\n",
       "      <th>code</th>\n",
       "      <th></th>\n",
       "      <th></th>\n",
       "      <th></th>\n",
       "      <th></th>\n",
       "    </tr>\n",
       "  </thead>\n",
       "  <tbody>\n",
       "    <tr>\n",
       "      <th>DD</th>\n",
       "      <td>9</td>\n",
       "      <td>43</td>\n",
       "      <td>30</td>\n",
       "      <td>82</td>\n",
       "    </tr>\n",
       "    <tr>\n",
       "      <th>LC</th>\n",
       "      <td>4</td>\n",
       "      <td>334</td>\n",
       "      <td>1533</td>\n",
       "      <td>1871</td>\n",
       "    </tr>\n",
       "    <tr>\n",
       "      <th>NT</th>\n",
       "      <td>4</td>\n",
       "      <td>143</td>\n",
       "      <td>194</td>\n",
       "      <td>341</td>\n",
       "    </tr>\n",
       "    <tr>\n",
       "      <th>VU</th>\n",
       "      <td>7</td>\n",
       "      <td>279</td>\n",
       "      <td>177</td>\n",
       "      <td>463</td>\n",
       "    </tr>\n",
       "    <tr>\n",
       "      <th>EN</th>\n",
       "      <td>21</td>\n",
       "      <td>202</td>\n",
       "      <td>96</td>\n",
       "      <td>319</td>\n",
       "    </tr>\n",
       "    <tr>\n",
       "      <th>CR</th>\n",
       "      <td>21</td>\n",
       "      <td>97</td>\n",
       "      <td>42</td>\n",
       "      <td>160</td>\n",
       "    </tr>\n",
       "    <tr>\n",
       "      <th>All</th>\n",
       "      <td>66</td>\n",
       "      <td>1098</td>\n",
       "      <td>2072</td>\n",
       "      <td>3236</td>\n",
       "    </tr>\n",
       "  </tbody>\n",
       "</table>\n",
       "</div>"
      ],
      "text/plain": [
       "gap_status  Gap  Partial gap  Covered   All\n",
       "code                                       \n",
       "DD            9           43       30    82\n",
       "LC            4          334     1533  1871\n",
       "NT            4          143      194   341\n",
       "VU            7          279      177   463\n",
       "EN           21          202       96   319\n",
       "CR           21           97       42   160\n",
       "All          66         1098     2072  3236"
      ]
     },
     "execution_count": 145,
     "metadata": {},
     "output_type": "execute_result"
    }
   ],
   "source": [
    "a = species_result_attr[species_result_attr.biome_terrestrial=='t']\n",
    "a.pivot_table(columns='gap_status', index='code', values='id_no',aggfunc=np.count_nonzero, fill_value=0, margins=True)\n"
   ]
  },
  {
   "cell_type": "code",
   "execution_count": 156,
   "metadata": {},
   "outputs": [],
   "source": [
    "def gap_table_mk2(df, index='class', columns='discrete_per'):\n",
    "    # df: the filtered 'species_result_attr'\n",
    "    return df.pivot_table(index=index, values='id_no', \n",
    "                                columns=columns, aggfunc=np.count_nonzero, fill_value=0, margins=True)\n",
    "\n",
    "def gap_table_normalise_mk2(df, index='class', columns='discrete_per'):\n",
    "    return pd.crosstab(df[index], df[columns],\n",
    "            values='id_no', aggfunc=np.count_nonzero, normalize='index')"
   ]
  },
  {
   "cell_type": "code",
   "execution_count": 100,
   "metadata": {},
   "outputs": [],
   "source": [
    "def gap_table(df):\n",
    "    # df: the filtered 'species_result_attr'\n",
    "    return df.pivot_table(index='class', values='id_no', \n",
    "                                columns='discrete_per', aggfunc=np.count_nonzero, fill_value=0, margins=True)\n",
    "\n",
    "def gap_table_normalise(df):\n",
    "    return pd.crosstab(df['class'], df['discrete_per'],\n",
    "            values='id_no', aggfunc=np.count_nonzero, normalize='index')"
   ]
  },
  {
   "cell_type": "code",
   "execution_count": 102,
   "metadata": {},
   "outputs": [
    {
     "data": {
      "text/html": [
       "<div>\n",
       "<style scoped>\n",
       "    .dataframe tbody tr th:only-of-type {\n",
       "        vertical-align: middle;\n",
       "    }\n",
       "\n",
       "    .dataframe tbody tr th {\n",
       "        vertical-align: top;\n",
       "    }\n",
       "\n",
       "    .dataframe thead th {\n",
       "        text-align: right;\n",
       "    }\n",
       "</style>\n",
       "<table border=\"1\" class=\"dataframe\">\n",
       "  <thead>\n",
       "    <tr style=\"text-align: right;\">\n",
       "      <th>discrete_per</th>\n",
       "      <th>0</th>\n",
       "      <th>10</th>\n",
       "      <th>20</th>\n",
       "      <th>30</th>\n",
       "      <th>40</th>\n",
       "      <th>50</th>\n",
       "      <th>60</th>\n",
       "      <th>70</th>\n",
       "      <th>80</th>\n",
       "      <th>90</th>\n",
       "      <th>100</th>\n",
       "      <th>All</th>\n",
       "    </tr>\n",
       "    <tr>\n",
       "      <th>class</th>\n",
       "      <th></th>\n",
       "      <th></th>\n",
       "      <th></th>\n",
       "      <th></th>\n",
       "      <th></th>\n",
       "      <th></th>\n",
       "      <th></th>\n",
       "      <th></th>\n",
       "      <th></th>\n",
       "      <th></th>\n",
       "      <th></th>\n",
       "      <th></th>\n",
       "    </tr>\n",
       "  </thead>\n",
       "  <tbody>\n",
       "    <tr>\n",
       "      <th>ACTINOPTERYGII</th>\n",
       "      <td>98</td>\n",
       "      <td>696</td>\n",
       "      <td>1577</td>\n",
       "      <td>716</td>\n",
       "      <td>298</td>\n",
       "      <td>156</td>\n",
       "      <td>71</td>\n",
       "      <td>48</td>\n",
       "      <td>29</td>\n",
       "      <td>36</td>\n",
       "      <td>57</td>\n",
       "      <td>3782</td>\n",
       "    </tr>\n",
       "    <tr>\n",
       "      <th>AGARICOMYCETES</th>\n",
       "      <td>0</td>\n",
       "      <td>0</td>\n",
       "      <td>0</td>\n",
       "      <td>0</td>\n",
       "      <td>1</td>\n",
       "      <td>1</td>\n",
       "      <td>0</td>\n",
       "      <td>0</td>\n",
       "      <td>2</td>\n",
       "      <td>3</td>\n",
       "      <td>1</td>\n",
       "      <td>8</td>\n",
       "    </tr>\n",
       "    <tr>\n",
       "      <th>AMPHIBIA</th>\n",
       "      <td>3</td>\n",
       "      <td>19</td>\n",
       "      <td>59</td>\n",
       "      <td>58</td>\n",
       "      <td>36</td>\n",
       "      <td>26</td>\n",
       "      <td>9</td>\n",
       "      <td>6</td>\n",
       "      <td>8</td>\n",
       "      <td>5</td>\n",
       "      <td>9</td>\n",
       "      <td>238</td>\n",
       "    </tr>\n",
       "    <tr>\n",
       "      <th>AVES</th>\n",
       "      <td>30</td>\n",
       "      <td>122</td>\n",
       "      <td>434</td>\n",
       "      <td>458</td>\n",
       "      <td>245</td>\n",
       "      <td>123</td>\n",
       "      <td>64</td>\n",
       "      <td>22</td>\n",
       "      <td>31</td>\n",
       "      <td>18</td>\n",
       "      <td>41</td>\n",
       "      <td>1588</td>\n",
       "    </tr>\n",
       "    <tr>\n",
       "      <th>BIVALVIA</th>\n",
       "      <td>1</td>\n",
       "      <td>3</td>\n",
       "      <td>24</td>\n",
       "      <td>22</td>\n",
       "      <td>13</td>\n",
       "      <td>2</td>\n",
       "      <td>0</td>\n",
       "      <td>0</td>\n",
       "      <td>0</td>\n",
       "      <td>1</td>\n",
       "      <td>1</td>\n",
       "      <td>67</td>\n",
       "    </tr>\n",
       "    <tr>\n",
       "      <th>CEPHALASPIDOMORPHI</th>\n",
       "      <td>0</td>\n",
       "      <td>0</td>\n",
       "      <td>1</td>\n",
       "      <td>1</td>\n",
       "      <td>0</td>\n",
       "      <td>0</td>\n",
       "      <td>0</td>\n",
       "      <td>1</td>\n",
       "      <td>0</td>\n",
       "      <td>1</td>\n",
       "      <td>0</td>\n",
       "      <td>4</td>\n",
       "    </tr>\n",
       "    <tr>\n",
       "      <th>CHONDRICHTHYES</th>\n",
       "      <td>2</td>\n",
       "      <td>65</td>\n",
       "      <td>105</td>\n",
       "      <td>70</td>\n",
       "      <td>23</td>\n",
       "      <td>14</td>\n",
       "      <td>2</td>\n",
       "      <td>1</td>\n",
       "      <td>2</td>\n",
       "      <td>1</td>\n",
       "      <td>0</td>\n",
       "      <td>285</td>\n",
       "    </tr>\n",
       "    <tr>\n",
       "      <th>CLITELLATA</th>\n",
       "      <td>0</td>\n",
       "      <td>0</td>\n",
       "      <td>0</td>\n",
       "      <td>0</td>\n",
       "      <td>0</td>\n",
       "      <td>0</td>\n",
       "      <td>0</td>\n",
       "      <td>0</td>\n",
       "      <td>0</td>\n",
       "      <td>0</td>\n",
       "      <td>2</td>\n",
       "      <td>2</td>\n",
       "    </tr>\n",
       "    <tr>\n",
       "      <th>GASTROPODA</th>\n",
       "      <td>2</td>\n",
       "      <td>1</td>\n",
       "      <td>16</td>\n",
       "      <td>17</td>\n",
       "      <td>7</td>\n",
       "      <td>5</td>\n",
       "      <td>1</td>\n",
       "      <td>3</td>\n",
       "      <td>9</td>\n",
       "      <td>5</td>\n",
       "      <td>6</td>\n",
       "      <td>72</td>\n",
       "    </tr>\n",
       "    <tr>\n",
       "      <th>HOLOTHUROIDEA</th>\n",
       "      <td>0</td>\n",
       "      <td>6</td>\n",
       "      <td>53</td>\n",
       "      <td>8</td>\n",
       "      <td>3</td>\n",
       "      <td>3</td>\n",
       "      <td>0</td>\n",
       "      <td>0</td>\n",
       "      <td>1</td>\n",
       "      <td>0</td>\n",
       "      <td>1</td>\n",
       "      <td>75</td>\n",
       "    </tr>\n",
       "    <tr>\n",
       "      <th>LILIOPSIDA</th>\n",
       "      <td>0</td>\n",
       "      <td>10</td>\n",
       "      <td>10</td>\n",
       "      <td>23</td>\n",
       "      <td>14</td>\n",
       "      <td>8</td>\n",
       "      <td>7</td>\n",
       "      <td>5</td>\n",
       "      <td>8</td>\n",
       "      <td>6</td>\n",
       "      <td>1</td>\n",
       "      <td>92</td>\n",
       "    </tr>\n",
       "    <tr>\n",
       "      <th>MAGNOLIOPSIDA</th>\n",
       "      <td>3</td>\n",
       "      <td>9</td>\n",
       "      <td>18</td>\n",
       "      <td>28</td>\n",
       "      <td>13</td>\n",
       "      <td>7</td>\n",
       "      <td>10</td>\n",
       "      <td>7</td>\n",
       "      <td>14</td>\n",
       "      <td>17</td>\n",
       "      <td>12</td>\n",
       "      <td>138</td>\n",
       "    </tr>\n",
       "    <tr>\n",
       "      <th>MALACOSTRACA</th>\n",
       "      <td>10</td>\n",
       "      <td>35</td>\n",
       "      <td>53</td>\n",
       "      <td>48</td>\n",
       "      <td>40</td>\n",
       "      <td>16</td>\n",
       "      <td>9</td>\n",
       "      <td>6</td>\n",
       "      <td>7</td>\n",
       "      <td>2</td>\n",
       "      <td>5</td>\n",
       "      <td>231</td>\n",
       "    </tr>\n",
       "    <tr>\n",
       "      <th>MAMMALIA</th>\n",
       "      <td>32</td>\n",
       "      <td>113</td>\n",
       "      <td>232</td>\n",
       "      <td>333</td>\n",
       "      <td>173</td>\n",
       "      <td>117</td>\n",
       "      <td>60</td>\n",
       "      <td>45</td>\n",
       "      <td>20</td>\n",
       "      <td>23</td>\n",
       "      <td>24</td>\n",
       "      <td>1172</td>\n",
       "    </tr>\n",
       "    <tr>\n",
       "      <th>MYXINI</th>\n",
       "      <td>0</td>\n",
       "      <td>2</td>\n",
       "      <td>2</td>\n",
       "      <td>0</td>\n",
       "      <td>0</td>\n",
       "      <td>0</td>\n",
       "      <td>0</td>\n",
       "      <td>0</td>\n",
       "      <td>0</td>\n",
       "      <td>0</td>\n",
       "      <td>0</td>\n",
       "      <td>4</td>\n",
       "    </tr>\n",
       "    <tr>\n",
       "      <th>PINOPSIDA</th>\n",
       "      <td>0</td>\n",
       "      <td>0</td>\n",
       "      <td>0</td>\n",
       "      <td>0</td>\n",
       "      <td>0</td>\n",
       "      <td>0</td>\n",
       "      <td>0</td>\n",
       "      <td>0</td>\n",
       "      <td>0</td>\n",
       "      <td>1</td>\n",
       "      <td>0</td>\n",
       "      <td>1</td>\n",
       "    </tr>\n",
       "    <tr>\n",
       "      <th>POLYPODIOPSIDA</th>\n",
       "      <td>0</td>\n",
       "      <td>2</td>\n",
       "      <td>1</td>\n",
       "      <td>1</td>\n",
       "      <td>0</td>\n",
       "      <td>0</td>\n",
       "      <td>1</td>\n",
       "      <td>0</td>\n",
       "      <td>0</td>\n",
       "      <td>0</td>\n",
       "      <td>0</td>\n",
       "      <td>5</td>\n",
       "    </tr>\n",
       "    <tr>\n",
       "      <th>REPTILIA</th>\n",
       "      <td>0</td>\n",
       "      <td>13</td>\n",
       "      <td>27</td>\n",
       "      <td>25</td>\n",
       "      <td>13</td>\n",
       "      <td>9</td>\n",
       "      <td>4</td>\n",
       "      <td>0</td>\n",
       "      <td>1</td>\n",
       "      <td>1</td>\n",
       "      <td>4</td>\n",
       "      <td>97</td>\n",
       "    </tr>\n",
       "    <tr>\n",
       "      <th>SARCOPTERYGII</th>\n",
       "      <td>0</td>\n",
       "      <td>0</td>\n",
       "      <td>2</td>\n",
       "      <td>3</td>\n",
       "      <td>1</td>\n",
       "      <td>0</td>\n",
       "      <td>0</td>\n",
       "      <td>0</td>\n",
       "      <td>0</td>\n",
       "      <td>0</td>\n",
       "      <td>0</td>\n",
       "      <td>6</td>\n",
       "    </tr>\n",
       "    <tr>\n",
       "      <th>All</th>\n",
       "      <td>181</td>\n",
       "      <td>1096</td>\n",
       "      <td>2614</td>\n",
       "      <td>1811</td>\n",
       "      <td>880</td>\n",
       "      <td>487</td>\n",
       "      <td>238</td>\n",
       "      <td>144</td>\n",
       "      <td>132</td>\n",
       "      <td>120</td>\n",
       "      <td>164</td>\n",
       "      <td>7867</td>\n",
       "    </tr>\n",
       "  </tbody>\n",
       "</table>\n",
       "</div>"
      ],
      "text/plain": [
       "discrete_per          0    10    20    30   40   50   60   70   80   90  100  \\\n",
       "class                                                                          \n",
       "ACTINOPTERYGII       98   696  1577   716  298  156   71   48   29   36   57   \n",
       "AGARICOMYCETES        0     0     0     0    1    1    0    0    2    3    1   \n",
       "AMPHIBIA              3    19    59    58   36   26    9    6    8    5    9   \n",
       "AVES                 30   122   434   458  245  123   64   22   31   18   41   \n",
       "BIVALVIA              1     3    24    22   13    2    0    0    0    1    1   \n",
       "CEPHALASPIDOMORPHI    0     0     1     1    0    0    0    1    0    1    0   \n",
       "CHONDRICHTHYES        2    65   105    70   23   14    2    1    2    1    0   \n",
       "CLITELLATA            0     0     0     0    0    0    0    0    0    0    2   \n",
       "GASTROPODA            2     1    16    17    7    5    1    3    9    5    6   \n",
       "HOLOTHUROIDEA         0     6    53     8    3    3    0    0    1    0    1   \n",
       "LILIOPSIDA            0    10    10    23   14    8    7    5    8    6    1   \n",
       "MAGNOLIOPSIDA         3     9    18    28   13    7   10    7   14   17   12   \n",
       "MALACOSTRACA         10    35    53    48   40   16    9    6    7    2    5   \n",
       "MAMMALIA             32   113   232   333  173  117   60   45   20   23   24   \n",
       "MYXINI                0     2     2     0    0    0    0    0    0    0    0   \n",
       "PINOPSIDA             0     0     0     0    0    0    0    0    0    1    0   \n",
       "POLYPODIOPSIDA        0     2     1     1    0    0    1    0    0    0    0   \n",
       "REPTILIA              0    13    27    25   13    9    4    0    1    1    4   \n",
       "SARCOPTERYGII         0     0     2     3    1    0    0    0    0    0    0   \n",
       "All                 181  1096  2614  1811  880  487  238  144  132  120  164   \n",
       "\n",
       "discrete_per         All  \n",
       "class                     \n",
       "ACTINOPTERYGII      3782  \n",
       "AGARICOMYCETES         8  \n",
       "AMPHIBIA             238  \n",
       "AVES                1588  \n",
       "BIVALVIA              67  \n",
       "CEPHALASPIDOMORPHI     4  \n",
       "CHONDRICHTHYES       285  \n",
       "CLITELLATA             2  \n",
       "GASTROPODA            72  \n",
       "HOLOTHUROIDEA         75  \n",
       "LILIOPSIDA            92  \n",
       "MAGNOLIOPSIDA        138  \n",
       "MALACOSTRACA         231  \n",
       "MAMMALIA            1172  \n",
       "MYXINI                 4  \n",
       "PINOPSIDA              1  \n",
       "POLYPODIOPSIDA         5  \n",
       "REPTILIA              97  \n",
       "SARCOPTERYGII          6  \n",
       "All                 7867  "
      ]
     },
     "execution_count": 102,
     "metadata": {},
     "output_type": "execute_result"
    }
   ],
   "source": [
    "gap_table(species_result_attr)"
   ]
  },
  {
   "cell_type": "code",
   "execution_count": 103,
   "metadata": {},
   "outputs": [
    {
     "data": {
      "text/html": [
       "<div>\n",
       "<style scoped>\n",
       "    .dataframe tbody tr th:only-of-type {\n",
       "        vertical-align: middle;\n",
       "    }\n",
       "\n",
       "    .dataframe tbody tr th {\n",
       "        vertical-align: top;\n",
       "    }\n",
       "\n",
       "    .dataframe thead th {\n",
       "        text-align: right;\n",
       "    }\n",
       "</style>\n",
       "<table border=\"1\" class=\"dataframe\">\n",
       "  <thead>\n",
       "    <tr style=\"text-align: right;\">\n",
       "      <th>discrete_per</th>\n",
       "      <th>0</th>\n",
       "      <th>10</th>\n",
       "      <th>20</th>\n",
       "      <th>30</th>\n",
       "      <th>40</th>\n",
       "      <th>50</th>\n",
       "      <th>60</th>\n",
       "      <th>70</th>\n",
       "      <th>80</th>\n",
       "      <th>90</th>\n",
       "      <th>100</th>\n",
       "    </tr>\n",
       "    <tr>\n",
       "      <th>class</th>\n",
       "      <th></th>\n",
       "      <th></th>\n",
       "      <th></th>\n",
       "      <th></th>\n",
       "      <th></th>\n",
       "      <th></th>\n",
       "      <th></th>\n",
       "      <th></th>\n",
       "      <th></th>\n",
       "      <th></th>\n",
       "      <th></th>\n",
       "    </tr>\n",
       "  </thead>\n",
       "  <tbody>\n",
       "    <tr>\n",
       "      <th>ACTINOPTERYGII</th>\n",
       "      <td>0.025912</td>\n",
       "      <td>0.184030</td>\n",
       "      <td>0.416975</td>\n",
       "      <td>0.189318</td>\n",
       "      <td>0.078794</td>\n",
       "      <td>0.041248</td>\n",
       "      <td>0.018773</td>\n",
       "      <td>0.012692</td>\n",
       "      <td>0.007668</td>\n",
       "      <td>0.009519</td>\n",
       "      <td>0.015071</td>\n",
       "    </tr>\n",
       "    <tr>\n",
       "      <th>AGARICOMYCETES</th>\n",
       "      <td>0.000000</td>\n",
       "      <td>0.000000</td>\n",
       "      <td>0.000000</td>\n",
       "      <td>0.000000</td>\n",
       "      <td>0.125000</td>\n",
       "      <td>0.125000</td>\n",
       "      <td>0.000000</td>\n",
       "      <td>0.000000</td>\n",
       "      <td>0.250000</td>\n",
       "      <td>0.375000</td>\n",
       "      <td>0.125000</td>\n",
       "    </tr>\n",
       "    <tr>\n",
       "      <th>AMPHIBIA</th>\n",
       "      <td>0.012605</td>\n",
       "      <td>0.079832</td>\n",
       "      <td>0.247899</td>\n",
       "      <td>0.243697</td>\n",
       "      <td>0.151261</td>\n",
       "      <td>0.109244</td>\n",
       "      <td>0.037815</td>\n",
       "      <td>0.025210</td>\n",
       "      <td>0.033613</td>\n",
       "      <td>0.021008</td>\n",
       "      <td>0.037815</td>\n",
       "    </tr>\n",
       "    <tr>\n",
       "      <th>AVES</th>\n",
       "      <td>0.018892</td>\n",
       "      <td>0.076826</td>\n",
       "      <td>0.273300</td>\n",
       "      <td>0.288413</td>\n",
       "      <td>0.154282</td>\n",
       "      <td>0.077456</td>\n",
       "      <td>0.040302</td>\n",
       "      <td>0.013854</td>\n",
       "      <td>0.019521</td>\n",
       "      <td>0.011335</td>\n",
       "      <td>0.025819</td>\n",
       "    </tr>\n",
       "    <tr>\n",
       "      <th>BIVALVIA</th>\n",
       "      <td>0.014925</td>\n",
       "      <td>0.044776</td>\n",
       "      <td>0.358209</td>\n",
       "      <td>0.328358</td>\n",
       "      <td>0.194030</td>\n",
       "      <td>0.029851</td>\n",
       "      <td>0.000000</td>\n",
       "      <td>0.000000</td>\n",
       "      <td>0.000000</td>\n",
       "      <td>0.014925</td>\n",
       "      <td>0.014925</td>\n",
       "    </tr>\n",
       "    <tr>\n",
       "      <th>CEPHALASPIDOMORPHI</th>\n",
       "      <td>0.000000</td>\n",
       "      <td>0.000000</td>\n",
       "      <td>0.250000</td>\n",
       "      <td>0.250000</td>\n",
       "      <td>0.000000</td>\n",
       "      <td>0.000000</td>\n",
       "      <td>0.000000</td>\n",
       "      <td>0.250000</td>\n",
       "      <td>0.000000</td>\n",
       "      <td>0.250000</td>\n",
       "      <td>0.000000</td>\n",
       "    </tr>\n",
       "    <tr>\n",
       "      <th>CHONDRICHTHYES</th>\n",
       "      <td>0.007018</td>\n",
       "      <td>0.228070</td>\n",
       "      <td>0.368421</td>\n",
       "      <td>0.245614</td>\n",
       "      <td>0.080702</td>\n",
       "      <td>0.049123</td>\n",
       "      <td>0.007018</td>\n",
       "      <td>0.003509</td>\n",
       "      <td>0.007018</td>\n",
       "      <td>0.003509</td>\n",
       "      <td>0.000000</td>\n",
       "    </tr>\n",
       "    <tr>\n",
       "      <th>CLITELLATA</th>\n",
       "      <td>0.000000</td>\n",
       "      <td>0.000000</td>\n",
       "      <td>0.000000</td>\n",
       "      <td>0.000000</td>\n",
       "      <td>0.000000</td>\n",
       "      <td>0.000000</td>\n",
       "      <td>0.000000</td>\n",
       "      <td>0.000000</td>\n",
       "      <td>0.000000</td>\n",
       "      <td>0.000000</td>\n",
       "      <td>1.000000</td>\n",
       "    </tr>\n",
       "    <tr>\n",
       "      <th>GASTROPODA</th>\n",
       "      <td>0.027778</td>\n",
       "      <td>0.013889</td>\n",
       "      <td>0.222222</td>\n",
       "      <td>0.236111</td>\n",
       "      <td>0.097222</td>\n",
       "      <td>0.069444</td>\n",
       "      <td>0.013889</td>\n",
       "      <td>0.041667</td>\n",
       "      <td>0.125000</td>\n",
       "      <td>0.069444</td>\n",
       "      <td>0.083333</td>\n",
       "    </tr>\n",
       "    <tr>\n",
       "      <th>HOLOTHUROIDEA</th>\n",
       "      <td>0.000000</td>\n",
       "      <td>0.080000</td>\n",
       "      <td>0.706667</td>\n",
       "      <td>0.106667</td>\n",
       "      <td>0.040000</td>\n",
       "      <td>0.040000</td>\n",
       "      <td>0.000000</td>\n",
       "      <td>0.000000</td>\n",
       "      <td>0.013333</td>\n",
       "      <td>0.000000</td>\n",
       "      <td>0.013333</td>\n",
       "    </tr>\n",
       "    <tr>\n",
       "      <th>LILIOPSIDA</th>\n",
       "      <td>0.000000</td>\n",
       "      <td>0.108696</td>\n",
       "      <td>0.108696</td>\n",
       "      <td>0.250000</td>\n",
       "      <td>0.152174</td>\n",
       "      <td>0.086957</td>\n",
       "      <td>0.076087</td>\n",
       "      <td>0.054348</td>\n",
       "      <td>0.086957</td>\n",
       "      <td>0.065217</td>\n",
       "      <td>0.010870</td>\n",
       "    </tr>\n",
       "    <tr>\n",
       "      <th>MAGNOLIOPSIDA</th>\n",
       "      <td>0.021739</td>\n",
       "      <td>0.065217</td>\n",
       "      <td>0.130435</td>\n",
       "      <td>0.202899</td>\n",
       "      <td>0.094203</td>\n",
       "      <td>0.050725</td>\n",
       "      <td>0.072464</td>\n",
       "      <td>0.050725</td>\n",
       "      <td>0.101449</td>\n",
       "      <td>0.123188</td>\n",
       "      <td>0.086957</td>\n",
       "    </tr>\n",
       "    <tr>\n",
       "      <th>MALACOSTRACA</th>\n",
       "      <td>0.043290</td>\n",
       "      <td>0.151515</td>\n",
       "      <td>0.229437</td>\n",
       "      <td>0.207792</td>\n",
       "      <td>0.173160</td>\n",
       "      <td>0.069264</td>\n",
       "      <td>0.038961</td>\n",
       "      <td>0.025974</td>\n",
       "      <td>0.030303</td>\n",
       "      <td>0.008658</td>\n",
       "      <td>0.021645</td>\n",
       "    </tr>\n",
       "    <tr>\n",
       "      <th>MAMMALIA</th>\n",
       "      <td>0.027304</td>\n",
       "      <td>0.096416</td>\n",
       "      <td>0.197952</td>\n",
       "      <td>0.284130</td>\n",
       "      <td>0.147611</td>\n",
       "      <td>0.099829</td>\n",
       "      <td>0.051195</td>\n",
       "      <td>0.038396</td>\n",
       "      <td>0.017065</td>\n",
       "      <td>0.019625</td>\n",
       "      <td>0.020478</td>\n",
       "    </tr>\n",
       "    <tr>\n",
       "      <th>MYXINI</th>\n",
       "      <td>0.000000</td>\n",
       "      <td>0.500000</td>\n",
       "      <td>0.500000</td>\n",
       "      <td>0.000000</td>\n",
       "      <td>0.000000</td>\n",
       "      <td>0.000000</td>\n",
       "      <td>0.000000</td>\n",
       "      <td>0.000000</td>\n",
       "      <td>0.000000</td>\n",
       "      <td>0.000000</td>\n",
       "      <td>0.000000</td>\n",
       "    </tr>\n",
       "    <tr>\n",
       "      <th>PINOPSIDA</th>\n",
       "      <td>0.000000</td>\n",
       "      <td>0.000000</td>\n",
       "      <td>0.000000</td>\n",
       "      <td>0.000000</td>\n",
       "      <td>0.000000</td>\n",
       "      <td>0.000000</td>\n",
       "      <td>0.000000</td>\n",
       "      <td>0.000000</td>\n",
       "      <td>0.000000</td>\n",
       "      <td>1.000000</td>\n",
       "      <td>0.000000</td>\n",
       "    </tr>\n",
       "    <tr>\n",
       "      <th>POLYPODIOPSIDA</th>\n",
       "      <td>0.000000</td>\n",
       "      <td>0.400000</td>\n",
       "      <td>0.200000</td>\n",
       "      <td>0.200000</td>\n",
       "      <td>0.000000</td>\n",
       "      <td>0.000000</td>\n",
       "      <td>0.200000</td>\n",
       "      <td>0.000000</td>\n",
       "      <td>0.000000</td>\n",
       "      <td>0.000000</td>\n",
       "      <td>0.000000</td>\n",
       "    </tr>\n",
       "    <tr>\n",
       "      <th>REPTILIA</th>\n",
       "      <td>0.000000</td>\n",
       "      <td>0.134021</td>\n",
       "      <td>0.278351</td>\n",
       "      <td>0.257732</td>\n",
       "      <td>0.134021</td>\n",
       "      <td>0.092784</td>\n",
       "      <td>0.041237</td>\n",
       "      <td>0.000000</td>\n",
       "      <td>0.010309</td>\n",
       "      <td>0.010309</td>\n",
       "      <td>0.041237</td>\n",
       "    </tr>\n",
       "    <tr>\n",
       "      <th>SARCOPTERYGII</th>\n",
       "      <td>0.000000</td>\n",
       "      <td>0.000000</td>\n",
       "      <td>0.333333</td>\n",
       "      <td>0.500000</td>\n",
       "      <td>0.166667</td>\n",
       "      <td>0.000000</td>\n",
       "      <td>0.000000</td>\n",
       "      <td>0.000000</td>\n",
       "      <td>0.000000</td>\n",
       "      <td>0.000000</td>\n",
       "      <td>0.000000</td>\n",
       "    </tr>\n",
       "  </tbody>\n",
       "</table>\n",
       "</div>"
      ],
      "text/plain": [
       "discrete_per             0         10        20        30        40   \\\n",
       "class                                                                  \n",
       "ACTINOPTERYGII      0.025912  0.184030  0.416975  0.189318  0.078794   \n",
       "AGARICOMYCETES      0.000000  0.000000  0.000000  0.000000  0.125000   \n",
       "AMPHIBIA            0.012605  0.079832  0.247899  0.243697  0.151261   \n",
       "AVES                0.018892  0.076826  0.273300  0.288413  0.154282   \n",
       "BIVALVIA            0.014925  0.044776  0.358209  0.328358  0.194030   \n",
       "CEPHALASPIDOMORPHI  0.000000  0.000000  0.250000  0.250000  0.000000   \n",
       "CHONDRICHTHYES      0.007018  0.228070  0.368421  0.245614  0.080702   \n",
       "CLITELLATA          0.000000  0.000000  0.000000  0.000000  0.000000   \n",
       "GASTROPODA          0.027778  0.013889  0.222222  0.236111  0.097222   \n",
       "HOLOTHUROIDEA       0.000000  0.080000  0.706667  0.106667  0.040000   \n",
       "LILIOPSIDA          0.000000  0.108696  0.108696  0.250000  0.152174   \n",
       "MAGNOLIOPSIDA       0.021739  0.065217  0.130435  0.202899  0.094203   \n",
       "MALACOSTRACA        0.043290  0.151515  0.229437  0.207792  0.173160   \n",
       "MAMMALIA            0.027304  0.096416  0.197952  0.284130  0.147611   \n",
       "MYXINI              0.000000  0.500000  0.500000  0.000000  0.000000   \n",
       "PINOPSIDA           0.000000  0.000000  0.000000  0.000000  0.000000   \n",
       "POLYPODIOPSIDA      0.000000  0.400000  0.200000  0.200000  0.000000   \n",
       "REPTILIA            0.000000  0.134021  0.278351  0.257732  0.134021   \n",
       "SARCOPTERYGII       0.000000  0.000000  0.333333  0.500000  0.166667   \n",
       "\n",
       "discrete_per             50        60        70        80        90        100  \n",
       "class                                                                           \n",
       "ACTINOPTERYGII      0.041248  0.018773  0.012692  0.007668  0.009519  0.015071  \n",
       "AGARICOMYCETES      0.125000  0.000000  0.000000  0.250000  0.375000  0.125000  \n",
       "AMPHIBIA            0.109244  0.037815  0.025210  0.033613  0.021008  0.037815  \n",
       "AVES                0.077456  0.040302  0.013854  0.019521  0.011335  0.025819  \n",
       "BIVALVIA            0.029851  0.000000  0.000000  0.000000  0.014925  0.014925  \n",
       "CEPHALASPIDOMORPHI  0.000000  0.000000  0.250000  0.000000  0.250000  0.000000  \n",
       "CHONDRICHTHYES      0.049123  0.007018  0.003509  0.007018  0.003509  0.000000  \n",
       "CLITELLATA          0.000000  0.000000  0.000000  0.000000  0.000000  1.000000  \n",
       "GASTROPODA          0.069444  0.013889  0.041667  0.125000  0.069444  0.083333  \n",
       "HOLOTHUROIDEA       0.040000  0.000000  0.000000  0.013333  0.000000  0.013333  \n",
       "LILIOPSIDA          0.086957  0.076087  0.054348  0.086957  0.065217  0.010870  \n",
       "MAGNOLIOPSIDA       0.050725  0.072464  0.050725  0.101449  0.123188  0.086957  \n",
       "MALACOSTRACA        0.069264  0.038961  0.025974  0.030303  0.008658  0.021645  \n",
       "MAMMALIA            0.099829  0.051195  0.038396  0.017065  0.019625  0.020478  \n",
       "MYXINI              0.000000  0.000000  0.000000  0.000000  0.000000  0.000000  \n",
       "PINOPSIDA           0.000000  0.000000  0.000000  0.000000  1.000000  0.000000  \n",
       "POLYPODIOPSIDA      0.000000  0.200000  0.000000  0.000000  0.000000  0.000000  \n",
       "REPTILIA            0.092784  0.041237  0.000000  0.010309  0.010309  0.041237  \n",
       "SARCOPTERYGII       0.000000  0.000000  0.000000  0.000000  0.000000  0.000000  "
      ]
     },
     "execution_count": 103,
     "metadata": {},
     "output_type": "execute_result"
    }
   ],
   "source": [
    "gap_table_normalise(species_result_attr)"
   ]
  },
  {
   "cell_type": "markdown",
   "metadata": {},
   "source": [
    "***Rodrigues 2004* style graph**"
   ]
  },
  {
   "cell_type": "code",
   "execution_count": 104,
   "metadata": {},
   "outputs": [],
   "source": [
    "def gap_graph(df, title):\n",
    "    # df: the filtered 'species_result_attr'\n",
    "    # 1. pivot table for margin count\n",
    "    # 2. cross tabulation for normalise count\n",
    "    pvt = gap_table(df)\n",
    "    ctb = gap_table_normalise(df)\n",
    "    \n",
    "    # 3. plot\n",
    "    fig, axes = plt.subplots(1, figsize=(12,14))\n",
    "    ctb.sort_index(ascending=False).plot.barh(stacked=True, cmap='RdYlGn', ax=axes)\n",
    "    \n",
    "    # fine tune graph\n",
    "    axes.legend(loc='lower center', bbox_to_anchor=(0.5,-0.1), ncol=11)\n",
    "    axes.set_title(title)\n",
    "    axes.set_ylabel('')\n",
    "\n",
    "    # use the margin column 'All', i.e. sum\n",
    "    for i, each in enumerate(zip(pvt.index, pvt['All'])):\n",
    "        axes.annotate(s='{:.0f}'.format(each[1]), xy=(1.005, ctb.index.size-1-i), verticalalignment='center')\n",
    "        \n",
    "#     return fig"
   ]
  },
  {
   "cell_type": "code",
   "execution_count": 105,
   "metadata": {
    "scrolled": false
   },
   "outputs": [
    {
     "data": {
      "image/png": "[encoded data removed]",
      "text/plain": [
       "<matplotlib.figure.Figure at 0x9a51b00>"
      ]
     },
     "metadata": {},
     "output_type": "display_data"
    }
   ],
   "source": [
    "gap_graph(species_result_attr, title='Proportions of gap, partial gap, and covered species across different taxa')"
   ]
  },
  {
   "cell_type": "code",
   "execution_count": 106,
   "metadata": {},
   "outputs": [
    {
     "data": {
      "image/png": "[encoded data removed]",
      "text/plain": [
       "<matplotlib.figure.Figure at 0x99d6eb8>"
      ]
     },
     "metadata": {},
     "output_type": "display_data"
    }
   ],
   "source": [
    "gap_graph(species_result_attr[species_result_attr.code.isin(['VU', 'CR', 'EN'])],\n",
    "        title='(Threatened) Proportions of gap, partial gap, and covered species across different taxa')"
   ]
  },
  {
   "cell_type": "markdown",
   "metadata": {},
   "source": [
    "Create a pack for each export. It will include two tables and two graphs"
   ]
  },
  {
   "cell_type": "code",
   "execution_count": 163,
   "metadata": {},
   "outputs": [],
   "source": [
    "def pack_export(df, title, index, columns):\n",
    "    \n",
    "    # create table and export\n",
    "    pvt = gap_table_mk2(df, index, columns)\n",
    "    ctb = gap_table_normalise_mk2(df, index, columns)\n",
    "    \n",
    "    if not os.path.exists('output'):\n",
    "        os.mkdir('output')\n",
    "    \n",
    "    pvt_csv = 'output' + os.sep + title + '_count.csv'\n",
    "    ctb_csv = 'output' + os.sep + title + '_normalise.csv'\n",
    "    \n",
    "    pvt.to_csv(pvt_csv)\n",
    "    ctb.to_csv(ctb_csv)\n",
    "    \n",
    "    # plotting\n",
    "    fig, axes = plt.subplots(1, figsize=(12,14))\n",
    "    ctb.sort_index(ascending=False).plot.barh(stacked=True, cmap='RdYlGn', ax=axes)\n",
    "    \n",
    "    # fine tune graph\n",
    "    axes.legend(loc='lower center', bbox_to_anchor=(0.5,-0.1), ncol=11)\n",
    "    axes.set_title(title)\n",
    "    axes.set_ylabel('')\n",
    "\n",
    "    # use the margin column 'All', i.e. sum\n",
    "    for i, each in enumerate(zip(pvt.index, pvt['All'])):\n",
    "        axes.annotate(s='{:.0f}'.format(each[1]), xy=(1.005, ctb.index.size-1-i), verticalalignment='center')\n",
    "    \n",
    "    fig_png = 'output' + os.sep + title + '.png'\n",
    "    fig.savefig(fig_png)\n",
    "    \n",
    "    plt.close(fig)\n",
    "#     return fig"
   ]
  },
  {
   "cell_type": "code",
   "execution_count": 187,
   "metadata": {},
   "outputs": [],
   "source": [
    "# distribution of per and targets\n",
    "\n",
    "pack_export(species_result_attr, \n",
    "            title='Targets of gap, partial gap, and covered species across different taxa', \n",
    "            index='class', columns='discrete_target')\n",
    "\n",
    "pack_export(species_result_attr, \n",
    "            title='Proportions of species covered by protected areas across different taxa', \n",
    "            index='class', columns='discrete_per')\n",
    "\n",
    "pack_export(species_result_attr[species_result_attr.threaten=='Threatened'], \n",
    "            title='Targets of gap, partial gap, and covered species across different taxa (Threatened)', \n",
    "            index='class', columns='discrete_target')\n",
    "\n",
    "pack_export(species_result_attr[species_result_attr.threaten=='Threatened'], \n",
    "            title='Proportions of species covered by protected areas across different taxa (Threatened)', \n",
    "            index='class', columns='discrete_per')"
   ]
  },
  {
   "cell_type": "code",
   "execution_count": 172,
   "metadata": {},
   "outputs": [],
   "source": [
    "# distribution of gap species\n",
    "\n",
    "pack_export(species_result_attr, \n",
    "            title='Proportions of gap, partial gap, and covered species across different taxa', \n",
    "            index='class', columns='gap_status')\n",
    "\n",
    "# threaten\n",
    "pack_export(species_result_attr[species_result_attr.threaten=='Threatened'], \n",
    "            title='Proportions of gap, partial gap, and covered species across different taxa (threatened)', \n",
    "            index='class', columns='gap_status')\n",
    "                                \n",
    "# by IUCN cat\n",
    "pack_export(species_result_attr, \n",
    "            title='Proportions of gap, partial gap, and covered species by IUCN category',\n",
    "            index='code', columns='gap_status')\n",
    "\n",
    "# by IUCN cat for Mammals\n",
    "pack_export(species_result_attr[species_result_attr['class']=='MAMMALIA'], \n",
    "            title='Proportions of gap, partial gap, and covered mammals by IUCN category',\n",
    "            index='code', columns='gap_status')"
   ]
  },
  {
   "cell_type": "markdown",
   "metadata": {},
   "source": [
    "#### Top protected areas"
   ]
  },
  {
   "cell_type": "code",
   "execution_count": 181,
   "metadata": {},
   "outputs": [],
   "source": [
    "sample_wdpa_hex = wdpa_hex.head(5000)\n",
    "sample_bfa_hex = bfa_hex.head(5000)"
   ]
  },
  {
   "cell_type": "code",
   "execution_count": null,
   "metadata": {},
   "outputs": [],
   "source": [
    "# result: wdpaid, id_no, uniquecount of hex\n",
    "# input: df in the form of row_id, id\n",
    "\n",
    "# only consider\n",
    "wdpa_hex_filter = wdpa_hex[wdpa_hex.hexid.isin(protected_hexid)]\n",
    "\n",
    "# join wdpa with bfa result using hexid\n",
    "df_join = pd.merge(wdpa_hex_filter, df, on='hexid')\n",
    "\n",
    "# join bfa_hex_lu to get id_no\n",
    "df_join = pd.merge(df_join, bfa_hex_lu_filter, on='hexid')\n",
    "\n",
    "\n",
    "pa_species = df_join.groupby(['wdpaid', 'id_no']).hexid.nunique().reset_index()"
   ]
  },
  {
   "cell_type": "code",
   "execution_count": null,
   "metadata": {},
   "outputs": [],
   "source": []
  },
  {
   "cell_type": "code",
   "execution_count": null,
   "metadata": {},
   "outputs": [],
   "source": [
    "pa_species = pa_species.astype('uint32')"
   ]
  },
  {
   "cell_type": "code",
   "execution_count": null,
   "metadata": {},
   "outputs": [],
   "source": [
    "pa_species.info()"
   ]
  },
  {
   "cell_type": "code",
   "execution_count": null,
   "metadata": {},
   "outputs": [],
   "source": [
    "pa_species = pd.merge(pa_species, bfa_hex_lu_filter, on='row_id')"
   ]
  },
  {
   "cell_type": "code",
   "execution_count": null,
   "metadata": {},
   "outputs": [],
   "source": [
    "pa_species.head()"
   ]
  },
  {
   "cell_type": "code",
   "execution_count": null,
   "metadata": {},
   "outputs": [],
   "source": [
    "pa_species_fields = ['wdpaid', 'row_id', 'id_no', 'binomial','kingdom', 'phylum', 'class', 'order_', 'family', 'genus', 'code', 'biome_marine', 'biome_freshwater', 'biome_terrestrial', 'hexid']\n",
    "pa_species[pa_species_fields]\n"
   ]
  },
  {
   "cell_type": "code",
   "execution_count": null,
   "metadata": {
    "scrolled": true
   },
   "outputs": [],
   "source": [
    "wdpa_hex_lu_filter.head()"
   ]
  },
  {
   "cell_type": "code",
   "execution_count": null,
   "metadata": {},
   "outputs": [],
   "source": []
  },
  {
   "cell_type": "markdown",
   "metadata": {},
   "source": [
    "## TEST - DO NOT USE"
   ]
  },
  {
   "cell_type": "code",
   "execution_count": null,
   "metadata": {},
   "outputs": [],
   "source": [
    "bfa_hex_lu_filter"
   ]
  },
  {
   "cell_type": "code",
   "execution_count": null,
   "metadata": {},
   "outputs": [],
   "source": [
    "import datetime, time"
   ]
  },
  {
   "cell_type": "code",
   "execution_count": null,
   "metadata": {},
   "outputs": [],
   "source": [
    "datetime.datetime.now().strftime('%c')\n"
   ]
  },
  {
   "cell_type": "code",
   "execution_count": null,
   "metadata": {},
   "outputs": [],
   "source": [
    "a.strftime('%x-%X')"
   ]
  },
  {
   "cell_type": "code",
   "execution_count": null,
   "metadata": {},
   "outputs": [],
   "source": [
    "a.strftime('%c')"
   ]
  },
  {
   "cell_type": "code",
   "execution_count": null,
   "metadata": {},
   "outputs": [],
   "source": [
    "time.time()"
   ]
  },
  {
   "cell_type": "code",
   "execution_count": null,
   "metadata": {},
   "outputs": [],
   "source": [
    "datetime.datetime.fromtimestamp(time.time())"
   ]
  },
  {
   "cell_type": "code",
   "execution_count": null,
   "metadata": {},
   "outputs": [],
   "source": []
  },
  {
   "cell_type": "code",
   "execution_count": null,
   "metadata": {},
   "outputs": [],
   "source": [
    "bfa_sample1 = bfa_hex.head(10000)\n",
    "bfa_sample2 = bfa_hex.tail(10000)"
   ]
  },
  {
   "cell_type": "code",
   "execution_count": null,
   "metadata": {},
   "outputs": [],
   "source": [
    "bfa_sample1_valid = bfa_sample1[~bfa_sample1.hexid.isin(invalid_hex.hexid)]"
   ]
  },
  {
   "cell_type": "code",
   "execution_count": null,
   "metadata": {},
   "outputs": [],
   "source": [
    "bfa_sample1_valid.head()"
   ]
  },
  {
   "cell_type": "code",
   "execution_count": null,
   "metadata": {},
   "outputs": [],
   "source": [
    "bfa_hex_lu_filter.head()"
   ]
  },
  {
   "cell_type": "code",
   "execution_count": null,
   "metadata": {},
   "outputs": [],
   "source": [
    "bfa_sample1_valid_join2 = pd.merge(bfa_sample1_valid, bfa_hex_lu_filter, on='row_id')"
   ]
  },
  {
   "cell_type": "code",
   "execution_count": null,
   "metadata": {},
   "outputs": [],
   "source": [
    "bfa_sample1_valid_join2.head()"
   ]
  },
  {
   "cell_type": "code",
   "execution_count": null,
   "metadata": {},
   "outputs": [],
   "source": [
    "timeit bfa_sample1_valid_join2.pivot_table(values='hexid', index=['id_no'],aggfunc=count_unique, fill_value=0)"
   ]
  },
  {
   "cell_type": "code",
   "execution_count": null,
   "metadata": {},
   "outputs": [],
   "source": [
    "timeit bfa_sample1_valid_join2.groupby('id_no').hexid.nunique()"
   ]
  },
  {
   "cell_type": "code",
   "execution_count": null,
   "metadata": {},
   "outputs": [],
   "source": []
  },
  {
   "cell_type": "code",
   "execution_count": null,
   "metadata": {},
   "outputs": [],
   "source": [
    "bfa_sample1_valid_join = bfa_sample1_valid.join(bfa_hex_lu_filter, on='row_id', rsuffix='r_')"
   ]
  },
  {
   "cell_type": "code",
   "execution_count": null,
   "metadata": {},
   "outputs": [],
   "source": [
    "bfa_sample1_valid_join.head()"
   ]
  },
  {
   "cell_type": "code",
   "execution_count": null,
   "metadata": {},
   "outputs": [],
   "source": [
    "bfa_sample1_valid_join.info()"
   ]
  },
  {
   "cell_type": "code",
   "execution_count": null,
   "metadata": {},
   "outputs": [],
   "source": [
    "bfa_sample1_valid_join.binomial.unique()"
   ]
  },
  {
   "cell_type": "code",
   "execution_count": null,
   "metadata": {},
   "outputs": [],
   "source": [
    "a = bfa_sample1_valid_join.pivot_table(values='hexid', index=['id_no'],aggfunc=count_unique, fill_value=0)"
   ]
  },
  {
   "cell_type": "code",
   "execution_count": null,
   "metadata": {},
   "outputs": [],
   "source": [
    "wdpa_hex[wdpa_hex.wdpaid.isin(wdpa_hex_lu_filter.WDPAID)].hexid.size"
   ]
  },
  {
   "cell_type": "code",
   "execution_count": null,
   "metadata": {},
   "outputs": [],
   "source": [
    "bfa_sample1_valid_protected = bfa_sample1[(~bfa_sample1.hexid.isin(invalid_hex.hexid)) & (bfa_sample1.hexid.isin(protected_hexid))]"
   ]
  },
  {
   "cell_type": "code",
   "execution_count": null,
   "metadata": {},
   "outputs": [],
   "source": [
    "bfa_sample1_valid_protected_join =  bfa_sample1_valid_protected.join(bfa_hex_lu_filter, on='row_id', rsuffix='r_')"
   ]
  },
  {
   "cell_type": "code",
   "execution_count": null,
   "metadata": {},
   "outputs": [],
   "source": [
    "bfa_sample1_valid_protected_join.head()"
   ]
  },
  {
   "cell_type": "code",
   "execution_count": null,
   "metadata": {},
   "outputs": [],
   "source": [
    "aa = bfa_sample1_valid_protected_join.pivot_table(values='hexid', index=['id_no'],aggfunc=count_unique, fill_value=0)"
   ]
  },
  {
   "cell_type": "code",
   "execution_count": null,
   "metadata": {},
   "outputs": [],
   "source": [
    "a.head()"
   ]
  },
  {
   "cell_type": "code",
   "execution_count": null,
   "metadata": {},
   "outputs": [],
   "source": [
    "aa.head()"
   ]
  },
  {
   "cell_type": "code",
   "execution_count": null,
   "metadata": {},
   "outputs": [],
   "source": [
    "a.join(aa, rsuffix='_p')"
   ]
  },
  {
   "cell_type": "code",
   "execution_count": null,
   "metadata": {},
   "outputs": [],
   "source": [
    "def count_hex(df):\n",
    "    # df in the form of id, hex_id\n",
    "    df_join = pd.merge(df, bfa_hex_lu_filter, on='row_id')\n",
    "    return df_join.groupby('id_no').hexid.nunique()\n",
    "\n",
    "def count_protected_hex(df):\n",
    "    df_protected = df[df.hexid.isin(protected_hexid)]\n",
    "    return count_hex(df_protected)\n",
    "\n",
    "def reduce_hex(a, b):\n",
    "    return a.append(b).groupby('id_no').sum()"
   ]
  },
  {
   "cell_type": "code",
   "execution_count": null,
   "metadata": {},
   "outputs": [],
   "source": [
    "a = count_hex(bfa_sample1_valid)"
   ]
  },
  {
   "cell_type": "code",
   "execution_count": null,
   "metadata": {},
   "outputs": [],
   "source": [
    "aa = count_protected_hex(bfa_sample1_valid)"
   ]
  },
  {
   "cell_type": "code",
   "execution_count": null,
   "metadata": {},
   "outputs": [],
   "source": [
    "pd.concat([a, aa], axis=1)"
   ]
  },
  {
   "cell_type": "code",
   "execution_count": null,
   "metadata": {},
   "outputs": [],
   "source": [
    "b = count_hex(bfa_sample2)"
   ]
  },
  {
   "cell_type": "code",
   "execution_count": null,
   "metadata": {},
   "outputs": [],
   "source": [
    "bb = count_protected_hex(bfa_sample2)"
   ]
  },
  {
   "cell_type": "code",
   "execution_count": null,
   "metadata": {},
   "outputs": [],
   "source": [
    "b"
   ]
  },
  {
   "cell_type": "code",
   "execution_count": null,
   "metadata": {},
   "outputs": [],
   "source": [
    "bb"
   ]
  },
  {
   "cell_type": "code",
   "execution_count": null,
   "metadata": {},
   "outputs": [],
   "source": [
    "pd.merge?"
   ]
  },
  {
   "cell_type": "code",
   "execution_count": null,
   "metadata": {},
   "outputs": [],
   "source": [
    "timeit a.append(b)"
   ]
  },
  {
   "cell_type": "code",
   "execution_count": null,
   "metadata": {},
   "outputs": [],
   "source": [
    "timeit pd.concat([a,b])"
   ]
  },
  {
   "cell_type": "code",
   "execution_count": null,
   "metadata": {},
   "outputs": [],
   "source": [
    "a"
   ]
  },
  {
   "cell_type": "code",
   "execution_count": null,
   "metadata": {},
   "outputs": [],
   "source": [
    "aa = a.append(a)"
   ]
  },
  {
   "cell_type": "code",
   "execution_count": null,
   "metadata": {},
   "outputs": [],
   "source": [
    "aa"
   ]
  },
  {
   "cell_type": "code",
   "execution_count": null,
   "metadata": {},
   "outputs": [],
   "source": [
    "aa.groupby('id_no').sum()"
   ]
  },
  {
   "cell_type": "code",
   "execution_count": null,
   "metadata": {},
   "outputs": [],
   "source": [
    "reduce_hex(a,a)"
   ]
  },
  {
   "cell_type": "code",
   "execution_count": null,
   "metadata": {},
   "outputs": [],
   "source": [
    "reduce_hex(a,b)"
   ]
  },
  {
   "cell_type": "code",
   "execution_count": null,
   "metadata": {},
   "outputs": [],
   "source": [
    "from functools import reduce"
   ]
  },
  {
   "cell_type": "code",
   "execution_count": null,
   "metadata": {},
   "outputs": [],
   "source": [
    "reduce(reduce_hex, [a,b,a,a,b])"
   ]
  },
  {
   "cell_type": "code",
   "execution_count": null,
   "metadata": {},
   "outputs": [],
   "source": [
    "aa"
   ]
  },
  {
   "cell_type": "code",
   "execution_count": null,
   "metadata": {},
   "outputs": [],
   "source": []
  },
  {
   "cell_type": "code",
   "execution_count": null,
   "metadata": {},
   "outputs": [],
   "source": [
    "species_result_attr.head()"
   ]
  },
  {
   "cell_type": "code",
   "execution_count": null,
   "metadata": {},
   "outputs": [],
   "source": [
    "aa = species_result_attr.pivot_table(index='class', values='id_no', \n",
    "                                columns='discrete_per', aggfunc=np.count_nonzero, fill_value=0, margins=True)"
   ]
  },
  {
   "cell_type": "code",
   "execution_count": null,
   "metadata": {},
   "outputs": [],
   "source": [
    "a = pd.crosstab(species_result_attr['class'], species_result_attr['discrete_per'],\n",
    "            values='id_no', aggfunc=np.count_nonzero, normalize='index')\n",
    "a.fillna(0)"
   ]
  },
  {
   "cell_type": "code",
   "execution_count": null,
   "metadata": {},
   "outputs": [],
   "source": [
    "a"
   ]
  },
  {
   "cell_type": "code",
   "execution_count": null,
   "metadata": {},
   "outputs": [],
   "source": [
    "gap_graph(species_result_attr, title='Proportions of gap, partial gap, and covered species across different taxa')"
   ]
  },
  {
   "cell_type": "markdown",
   "metadata": {},
   "source": [
    "Looking at mammals for example"
   ]
  },
  {
   "cell_type": "code",
   "execution_count": null,
   "metadata": {},
   "outputs": [],
   "source": [
    "species_result_attr[species_result_attr['class']=='MAMMALIA'].plot.scatter('count', 'per')"
   ]
  },
  {
   "cell_type": "code",
   "execution_count": null,
   "metadata": {},
   "outputs": [],
   "source": [
    "species_result_attr[species_result_attr['class']=='MAMMALIA'].plot.hexbin(x='count', y='per',\n",
    "                                                                          gridsize=50, xscale='log',\n",
    "#                                                                           color='red'\n",
    "                                                                         )"
   ]
  },
  {
   "cell_type": "code",
   "execution_count": null,
   "metadata": {},
   "outputs": [],
   "source": [
    "plt.scatter(species_result_attr['count'], species_result_attr['per'])"
   ]
  },
  {
   "cell_type": "markdown",
   "metadata": {},
   "source": [
    "TEST"
   ]
  },
  {
   "cell_type": "code",
   "execution_count": null,
   "metadata": {},
   "outputs": [],
   "source": [
    "wdpa_hex.columns"
   ]
  },
  {
   "cell_type": "code",
   "execution_count": null,
   "metadata": {},
   "outputs": [],
   "source": [
    "bfa_hex.columns"
   ]
  },
  {
   "cell_type": "code",
   "execution_count": null,
   "metadata": {},
   "outputs": [],
   "source": [
    "bfa_hex[bfa_hex.row_id==8440]"
   ]
  },
  {
   "cell_type": "code",
   "execution_count": null,
   "metadata": {},
   "outputs": [],
   "source": [
    "bfa_hex.head()"
   ]
  },
  {
   "cell_type": "code",
   "execution_count": null,
   "metadata": {
    "scrolled": false
   },
   "outputs": [],
   "source": [
    "bfa_hex_lu_filter[bfa_hex_lu_filter.id_no==60121]"
   ]
  },
  {
   "cell_type": "code",
   "execution_count": null,
   "metadata": {},
   "outputs": [],
   "source": [
    "!dir"
   ]
  },
  {
   "cell_type": "code",
   "execution_count": null,
   "metadata": {},
   "outputs": [],
   "source": []
  },
  {
   "cell_type": "code",
   "execution_count": null,
   "metadata": {},
   "outputs": [],
   "source": [
    "g = sns.FacetGrid(species_result_attr, row='class', \n",
    "                  hue='threaten', \n",
    "                  size=4, aspect=4\n",
    "                 )\n",
    "g = (g.map(sns.distplot, 'per', bins=10, rug=True)).add_legend()"
   ]
  },
  {
   "cell_type": "code",
   "execution_count": null,
   "metadata": {},
   "outputs": [],
   "source": [
    "def per_count_relationship(species_class):\n",
    "    species_class = species_result_attr[species_result_attr['class'] ==species_class]\n",
    "\n",
    "# plt.figure(figsize=(15,5))\n",
    "    g = sns.lmplot('count', 'per', data=species_class, hue='threaten', fit_reg=False, size=10, palette='coolwarm')\n",
    "    g.set(xscale=\"log\")"
   ]
  },
  {
   "cell_type": "code",
   "execution_count": null,
   "metadata": {},
   "outputs": [],
   "source": [
    "per_count_relationship('REPTILIA')"
   ]
  },
  {
   "cell_type": "code",
   "execution_count": null,
   "metadata": {},
   "outputs": [],
   "source": [
    "aves = species_result_attr[species_result_attr['class'] =='AVES']\n",
    "\n",
    "# plt.figure(figsize=(15,5))\n",
    "g = sns.lmplot('count', 'per', data=aves, hue='threaten', fit_reg=False, size=12, palette='coolwarm')\n",
    "g.set(xscale=\"log\")"
   ]
  },
  {
   "cell_type": "markdown",
   "metadata": {},
   "source": [
    "#### Check failed species"
   ]
  },
  {
   "cell_type": "markdown",
   "metadata": {},
   "source": [
    "Check the number of species in the result"
   ]
  },
  {
   "cell_type": "code",
   "execution_count": null,
   "metadata": {},
   "outputs": [],
   "source": [
    "species_result.index.unique().size"
   ]
  },
  {
   "cell_type": "code",
   "execution_count": null,
   "metadata": {},
   "outputs": [],
   "source": [
    "species_result.index.size"
   ]
  },
  {
   "cell_type": "code",
   "execution_count": null,
   "metadata": {},
   "outputs": [],
   "source": [
    "np.setdiff1d(bfa_hex_lu.id_no.unique(), species_result.index)"
   ]
  },
  {
   "cell_type": "code",
   "execution_count": null,
   "metadata": {},
   "outputs": [],
   "source": [
    "np.setdiff1d(bfa_hex_lu.id_no.unique(), species_result.index).size"
   ]
  },
  {
   "cell_type": "markdown",
   "metadata": {},
   "source": [
    "24 species do not have any hex cell - this is not right. Every species **must** have at least one cell"
   ]
  },
  {
   "cell_type": "code",
   "execution_count": null,
   "metadata": {},
   "outputs": [],
   "source": [
    "np.setdiff1d(species_result.index, bfa_hex_lu.id_no.unique())"
   ]
  },
  {
   "cell_type": "markdown",
   "metadata": {},
   "source": [
    "**Potential issue in the analysis, missing species**\n",
    "\n",
    "There is a difference between the unique number of IDs in the hex result and the look up table.\n",
    "\n",
    "**!AP: investigate the reason of failure and remedy!**"
   ]
  },
  {
   "cell_type": "markdown",
   "metadata": {},
   "source": [
    "Re-run those failed species"
   ]
  },
  {
   "cell_type": "code",
   "execution_count": null,
   "metadata": {},
   "outputs": [],
   "source": [
    "bfa_hex_add_failed = pd.read_csv('hex_bfa_add.csv.gz', skipinitialspace=True)\n",
    "bfa_hex_add_failed.row_id.unique()"
   ]
  },
  {
   "cell_type": "markdown",
   "metadata": {},
   "source": [
    "Still failed, possibly due to large godzilla polygons, dice them and re-run"
   ]
  },
  {
   "cell_type": "code",
   "execution_count": null,
   "metadata": {},
   "outputs": [],
   "source": [
    "bfa_hex_add_failed_dice = pd.read_csv('hex_bfa_add_dice.csv.gz', skipinitialspace=True)\n",
    "bfa_hex_add_failed_dice.row_id.unique()"
   ]
  },
  {
   "cell_type": "code",
   "execution_count": null,
   "metadata": {},
   "outputs": [],
   "source": [
    "bfa_hex_lu_filter[bfa_hex_lu_filter.row_id.isin([14511, 2601, 13477, 11316,  5953,  6824,  4783, 12144, 14269,\n",
    "        8175,  7120,   594, 12887,  3168,  8440,  2417,  6079,  8176,\n",
    "        5313,  1650,  4732,  9701,  6390,  4862])].id_no.unique().size"
   ]
  },
  {
   "cell_type": "markdown",
   "metadata": {},
   "source": [
    "The dice method appears to work - all the missing species have now been added, except one"
   ]
  },
  {
   "cell_type": "code",
   "execution_count": null,
   "metadata": {},
   "outputs": [],
   "source": [
    "np.setdiff1d(np.setdiff1d(bfa_hex_lu.id_no.unique(), species_result.index),\n",
    "            bfa_hex_lu_filter[bfa_hex_lu_filter.row_id.isin([14511, 2601, 13477, 11316,  5953,  6824,  4783, 12144, 14269,\n",
    "        8175,  7120,   594, 12887,  3168,  8440,  2417,  6079,  8176,\n",
    "        5313,  1650,  4732,  9701,  6390,  4862])].id_no.unique())"
   ]
  },
  {
   "cell_type": "markdown",
   "metadata": {},
   "source": [
    "Species of id 170349, *Allothunnus fallai* LC wide ranging fish across all oceans.\n",
    "\n",
    "The issue seems to be the 180/-180 or polygon holes. Clipping using natural earth 110m ocean layer seems to resolve the issue"
   ]
  },
  {
   "cell_type": "code",
   "execution_count": null,
   "metadata": {},
   "outputs": [],
   "source": [
    "bfa_hex_add_failed_dice_still_fail = pd.read_csv('hex_bfa_add_dice_still_fail.csv.gz', skipinitialspace=True)\n",
    "bfa_hex_add_failed_dice_still_fail.row_id.unique()"
   ]
  },
  {
   "cell_type": "code",
   "execution_count": null,
   "metadata": {},
   "outputs": [],
   "source": [
    "bfa_hex_add_failed = bfa_hex_add_failed_dice.append(bfa_hex_add_failed_dice_still_fail)"
   ]
  },
  {
   "cell_type": "code",
   "execution_count": null,
   "metadata": {},
   "outputs": [],
   "source": [
    "bfa_hex_lu_filter[bfa_hex_lu_filter.row_id.isin(bfa_hex_add_failed.row_id.unique())].id_no.unique().size"
   ]
  },
  {
   "cell_type": "markdown",
   "metadata": {},
   "source": [
    "Checked, the failed 24 species will need to be join to the big table. The new hexagon layer has already had the invalid hexagon cells remove and therefore there is no need to test validity"
   ]
  },
  {
   "cell_type": "code",
   "execution_count": null,
   "metadata": {},
   "outputs": [],
   "source": [
    "species_count_add = count_hex(bfa_hex_add_failed)\n",
    "protected_species_add = count_protected_hex(bfa_hex_add_failed)"
   ]
  },
  {
   "cell_type": "code",
   "execution_count": null,
   "metadata": {},
   "outputs": [],
   "source": [
    "species_result_add = pd.concat([species_count_add, protected_species_add], axis=1)\n",
    "species_result_add.columns = ['count', 'count_protected']\n",
    "species_result_add = species_result_add.fillna(0)\n",
    "species_result_add['per'] = species_result_add['count_protected']/species_result_add['count']"
   ]
  },
  {
   "cell_type": "code",
   "execution_count": null,
   "metadata": {},
   "outputs": [],
   "source": [
    "species_result_add_attr = pd.merge(species_result_add, species_attr, left_index=True, right_on='id_no')"
   ]
  },
  {
   "cell_type": "markdown",
   "metadata": {},
   "source": [
    "Add the failed species to the pool, use `species_result_attr`"
   ]
  },
  {
   "cell_type": "code",
   "execution_count": null,
   "metadata": {},
   "outputs": [],
   "source": [
    "species_result_attr = species_result_attr.append(species_result_add_attr)"
   ]
  },
  {
   "cell_type": "code",
   "execution_count": null,
   "metadata": {},
   "outputs": [],
   "source": [
    "species_result_attr.id_no.unique().size"
   ]
  },
  {
   "cell_type": "code",
   "execution_count": null,
   "metadata": {},
   "outputs": [],
   "source": [
    "sis_clean[sis_clean.id_no==176529]"
   ]
  },
  {
   "cell_type": "markdown",
   "metadata": {},
   "source": [
    "The number match now"
   ]
  }
 ],
 "metadata": {
  "kernelspec": {
   "display_name": "Python 3",
   "language": "python",
   "name": "python3"
  },
  "language_info": {
   "codemirror_mode": {
    "name": "ipython",
    "version": 3
   },
   "file_extension": ".py",
   "mimetype": "text/x-python",
   "name": "python",
   "nbconvert_exporter": "python",
   "pygments_lexer": "ipython3",
   "version": "3.6.3"
  },
  "toc": {
   "nav_menu": {},
   "number_sections": true,
   "sideBar": true,
   "skip_h1_title": false,
   "toc_cell": true,
   "toc_position": {
    "height": "927px",
    "left": "0px",
    "right": "1884px",
    "top": "67px",
    "width": "260px"
   },
   "toc_section_display": "block",
   "toc_window_display": true
  }
 },
 "nbformat": 4,
 "nbformat_minor": 2
}
